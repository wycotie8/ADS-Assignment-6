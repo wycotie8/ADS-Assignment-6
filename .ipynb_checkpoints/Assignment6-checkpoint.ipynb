{
 "cells": [
  {
   "cell_type": "markdown",
   "id": "9f7fc068",
   "metadata": {},
   "source": [
    "# ADS Data Visualization Assignment 6."
   ]
  },
  {
   "cell_type": "markdown",
   "id": "354e1114",
   "metadata": {},
   "source": [
    "# Using Plotly express as px, source the data using the command px.data.gapminder() and save it into a dataframe. Based on the data, map the following information with the appropriate geographical plot. Map out:"
   ]
  },
  {
   "cell_type": "code",
   "execution_count": 1,
   "id": "37fef900",
   "metadata": {},
   "outputs": [],
   "source": [
    "#Importing the requisite libraries\n",
    "import pandas as pd\n",
    "import plotly.graph_objects as go\n",
    "import plotly.express as px"
   ]
  },
  {
   "cell_type": "markdown",
   "id": "b96cab6c",
   "metadata": {},
   "source": [
    "# 1. The mean life expectancy of all the Asian countries according to the data."
   ]
  },
  {
   "cell_type": "code",
   "execution_count": 20,
   "id": "684d2e24",
   "metadata": {},
   "outputs": [],
   "source": [
    "Assign6 = px.data.gapminder().query(\"year == 2007\").query(\"continent == 'Asia'\")\n",
    "fig = px.pie(df, values='pop', names='country',\n",
    "             title='Life expectancy of Asian Countries',\n",
    "             hover_data=['lifeExp'], labels={'lifeExp':'life expectancy'})\n"
   ]
  },
  {
   "cell_type": "code",
   "execution_count": 16,
   "id": "a50c3c4c",
   "metadata": {},
   "outputs": [
    {
     "data": {
      "text/html": [
       "<div>\n",
       "<style scoped>\n",
       "    .dataframe tbody tr th:only-of-type {\n",
       "        vertical-align: middle;\n",
       "    }\n",
       "\n",
       "    .dataframe tbody tr th {\n",
       "        vertical-align: top;\n",
       "    }\n",
       "\n",
       "    .dataframe thead th {\n",
       "        text-align: right;\n",
       "    }\n",
       "</style>\n",
       "<table border=\"1\" class=\"dataframe\">\n",
       "  <thead>\n",
       "    <tr style=\"text-align: right;\">\n",
       "      <th></th>\n",
       "      <th>country</th>\n",
       "      <th>continent</th>\n",
       "      <th>year</th>\n",
       "      <th>lifeExp</th>\n",
       "      <th>pop</th>\n",
       "      <th>gdpPercap</th>\n",
       "      <th>iso_alpha</th>\n",
       "      <th>iso_num</th>\n",
       "    </tr>\n",
       "  </thead>\n",
       "  <tbody>\n",
       "    <tr>\n",
       "      <th>11</th>\n",
       "      <td>Afghanistan</td>\n",
       "      <td>Asia</td>\n",
       "      <td>2007</td>\n",
       "      <td>43.828</td>\n",
       "      <td>31889923</td>\n",
       "      <td>974.580338</td>\n",
       "      <td>AFG</td>\n",
       "      <td>4</td>\n",
       "    </tr>\n",
       "    <tr>\n",
       "      <th>95</th>\n",
       "      <td>Bahrain</td>\n",
       "      <td>Asia</td>\n",
       "      <td>2007</td>\n",
       "      <td>75.635</td>\n",
       "      <td>708573</td>\n",
       "      <td>29796.048340</td>\n",
       "      <td>BHR</td>\n",
       "      <td>48</td>\n",
       "    </tr>\n",
       "    <tr>\n",
       "      <th>107</th>\n",
       "      <td>Bangladesh</td>\n",
       "      <td>Asia</td>\n",
       "      <td>2007</td>\n",
       "      <td>64.062</td>\n",
       "      <td>150448339</td>\n",
       "      <td>1391.253792</td>\n",
       "      <td>BGD</td>\n",
       "      <td>50</td>\n",
       "    </tr>\n",
       "    <tr>\n",
       "      <th>227</th>\n",
       "      <td>Cambodia</td>\n",
       "      <td>Asia</td>\n",
       "      <td>2007</td>\n",
       "      <td>59.723</td>\n",
       "      <td>14131858</td>\n",
       "      <td>1713.778686</td>\n",
       "      <td>KHM</td>\n",
       "      <td>116</td>\n",
       "    </tr>\n",
       "    <tr>\n",
       "      <th>299</th>\n",
       "      <td>China</td>\n",
       "      <td>Asia</td>\n",
       "      <td>2007</td>\n",
       "      <td>72.961</td>\n",
       "      <td>1318683096</td>\n",
       "      <td>4959.114854</td>\n",
       "      <td>CHN</td>\n",
       "      <td>156</td>\n",
       "    </tr>\n",
       "  </tbody>\n",
       "</table>\n",
       "</div>"
      ],
      "text/plain": [
       "         country continent  year  lifeExp         pop     gdpPercap iso_alpha  \\\n",
       "11   Afghanistan      Asia  2007   43.828    31889923    974.580338       AFG   \n",
       "95       Bahrain      Asia  2007   75.635      708573  29796.048340       BHR   \n",
       "107   Bangladesh      Asia  2007   64.062   150448339   1391.253792       BGD   \n",
       "227     Cambodia      Asia  2007   59.723    14131858   1713.778686       KHM   \n",
       "299        China      Asia  2007   72.961  1318683096   4959.114854       CHN   \n",
       "\n",
       "     iso_num  \n",
       "11         4  \n",
       "95        48  \n",
       "107       50  \n",
       "227      116  \n",
       "299      156  "
      ]
     },
     "execution_count": 16,
     "metadata": {},
     "output_type": "execute_result"
    }
   ],
   "source": [
    "Assign6\n",
    "Assign6.head()"
   ]
  },
  {
   "cell_type": "code",
   "execution_count": 15,
   "id": "b2da767b",
   "metadata": {},
   "outputs": [
    {
     "data": {
      "text/plain": [
       "70.72848484848484"
      ]
     },
     "execution_count": 15,
     "metadata": {},
     "output_type": "execute_result"
    }
   ],
   "source": [
    "Assign6[\"lifeExp\"].mean()\n"
   ]
  },
  {
   "cell_type": "code",
   "execution_count": 19,
   "id": "ff6ce307",
   "metadata": {},
   "outputs": [
    {
     "data": {
      "application/vnd.plotly.v1+json": {
       "config": {
        "plotlyServerURL": "https://plot.ly"
       },
       "data": [
        {
         "coloraxis": "coloraxis",
         "geo": "geo",
         "hovertemplate": "<b>%{hovertext}</b><br><br>year=2007<br>iso_alpha=%{location}<br>lifeExp=%{z}<extra></extra>",
         "hovertext": [
          "Afghanistan",
          "Bahrain",
          "Bangladesh",
          "Cambodia",
          "China",
          "Hong Kong, China",
          "India",
          "Indonesia",
          "Iran",
          "Iraq",
          "Israel",
          "Japan",
          "Jordan",
          "Korea, Dem. Rep.",
          "Korea, Rep.",
          "Kuwait",
          "Lebanon",
          "Malaysia",
          "Mongolia",
          "Myanmar",
          "Nepal",
          "Oman",
          "Pakistan",
          "Philippines",
          "Saudi Arabia",
          "Singapore",
          "Sri Lanka",
          "Syria",
          "Taiwan",
          "Thailand",
          "Vietnam",
          "West Bank and Gaza",
          "Yemen, Rep."
         ],
         "locations": [
          "AFG",
          "BHR",
          "BGD",
          "KHM",
          "CHN",
          "HKG",
          "IND",
          "IDN",
          "IRN",
          "IRQ",
          "ISR",
          "JPN",
          "JOR",
          "KOR",
          "KOR",
          "KWT",
          "LBN",
          "MYS",
          "MNG",
          "MMR",
          "NPL",
          "OMN",
          "PAK",
          "PHL",
          "SAU",
          "SGP",
          "LKA",
          "SYR",
          "TWN",
          "THA",
          "VNM",
          "PSE",
          "YEM"
         ],
         "name": "",
         "type": "choropleth",
         "z": [
          43.828,
          75.635,
          64.062,
          59.723,
          72.961,
          82.208,
          64.69800000000001,
          70.65,
          70.964,
          59.545,
          80.745,
          82.603,
          72.535,
          67.297,
          78.623,
          77.58800000000002,
          71.993,
          74.241,
          66.803,
          62.069,
          63.785,
          75.64,
          65.483,
          71.688,
          72.777,
          79.972,
          72.396,
          74.143,
          78.4,
          70.616,
          74.249,
          73.422,
          62.698
         ]
        }
       ],
       "layout": {
        "coloraxis": {
         "colorbar": {
          "title": {
           "text": "lifeExp"
          }
         },
         "colorscale": [
          [
           0,
           "rgb(247,244,249)"
          ],
          [
           0.125,
           "rgb(231,225,239)"
          ],
          [
           0.25,
           "rgb(212,185,218)"
          ],
          [
           0.375,
           "rgb(201,148,199)"
          ],
          [
           0.5,
           "rgb(223,101,176)"
          ],
          [
           0.625,
           "rgb(231,41,138)"
          ],
          [
           0.75,
           "rgb(206,18,86)"
          ],
          [
           0.875,
           "rgb(152,0,67)"
          ],
          [
           1,
           "rgb(103,0,31)"
          ]
         ]
        },
        "geo": {
         "center": {},
         "domain": {
          "x": [
           0,
           1
          ],
          "y": [
           0,
           1
          ]
         }
        },
        "legend": {
         "tracegroupgap": 0
        },
        "template": {
         "data": {
          "bar": [
           {
            "error_x": {
             "color": "#2a3f5f"
            },
            "error_y": {
             "color": "#2a3f5f"
            },
            "marker": {
             "line": {
              "color": "#E5ECF6",
              "width": 0.5
             },
             "pattern": {
              "fillmode": "overlay",
              "size": 10,
              "solidity": 0.2
             }
            },
            "type": "bar"
           }
          ],
          "barpolar": [
           {
            "marker": {
             "line": {
              "color": "#E5ECF6",
              "width": 0.5
             },
             "pattern": {
              "fillmode": "overlay",
              "size": 10,
              "solidity": 0.2
             }
            },
            "type": "barpolar"
           }
          ],
          "carpet": [
           {
            "aaxis": {
             "endlinecolor": "#2a3f5f",
             "gridcolor": "white",
             "linecolor": "white",
             "minorgridcolor": "white",
             "startlinecolor": "#2a3f5f"
            },
            "baxis": {
             "endlinecolor": "#2a3f5f",
             "gridcolor": "white",
             "linecolor": "white",
             "minorgridcolor": "white",
             "startlinecolor": "#2a3f5f"
            },
            "type": "carpet"
           }
          ],
          "choropleth": [
           {
            "colorbar": {
             "outlinewidth": 0,
             "ticks": ""
            },
            "type": "choropleth"
           }
          ],
          "contour": [
           {
            "colorbar": {
             "outlinewidth": 0,
             "ticks": ""
            },
            "colorscale": [
             [
              0,
              "#0d0887"
             ],
             [
              0.1111111111111111,
              "#46039f"
             ],
             [
              0.2222222222222222,
              "#7201a8"
             ],
             [
              0.3333333333333333,
              "#9c179e"
             ],
             [
              0.4444444444444444,
              "#bd3786"
             ],
             [
              0.5555555555555556,
              "#d8576b"
             ],
             [
              0.6666666666666666,
              "#ed7953"
             ],
             [
              0.7777777777777778,
              "#fb9f3a"
             ],
             [
              0.8888888888888888,
              "#fdca26"
             ],
             [
              1,
              "#f0f921"
             ]
            ],
            "type": "contour"
           }
          ],
          "contourcarpet": [
           {
            "colorbar": {
             "outlinewidth": 0,
             "ticks": ""
            },
            "type": "contourcarpet"
           }
          ],
          "heatmap": [
           {
            "colorbar": {
             "outlinewidth": 0,
             "ticks": ""
            },
            "colorscale": [
             [
              0,
              "#0d0887"
             ],
             [
              0.1111111111111111,
              "#46039f"
             ],
             [
              0.2222222222222222,
              "#7201a8"
             ],
             [
              0.3333333333333333,
              "#9c179e"
             ],
             [
              0.4444444444444444,
              "#bd3786"
             ],
             [
              0.5555555555555556,
              "#d8576b"
             ],
             [
              0.6666666666666666,
              "#ed7953"
             ],
             [
              0.7777777777777778,
              "#fb9f3a"
             ],
             [
              0.8888888888888888,
              "#fdca26"
             ],
             [
              1,
              "#f0f921"
             ]
            ],
            "type": "heatmap"
           }
          ],
          "heatmapgl": [
           {
            "colorbar": {
             "outlinewidth": 0,
             "ticks": ""
            },
            "colorscale": [
             [
              0,
              "#0d0887"
             ],
             [
              0.1111111111111111,
              "#46039f"
             ],
             [
              0.2222222222222222,
              "#7201a8"
             ],
             [
              0.3333333333333333,
              "#9c179e"
             ],
             [
              0.4444444444444444,
              "#bd3786"
             ],
             [
              0.5555555555555556,
              "#d8576b"
             ],
             [
              0.6666666666666666,
              "#ed7953"
             ],
             [
              0.7777777777777778,
              "#fb9f3a"
             ],
             [
              0.8888888888888888,
              "#fdca26"
             ],
             [
              1,
              "#f0f921"
             ]
            ],
            "type": "heatmapgl"
           }
          ],
          "histogram": [
           {
            "marker": {
             "pattern": {
              "fillmode": "overlay",
              "size": 10,
              "solidity": 0.2
             }
            },
            "type": "histogram"
           }
          ],
          "histogram2d": [
           {
            "colorbar": {
             "outlinewidth": 0,
             "ticks": ""
            },
            "colorscale": [
             [
              0,
              "#0d0887"
             ],
             [
              0.1111111111111111,
              "#46039f"
             ],
             [
              0.2222222222222222,
              "#7201a8"
             ],
             [
              0.3333333333333333,
              "#9c179e"
             ],
             [
              0.4444444444444444,
              "#bd3786"
             ],
             [
              0.5555555555555556,
              "#d8576b"
             ],
             [
              0.6666666666666666,
              "#ed7953"
             ],
             [
              0.7777777777777778,
              "#fb9f3a"
             ],
             [
              0.8888888888888888,
              "#fdca26"
             ],
             [
              1,
              "#f0f921"
             ]
            ],
            "type": "histogram2d"
           }
          ],
          "histogram2dcontour": [
           {
            "colorbar": {
             "outlinewidth": 0,
             "ticks": ""
            },
            "colorscale": [
             [
              0,
              "#0d0887"
             ],
             [
              0.1111111111111111,
              "#46039f"
             ],
             [
              0.2222222222222222,
              "#7201a8"
             ],
             [
              0.3333333333333333,
              "#9c179e"
             ],
             [
              0.4444444444444444,
              "#bd3786"
             ],
             [
              0.5555555555555556,
              "#d8576b"
             ],
             [
              0.6666666666666666,
              "#ed7953"
             ],
             [
              0.7777777777777778,
              "#fb9f3a"
             ],
             [
              0.8888888888888888,
              "#fdca26"
             ],
             [
              1,
              "#f0f921"
             ]
            ],
            "type": "histogram2dcontour"
           }
          ],
          "mesh3d": [
           {
            "colorbar": {
             "outlinewidth": 0,
             "ticks": ""
            },
            "type": "mesh3d"
           }
          ],
          "parcoords": [
           {
            "line": {
             "colorbar": {
              "outlinewidth": 0,
              "ticks": ""
             }
            },
            "type": "parcoords"
           }
          ],
          "pie": [
           {
            "automargin": true,
            "type": "pie"
           }
          ],
          "scatter": [
           {
            "marker": {
             "colorbar": {
              "outlinewidth": 0,
              "ticks": ""
             }
            },
            "type": "scatter"
           }
          ],
          "scatter3d": [
           {
            "line": {
             "colorbar": {
              "outlinewidth": 0,
              "ticks": ""
             }
            },
            "marker": {
             "colorbar": {
              "outlinewidth": 0,
              "ticks": ""
             }
            },
            "type": "scatter3d"
           }
          ],
          "scattercarpet": [
           {
            "marker": {
             "colorbar": {
              "outlinewidth": 0,
              "ticks": ""
             }
            },
            "type": "scattercarpet"
           }
          ],
          "scattergeo": [
           {
            "marker": {
             "colorbar": {
              "outlinewidth": 0,
              "ticks": ""
             }
            },
            "type": "scattergeo"
           }
          ],
          "scattergl": [
           {
            "marker": {
             "colorbar": {
              "outlinewidth": 0,
              "ticks": ""
             }
            },
            "type": "scattergl"
           }
          ],
          "scattermapbox": [
           {
            "marker": {
             "colorbar": {
              "outlinewidth": 0,
              "ticks": ""
             }
            },
            "type": "scattermapbox"
           }
          ],
          "scatterpolar": [
           {
            "marker": {
             "colorbar": {
              "outlinewidth": 0,
              "ticks": ""
             }
            },
            "type": "scatterpolar"
           }
          ],
          "scatterpolargl": [
           {
            "marker": {
             "colorbar": {
              "outlinewidth": 0,
              "ticks": ""
             }
            },
            "type": "scatterpolargl"
           }
          ],
          "scatterternary": [
           {
            "marker": {
             "colorbar": {
              "outlinewidth": 0,
              "ticks": ""
             }
            },
            "type": "scatterternary"
           }
          ],
          "surface": [
           {
            "colorbar": {
             "outlinewidth": 0,
             "ticks": ""
            },
            "colorscale": [
             [
              0,
              "#0d0887"
             ],
             [
              0.1111111111111111,
              "#46039f"
             ],
             [
              0.2222222222222222,
              "#7201a8"
             ],
             [
              0.3333333333333333,
              "#9c179e"
             ],
             [
              0.4444444444444444,
              "#bd3786"
             ],
             [
              0.5555555555555556,
              "#d8576b"
             ],
             [
              0.6666666666666666,
              "#ed7953"
             ],
             [
              0.7777777777777778,
              "#fb9f3a"
             ],
             [
              0.8888888888888888,
              "#fdca26"
             ],
             [
              1,
              "#f0f921"
             ]
            ],
            "type": "surface"
           }
          ],
          "table": [
           {
            "cells": {
             "fill": {
              "color": "#EBF0F8"
             },
             "line": {
              "color": "white"
             }
            },
            "header": {
             "fill": {
              "color": "#C8D4E3"
             },
             "line": {
              "color": "white"
             }
            },
            "type": "table"
           }
          ]
         },
         "layout": {
          "annotationdefaults": {
           "arrowcolor": "#2a3f5f",
           "arrowhead": 0,
           "arrowwidth": 1
          },
          "autotypenumbers": "strict",
          "coloraxis": {
           "colorbar": {
            "outlinewidth": 0,
            "ticks": ""
           }
          },
          "colorscale": {
           "diverging": [
            [
             0,
             "#8e0152"
            ],
            [
             0.1,
             "#c51b7d"
            ],
            [
             0.2,
             "#de77ae"
            ],
            [
             0.3,
             "#f1b6da"
            ],
            [
             0.4,
             "#fde0ef"
            ],
            [
             0.5,
             "#f7f7f7"
            ],
            [
             0.6,
             "#e6f5d0"
            ],
            [
             0.7,
             "#b8e186"
            ],
            [
             0.8,
             "#7fbc41"
            ],
            [
             0.9,
             "#4d9221"
            ],
            [
             1,
             "#276419"
            ]
           ],
           "sequential": [
            [
             0,
             "#0d0887"
            ],
            [
             0.1111111111111111,
             "#46039f"
            ],
            [
             0.2222222222222222,
             "#7201a8"
            ],
            [
             0.3333333333333333,
             "#9c179e"
            ],
            [
             0.4444444444444444,
             "#bd3786"
            ],
            [
             0.5555555555555556,
             "#d8576b"
            ],
            [
             0.6666666666666666,
             "#ed7953"
            ],
            [
             0.7777777777777778,
             "#fb9f3a"
            ],
            [
             0.8888888888888888,
             "#fdca26"
            ],
            [
             1,
             "#f0f921"
            ]
           ],
           "sequentialminus": [
            [
             0,
             "#0d0887"
            ],
            [
             0.1111111111111111,
             "#46039f"
            ],
            [
             0.2222222222222222,
             "#7201a8"
            ],
            [
             0.3333333333333333,
             "#9c179e"
            ],
            [
             0.4444444444444444,
             "#bd3786"
            ],
            [
             0.5555555555555556,
             "#d8576b"
            ],
            [
             0.6666666666666666,
             "#ed7953"
            ],
            [
             0.7777777777777778,
             "#fb9f3a"
            ],
            [
             0.8888888888888888,
             "#fdca26"
            ],
            [
             1,
             "#f0f921"
            ]
           ]
          },
          "colorway": [
           "#636efa",
           "#EF553B",
           "#00cc96",
           "#ab63fa",
           "#FFA15A",
           "#19d3f3",
           "#FF6692",
           "#B6E880",
           "#FF97FF",
           "#FECB52"
          ],
          "font": {
           "color": "#2a3f5f"
          },
          "geo": {
           "bgcolor": "white",
           "lakecolor": "white",
           "landcolor": "#E5ECF6",
           "showlakes": true,
           "showland": true,
           "subunitcolor": "white"
          },
          "hoverlabel": {
           "align": "left"
          },
          "hovermode": "closest",
          "mapbox": {
           "style": "light"
          },
          "paper_bgcolor": "white",
          "plot_bgcolor": "#E5ECF6",
          "polar": {
           "angularaxis": {
            "gridcolor": "white",
            "linecolor": "white",
            "ticks": ""
           },
           "bgcolor": "#E5ECF6",
           "radialaxis": {
            "gridcolor": "white",
            "linecolor": "white",
            "ticks": ""
           }
          },
          "scene": {
           "xaxis": {
            "backgroundcolor": "#E5ECF6",
            "gridcolor": "white",
            "gridwidth": 2,
            "linecolor": "white",
            "showbackground": true,
            "ticks": "",
            "zerolinecolor": "white"
           },
           "yaxis": {
            "backgroundcolor": "#E5ECF6",
            "gridcolor": "white",
            "gridwidth": 2,
            "linecolor": "white",
            "showbackground": true,
            "ticks": "",
            "zerolinecolor": "white"
           },
           "zaxis": {
            "backgroundcolor": "#E5ECF6",
            "gridcolor": "white",
            "gridwidth": 2,
            "linecolor": "white",
            "showbackground": true,
            "ticks": "",
            "zerolinecolor": "white"
           }
          },
          "shapedefaults": {
           "line": {
            "color": "#2a3f5f"
           }
          },
          "ternary": {
           "aaxis": {
            "gridcolor": "white",
            "linecolor": "white",
            "ticks": ""
           },
           "baxis": {
            "gridcolor": "white",
            "linecolor": "white",
            "ticks": ""
           },
           "bgcolor": "#E5ECF6",
           "caxis": {
            "gridcolor": "white",
            "linecolor": "white",
            "ticks": ""
           }
          },
          "title": {
           "x": 0.05
          },
          "xaxis": {
           "automargin": true,
           "gridcolor": "white",
           "linecolor": "white",
           "ticks": "",
           "title": {
            "standoff": 15
           },
           "zerolinecolor": "white",
           "zerolinewidth": 2
          },
          "yaxis": {
           "automargin": true,
           "gridcolor": "white",
           "linecolor": "white",
           "ticks": "",
           "title": {
            "standoff": 15
           },
           "zerolinecolor": "white",
           "zerolinewidth": 2
          }
         }
        },
        "title": {
         "text": "mean life expectancy of all the Asian countries"
        }
       }
      },
      "text/html": [
       "<div>                            <div id=\"0fa8347f-f68d-4c0d-875e-63d6c92d8974\" class=\"plotly-graph-div\" style=\"height:525px; width:100%;\"></div>            <script type=\"text/javascript\">                require([\"plotly\"], function(Plotly) {                    window.PLOTLYENV=window.PLOTLYENV || {};                                    if (document.getElementById(\"0fa8347f-f68d-4c0d-875e-63d6c92d8974\")) {                    Plotly.newPlot(                        \"0fa8347f-f68d-4c0d-875e-63d6c92d8974\",                        [{\"coloraxis\":\"coloraxis\",\"geo\":\"geo\",\"hovertemplate\":\"<b>%{hovertext}</b><br><br>year=2007<br>iso_alpha=%{location}<br>lifeExp=%{z}<extra></extra>\",\"hovertext\":[\"Afghanistan\",\"Bahrain\",\"Bangladesh\",\"Cambodia\",\"China\",\"Hong Kong, China\",\"India\",\"Indonesia\",\"Iran\",\"Iraq\",\"Israel\",\"Japan\",\"Jordan\",\"Korea, Dem. Rep.\",\"Korea, Rep.\",\"Kuwait\",\"Lebanon\",\"Malaysia\",\"Mongolia\",\"Myanmar\",\"Nepal\",\"Oman\",\"Pakistan\",\"Philippines\",\"Saudi Arabia\",\"Singapore\",\"Sri Lanka\",\"Syria\",\"Taiwan\",\"Thailand\",\"Vietnam\",\"West Bank and Gaza\",\"Yemen, Rep.\"],\"locations\":[\"AFG\",\"BHR\",\"BGD\",\"KHM\",\"CHN\",\"HKG\",\"IND\",\"IDN\",\"IRN\",\"IRQ\",\"ISR\",\"JPN\",\"JOR\",\"KOR\",\"KOR\",\"KWT\",\"LBN\",\"MYS\",\"MNG\",\"MMR\",\"NPL\",\"OMN\",\"PAK\",\"PHL\",\"SAU\",\"SGP\",\"LKA\",\"SYR\",\"TWN\",\"THA\",\"VNM\",\"PSE\",\"YEM\"],\"name\":\"\",\"z\":[43.828,75.635,64.062,59.723,72.961,82.208,64.69800000000001,70.65,70.964,59.545,80.745,82.603,72.535,67.297,78.623,77.58800000000002,71.993,74.241,66.803,62.069,63.785,75.64,65.483,71.688,72.777,79.972,72.396,74.143,78.4,70.616,74.249,73.422,62.698],\"type\":\"choropleth\"}],                        {\"template\":{\"data\":{\"bar\":[{\"error_x\":{\"color\":\"#2a3f5f\"},\"error_y\":{\"color\":\"#2a3f5f\"},\"marker\":{\"line\":{\"color\":\"#E5ECF6\",\"width\":0.5},\"pattern\":{\"fillmode\":\"overlay\",\"size\":10,\"solidity\":0.2}},\"type\":\"bar\"}],\"barpolar\":[{\"marker\":{\"line\":{\"color\":\"#E5ECF6\",\"width\":0.5},\"pattern\":{\"fillmode\":\"overlay\",\"size\":10,\"solidity\":0.2}},\"type\":\"barpolar\"}],\"carpet\":[{\"aaxis\":{\"endlinecolor\":\"#2a3f5f\",\"gridcolor\":\"white\",\"linecolor\":\"white\",\"minorgridcolor\":\"white\",\"startlinecolor\":\"#2a3f5f\"},\"baxis\":{\"endlinecolor\":\"#2a3f5f\",\"gridcolor\":\"white\",\"linecolor\":\"white\",\"minorgridcolor\":\"white\",\"startlinecolor\":\"#2a3f5f\"},\"type\":\"carpet\"}],\"choropleth\":[{\"colorbar\":{\"outlinewidth\":0,\"ticks\":\"\"},\"type\":\"choropleth\"}],\"contour\":[{\"colorbar\":{\"outlinewidth\":0,\"ticks\":\"\"},\"colorscale\":[[0.0,\"#0d0887\"],[0.1111111111111111,\"#46039f\"],[0.2222222222222222,\"#7201a8\"],[0.3333333333333333,\"#9c179e\"],[0.4444444444444444,\"#bd3786\"],[0.5555555555555556,\"#d8576b\"],[0.6666666666666666,\"#ed7953\"],[0.7777777777777778,\"#fb9f3a\"],[0.8888888888888888,\"#fdca26\"],[1.0,\"#f0f921\"]],\"type\":\"contour\"}],\"contourcarpet\":[{\"colorbar\":{\"outlinewidth\":0,\"ticks\":\"\"},\"type\":\"contourcarpet\"}],\"heatmap\":[{\"colorbar\":{\"outlinewidth\":0,\"ticks\":\"\"},\"colorscale\":[[0.0,\"#0d0887\"],[0.1111111111111111,\"#46039f\"],[0.2222222222222222,\"#7201a8\"],[0.3333333333333333,\"#9c179e\"],[0.4444444444444444,\"#bd3786\"],[0.5555555555555556,\"#d8576b\"],[0.6666666666666666,\"#ed7953\"],[0.7777777777777778,\"#fb9f3a\"],[0.8888888888888888,\"#fdca26\"],[1.0,\"#f0f921\"]],\"type\":\"heatmap\"}],\"heatmapgl\":[{\"colorbar\":{\"outlinewidth\":0,\"ticks\":\"\"},\"colorscale\":[[0.0,\"#0d0887\"],[0.1111111111111111,\"#46039f\"],[0.2222222222222222,\"#7201a8\"],[0.3333333333333333,\"#9c179e\"],[0.4444444444444444,\"#bd3786\"],[0.5555555555555556,\"#d8576b\"],[0.6666666666666666,\"#ed7953\"],[0.7777777777777778,\"#fb9f3a\"],[0.8888888888888888,\"#fdca26\"],[1.0,\"#f0f921\"]],\"type\":\"heatmapgl\"}],\"histogram\":[{\"marker\":{\"pattern\":{\"fillmode\":\"overlay\",\"size\":10,\"solidity\":0.2}},\"type\":\"histogram\"}],\"histogram2d\":[{\"colorbar\":{\"outlinewidth\":0,\"ticks\":\"\"},\"colorscale\":[[0.0,\"#0d0887\"],[0.1111111111111111,\"#46039f\"],[0.2222222222222222,\"#7201a8\"],[0.3333333333333333,\"#9c179e\"],[0.4444444444444444,\"#bd3786\"],[0.5555555555555556,\"#d8576b\"],[0.6666666666666666,\"#ed7953\"],[0.7777777777777778,\"#fb9f3a\"],[0.8888888888888888,\"#fdca26\"],[1.0,\"#f0f921\"]],\"type\":\"histogram2d\"}],\"histogram2dcontour\":[{\"colorbar\":{\"outlinewidth\":0,\"ticks\":\"\"},\"colorscale\":[[0.0,\"#0d0887\"],[0.1111111111111111,\"#46039f\"],[0.2222222222222222,\"#7201a8\"],[0.3333333333333333,\"#9c179e\"],[0.4444444444444444,\"#bd3786\"],[0.5555555555555556,\"#d8576b\"],[0.6666666666666666,\"#ed7953\"],[0.7777777777777778,\"#fb9f3a\"],[0.8888888888888888,\"#fdca26\"],[1.0,\"#f0f921\"]],\"type\":\"histogram2dcontour\"}],\"mesh3d\":[{\"colorbar\":{\"outlinewidth\":0,\"ticks\":\"\"},\"type\":\"mesh3d\"}],\"parcoords\":[{\"line\":{\"colorbar\":{\"outlinewidth\":0,\"ticks\":\"\"}},\"type\":\"parcoords\"}],\"pie\":[{\"automargin\":true,\"type\":\"pie\"}],\"scatter\":[{\"marker\":{\"colorbar\":{\"outlinewidth\":0,\"ticks\":\"\"}},\"type\":\"scatter\"}],\"scatter3d\":[{\"line\":{\"colorbar\":{\"outlinewidth\":0,\"ticks\":\"\"}},\"marker\":{\"colorbar\":{\"outlinewidth\":0,\"ticks\":\"\"}},\"type\":\"scatter3d\"}],\"scattercarpet\":[{\"marker\":{\"colorbar\":{\"outlinewidth\":0,\"ticks\":\"\"}},\"type\":\"scattercarpet\"}],\"scattergeo\":[{\"marker\":{\"colorbar\":{\"outlinewidth\":0,\"ticks\":\"\"}},\"type\":\"scattergeo\"}],\"scattergl\":[{\"marker\":{\"colorbar\":{\"outlinewidth\":0,\"ticks\":\"\"}},\"type\":\"scattergl\"}],\"scattermapbox\":[{\"marker\":{\"colorbar\":{\"outlinewidth\":0,\"ticks\":\"\"}},\"type\":\"scattermapbox\"}],\"scatterpolar\":[{\"marker\":{\"colorbar\":{\"outlinewidth\":0,\"ticks\":\"\"}},\"type\":\"scatterpolar\"}],\"scatterpolargl\":[{\"marker\":{\"colorbar\":{\"outlinewidth\":0,\"ticks\":\"\"}},\"type\":\"scatterpolargl\"}],\"scatterternary\":[{\"marker\":{\"colorbar\":{\"outlinewidth\":0,\"ticks\":\"\"}},\"type\":\"scatterternary\"}],\"surface\":[{\"colorbar\":{\"outlinewidth\":0,\"ticks\":\"\"},\"colorscale\":[[0.0,\"#0d0887\"],[0.1111111111111111,\"#46039f\"],[0.2222222222222222,\"#7201a8\"],[0.3333333333333333,\"#9c179e\"],[0.4444444444444444,\"#bd3786\"],[0.5555555555555556,\"#d8576b\"],[0.6666666666666666,\"#ed7953\"],[0.7777777777777778,\"#fb9f3a\"],[0.8888888888888888,\"#fdca26\"],[1.0,\"#f0f921\"]],\"type\":\"surface\"}],\"table\":[{\"cells\":{\"fill\":{\"color\":\"#EBF0F8\"},\"line\":{\"color\":\"white\"}},\"header\":{\"fill\":{\"color\":\"#C8D4E3\"},\"line\":{\"color\":\"white\"}},\"type\":\"table\"}]},\"layout\":{\"annotationdefaults\":{\"arrowcolor\":\"#2a3f5f\",\"arrowhead\":0,\"arrowwidth\":1},\"autotypenumbers\":\"strict\",\"coloraxis\":{\"colorbar\":{\"outlinewidth\":0,\"ticks\":\"\"}},\"colorscale\":{\"diverging\":[[0,\"#8e0152\"],[0.1,\"#c51b7d\"],[0.2,\"#de77ae\"],[0.3,\"#f1b6da\"],[0.4,\"#fde0ef\"],[0.5,\"#f7f7f7\"],[0.6,\"#e6f5d0\"],[0.7,\"#b8e186\"],[0.8,\"#7fbc41\"],[0.9,\"#4d9221\"],[1,\"#276419\"]],\"sequential\":[[0.0,\"#0d0887\"],[0.1111111111111111,\"#46039f\"],[0.2222222222222222,\"#7201a8\"],[0.3333333333333333,\"#9c179e\"],[0.4444444444444444,\"#bd3786\"],[0.5555555555555556,\"#d8576b\"],[0.6666666666666666,\"#ed7953\"],[0.7777777777777778,\"#fb9f3a\"],[0.8888888888888888,\"#fdca26\"],[1.0,\"#f0f921\"]],\"sequentialminus\":[[0.0,\"#0d0887\"],[0.1111111111111111,\"#46039f\"],[0.2222222222222222,\"#7201a8\"],[0.3333333333333333,\"#9c179e\"],[0.4444444444444444,\"#bd3786\"],[0.5555555555555556,\"#d8576b\"],[0.6666666666666666,\"#ed7953\"],[0.7777777777777778,\"#fb9f3a\"],[0.8888888888888888,\"#fdca26\"],[1.0,\"#f0f921\"]]},\"colorway\":[\"#636efa\",\"#EF553B\",\"#00cc96\",\"#ab63fa\",\"#FFA15A\",\"#19d3f3\",\"#FF6692\",\"#B6E880\",\"#FF97FF\",\"#FECB52\"],\"font\":{\"color\":\"#2a3f5f\"},\"geo\":{\"bgcolor\":\"white\",\"lakecolor\":\"white\",\"landcolor\":\"#E5ECF6\",\"showlakes\":true,\"showland\":true,\"subunitcolor\":\"white\"},\"hoverlabel\":{\"align\":\"left\"},\"hovermode\":\"closest\",\"mapbox\":{\"style\":\"light\"},\"paper_bgcolor\":\"white\",\"plot_bgcolor\":\"#E5ECF6\",\"polar\":{\"angularaxis\":{\"gridcolor\":\"white\",\"linecolor\":\"white\",\"ticks\":\"\"},\"bgcolor\":\"#E5ECF6\",\"radialaxis\":{\"gridcolor\":\"white\",\"linecolor\":\"white\",\"ticks\":\"\"}},\"scene\":{\"xaxis\":{\"backgroundcolor\":\"#E5ECF6\",\"gridcolor\":\"white\",\"gridwidth\":2,\"linecolor\":\"white\",\"showbackground\":true,\"ticks\":\"\",\"zerolinecolor\":\"white\"},\"yaxis\":{\"backgroundcolor\":\"#E5ECF6\",\"gridcolor\":\"white\",\"gridwidth\":2,\"linecolor\":\"white\",\"showbackground\":true,\"ticks\":\"\",\"zerolinecolor\":\"white\"},\"zaxis\":{\"backgroundcolor\":\"#E5ECF6\",\"gridcolor\":\"white\",\"gridwidth\":2,\"linecolor\":\"white\",\"showbackground\":true,\"ticks\":\"\",\"zerolinecolor\":\"white\"}},\"shapedefaults\":{\"line\":{\"color\":\"#2a3f5f\"}},\"ternary\":{\"aaxis\":{\"gridcolor\":\"white\",\"linecolor\":\"white\",\"ticks\":\"\"},\"baxis\":{\"gridcolor\":\"white\",\"linecolor\":\"white\",\"ticks\":\"\"},\"bgcolor\":\"#E5ECF6\",\"caxis\":{\"gridcolor\":\"white\",\"linecolor\":\"white\",\"ticks\":\"\"}},\"title\":{\"x\":0.05},\"xaxis\":{\"automargin\":true,\"gridcolor\":\"white\",\"linecolor\":\"white\",\"ticks\":\"\",\"title\":{\"standoff\":15},\"zerolinecolor\":\"white\",\"zerolinewidth\":2},\"yaxis\":{\"automargin\":true,\"gridcolor\":\"white\",\"linecolor\":\"white\",\"ticks\":\"\",\"title\":{\"standoff\":15},\"zerolinecolor\":\"white\",\"zerolinewidth\":2}}},\"geo\":{\"domain\":{\"x\":[0.0,1.0],\"y\":[0.0,1.0]},\"center\":{}},\"coloraxis\":{\"colorbar\":{\"title\":{\"text\":\"lifeExp\"}},\"colorscale\":[[0.0,\"rgb(247,244,249)\"],[0.125,\"rgb(231,225,239)\"],[0.25,\"rgb(212,185,218)\"],[0.375,\"rgb(201,148,199)\"],[0.5,\"rgb(223,101,176)\"],[0.625,\"rgb(231,41,138)\"],[0.75,\"rgb(206,18,86)\"],[0.875,\"rgb(152,0,67)\"],[1.0,\"rgb(103,0,31)\"]]},\"legend\":{\"tracegroupgap\":0},\"title\":{\"text\":\"mean life expectancy of all the Asian countries\"}},                        {\"responsive\": true}                    ).then(function(){\n",
       "                            \n",
       "var gd = document.getElementById('0fa8347f-f68d-4c0d-875e-63d6c92d8974');\n",
       "var x = new MutationObserver(function (mutations, observer) {{\n",
       "        var display = window.getComputedStyle(gd).display;\n",
       "        if (!display || display === 'none') {{\n",
       "            console.log([gd, 'removed!']);\n",
       "            Plotly.purge(gd);\n",
       "            observer.disconnect();\n",
       "        }}\n",
       "}});\n",
       "\n",
       "// Listen for the removal of the full notebook cells\n",
       "var notebookContainer = gd.closest('#notebook-container');\n",
       "if (notebookContainer) {{\n",
       "    x.observe(notebookContainer, {childList: true});\n",
       "}}\n",
       "\n",
       "// Listen for the clearing of the current output cell\n",
       "var outputEl = gd.closest('.output');\n",
       "if (outputEl) {{\n",
       "    x.observe(outputEl, {childList: true});\n",
       "}}\n",
       "\n",
       "                        })                };                });            </script>        </div>"
      ]
     },
     "metadata": {},
     "output_type": "display_data"
    }
   ],
   "source": [
    "fig = px.choropleth(Assign6, locations=\"iso_alpha\",\n",
    "                    color=\"lifeExp\",\n",
    "                    hover_name=\"country\",\n",
    "                    animation_frame=\"year\",\n",
    "                    title = \"mean life expectancy of all the Asian countries\",                 color_continuous_scale=px.colors.sequential.PuRd)\n",
    " \n",
    " \n",
    "fig[\"layout\"].pop(\"updatemenus\")\n",
    "fig.show()"
   ]
  },
  {
   "cell_type": "markdown",
   "id": "bf3b611e",
   "metadata": {},
   "source": [
    "# 2. Deviation in GDP of each country in Europe and South America."
   ]
  },
  {
   "cell_type": "code",
   "execution_count": 27,
   "id": "b8c7d7f0",
   "metadata": {},
   "outputs": [],
   "source": [
    "import matplotlib.pyplot as plt\n",
    "import numpy as np\n",
    "import pandas as pd\n"
   ]
  },
  {
   "cell_type": "code",
   "execution_count": 39,
   "id": "cb59fb15",
   "metadata": {},
   "outputs": [],
   "source": [
    "Assign6b = px.data.gapminder().query(\"year == 2007\").query(\"continent == 'Europe'\")"
   ]
  },
  {
   "cell_type": "code",
   "execution_count": 41,
   "id": "50254fae",
   "metadata": {},
   "outputs": [
    {
     "data": {
      "text/html": [
       "<div>\n",
       "<style scoped>\n",
       "    .dataframe tbody tr th:only-of-type {\n",
       "        vertical-align: middle;\n",
       "    }\n",
       "\n",
       "    .dataframe tbody tr th {\n",
       "        vertical-align: top;\n",
       "    }\n",
       "\n",
       "    .dataframe thead th {\n",
       "        text-align: right;\n",
       "    }\n",
       "</style>\n",
       "<table border=\"1\" class=\"dataframe\">\n",
       "  <thead>\n",
       "    <tr style=\"text-align: right;\">\n",
       "      <th></th>\n",
       "      <th>country</th>\n",
       "      <th>continent</th>\n",
       "      <th>year</th>\n",
       "      <th>lifeExp</th>\n",
       "      <th>pop</th>\n",
       "      <th>gdpPercap</th>\n",
       "      <th>iso_alpha</th>\n",
       "      <th>iso_num</th>\n",
       "    </tr>\n",
       "  </thead>\n",
       "  <tbody>\n",
       "    <tr>\n",
       "      <th>23</th>\n",
       "      <td>Albania</td>\n",
       "      <td>Europe</td>\n",
       "      <td>2007</td>\n",
       "      <td>76.423</td>\n",
       "      <td>3600523</td>\n",
       "      <td>5937.029526</td>\n",
       "      <td>ALB</td>\n",
       "      <td>8</td>\n",
       "    </tr>\n",
       "    <tr>\n",
       "      <th>83</th>\n",
       "      <td>Austria</td>\n",
       "      <td>Europe</td>\n",
       "      <td>2007</td>\n",
       "      <td>79.829</td>\n",
       "      <td>8199783</td>\n",
       "      <td>36126.492700</td>\n",
       "      <td>AUT</td>\n",
       "      <td>40</td>\n",
       "    </tr>\n",
       "    <tr>\n",
       "      <th>119</th>\n",
       "      <td>Belgium</td>\n",
       "      <td>Europe</td>\n",
       "      <td>2007</td>\n",
       "      <td>79.441</td>\n",
       "      <td>10392226</td>\n",
       "      <td>33692.605080</td>\n",
       "      <td>BEL</td>\n",
       "      <td>56</td>\n",
       "    </tr>\n",
       "    <tr>\n",
       "      <th>155</th>\n",
       "      <td>Bosnia and Herzegovina</td>\n",
       "      <td>Europe</td>\n",
       "      <td>2007</td>\n",
       "      <td>74.852</td>\n",
       "      <td>4552198</td>\n",
       "      <td>7446.298803</td>\n",
       "      <td>BIH</td>\n",
       "      <td>70</td>\n",
       "    </tr>\n",
       "    <tr>\n",
       "      <th>191</th>\n",
       "      <td>Bulgaria</td>\n",
       "      <td>Europe</td>\n",
       "      <td>2007</td>\n",
       "      <td>73.005</td>\n",
       "      <td>7322858</td>\n",
       "      <td>10680.792820</td>\n",
       "      <td>BGR</td>\n",
       "      <td>100</td>\n",
       "    </tr>\n",
       "  </tbody>\n",
       "</table>\n",
       "</div>"
      ],
      "text/plain": [
       "                    country continent  year  lifeExp       pop     gdpPercap  \\\n",
       "23                  Albania    Europe  2007   76.423   3600523   5937.029526   \n",
       "83                  Austria    Europe  2007   79.829   8199783  36126.492700   \n",
       "119                 Belgium    Europe  2007   79.441  10392226  33692.605080   \n",
       "155  Bosnia and Herzegovina    Europe  2007   74.852   4552198   7446.298803   \n",
       "191                Bulgaria    Europe  2007   73.005   7322858  10680.792820   \n",
       "\n",
       "    iso_alpha  iso_num  \n",
       "23        ALB        8  \n",
       "83        AUT       40  \n",
       "119       BEL       56  \n",
       "155       BIH       70  \n",
       "191       BGR      100  "
      ]
     },
     "execution_count": 41,
     "metadata": {},
     "output_type": "execute_result"
    }
   ],
   "source": [
    "Assign6b.head()\n"
   ]
  },
  {
   "cell_type": "code",
   "execution_count": 50,
   "id": "fb770228",
   "metadata": {},
   "outputs": [],
   "source": [
    "Assign6c = px.data.gapminder().query(\"year == 2007\").query(\"continent == 'Americas'\")"
   ]
  },
  {
   "cell_type": "code",
   "execution_count": 51,
   "id": "6c943c00",
   "metadata": {},
   "outputs": [
    {
     "data": {
      "text/html": [
       "<div>\n",
       "<style scoped>\n",
       "    .dataframe tbody tr th:only-of-type {\n",
       "        vertical-align: middle;\n",
       "    }\n",
       "\n",
       "    .dataframe tbody tr th {\n",
       "        vertical-align: top;\n",
       "    }\n",
       "\n",
       "    .dataframe thead th {\n",
       "        text-align: right;\n",
       "    }\n",
       "</style>\n",
       "<table border=\"1\" class=\"dataframe\">\n",
       "  <thead>\n",
       "    <tr style=\"text-align: right;\">\n",
       "      <th></th>\n",
       "      <th>country</th>\n",
       "      <th>continent</th>\n",
       "      <th>year</th>\n",
       "      <th>lifeExp</th>\n",
       "      <th>pop</th>\n",
       "      <th>gdpPercap</th>\n",
       "      <th>iso_alpha</th>\n",
       "      <th>iso_num</th>\n",
       "    </tr>\n",
       "  </thead>\n",
       "  <tbody>\n",
       "    <tr>\n",
       "      <th>59</th>\n",
       "      <td>Argentina</td>\n",
       "      <td>Americas</td>\n",
       "      <td>2007</td>\n",
       "      <td>75.320</td>\n",
       "      <td>40301927</td>\n",
       "      <td>12779.379640</td>\n",
       "      <td>ARG</td>\n",
       "      <td>32</td>\n",
       "    </tr>\n",
       "    <tr>\n",
       "      <th>143</th>\n",
       "      <td>Bolivia</td>\n",
       "      <td>Americas</td>\n",
       "      <td>2007</td>\n",
       "      <td>65.554</td>\n",
       "      <td>9119152</td>\n",
       "      <td>3822.137084</td>\n",
       "      <td>BOL</td>\n",
       "      <td>68</td>\n",
       "    </tr>\n",
       "    <tr>\n",
       "      <th>179</th>\n",
       "      <td>Brazil</td>\n",
       "      <td>Americas</td>\n",
       "      <td>2007</td>\n",
       "      <td>72.390</td>\n",
       "      <td>190010647</td>\n",
       "      <td>9065.800825</td>\n",
       "      <td>BRA</td>\n",
       "      <td>76</td>\n",
       "    </tr>\n",
       "    <tr>\n",
       "      <th>251</th>\n",
       "      <td>Canada</td>\n",
       "      <td>Americas</td>\n",
       "      <td>2007</td>\n",
       "      <td>80.653</td>\n",
       "      <td>33390141</td>\n",
       "      <td>36319.235010</td>\n",
       "      <td>CAN</td>\n",
       "      <td>124</td>\n",
       "    </tr>\n",
       "    <tr>\n",
       "      <th>287</th>\n",
       "      <td>Chile</td>\n",
       "      <td>Americas</td>\n",
       "      <td>2007</td>\n",
       "      <td>78.553</td>\n",
       "      <td>16284741</td>\n",
       "      <td>13171.638850</td>\n",
       "      <td>CHL</td>\n",
       "      <td>152</td>\n",
       "    </tr>\n",
       "  </tbody>\n",
       "</table>\n",
       "</div>"
      ],
      "text/plain": [
       "       country continent  year  lifeExp        pop     gdpPercap iso_alpha  \\\n",
       "59   Argentina  Americas  2007   75.320   40301927  12779.379640       ARG   \n",
       "143    Bolivia  Americas  2007   65.554    9119152   3822.137084       BOL   \n",
       "179     Brazil  Americas  2007   72.390  190010647   9065.800825       BRA   \n",
       "251     Canada  Americas  2007   80.653   33390141  36319.235010       CAN   \n",
       "287      Chile  Americas  2007   78.553   16284741  13171.638850       CHL   \n",
       "\n",
       "     iso_num  \n",
       "59        32  \n",
       "143       68  \n",
       "179       76  \n",
       "251      124  \n",
       "287      152  "
      ]
     },
     "execution_count": 51,
     "metadata": {},
     "output_type": "execute_result"
    }
   ],
   "source": [
    "Assign6c.head()"
   ]
  },
  {
   "cell_type": "code",
   "execution_count": 59,
   "id": "885abc7c",
   "metadata": {},
   "outputs": [
    {
     "data": {
      "text/html": [
       "<div>\n",
       "<style scoped>\n",
       "    .dataframe tbody tr th:only-of-type {\n",
       "        vertical-align: middle;\n",
       "    }\n",
       "\n",
       "    .dataframe tbody tr th {\n",
       "        vertical-align: top;\n",
       "    }\n",
       "\n",
       "    .dataframe thead th {\n",
       "        text-align: right;\n",
       "    }\n",
       "</style>\n",
       "<table border=\"1\" class=\"dataframe\">\n",
       "  <thead>\n",
       "    <tr style=\"text-align: right;\">\n",
       "      <th></th>\n",
       "      <th>country</th>\n",
       "      <th>continent</th>\n",
       "      <th>year</th>\n",
       "      <th>lifeExp</th>\n",
       "      <th>pop</th>\n",
       "      <th>gdpPercap</th>\n",
       "      <th>iso_alpha</th>\n",
       "      <th>iso_num</th>\n",
       "    </tr>\n",
       "  </thead>\n",
       "  <tbody>\n",
       "  </tbody>\n",
       "</table>\n",
       "</div>"
      ],
      "text/plain": [
       "Empty DataFrame\n",
       "Columns: [country, continent, year, lifeExp, pop, gdpPercap, iso_alpha, iso_num]\n",
       "Index: []"
      ]
     },
     "execution_count": 59,
     "metadata": {},
     "output_type": "execute_result"
    }
   ],
   "source": [
    "Assign6d = pd.merge(Assign6b, Assign6c)\n",
    "Assign6d.head()"
   ]
  },
  {
   "cell_type": "code",
   "execution_count": 62,
   "id": "f3f198b4",
   "metadata": {},
   "outputs": [],
   "source": [
    "Assign6d= pd.concat([Assign6b, Assign6c], axis=0)"
   ]
  },
  {
   "cell_type": "code",
   "execution_count": 63,
   "id": "8dbf9aaf",
   "metadata": {},
   "outputs": [
    {
     "data": {
      "text/html": [
       "<div>\n",
       "<style scoped>\n",
       "    .dataframe tbody tr th:only-of-type {\n",
       "        vertical-align: middle;\n",
       "    }\n",
       "\n",
       "    .dataframe tbody tr th {\n",
       "        vertical-align: top;\n",
       "    }\n",
       "\n",
       "    .dataframe thead th {\n",
       "        text-align: right;\n",
       "    }\n",
       "</style>\n",
       "<table border=\"1\" class=\"dataframe\">\n",
       "  <thead>\n",
       "    <tr style=\"text-align: right;\">\n",
       "      <th></th>\n",
       "      <th>country</th>\n",
       "      <th>continent</th>\n",
       "      <th>year</th>\n",
       "      <th>lifeExp</th>\n",
       "      <th>pop</th>\n",
       "      <th>gdpPercap</th>\n",
       "      <th>iso_alpha</th>\n",
       "      <th>iso_num</th>\n",
       "    </tr>\n",
       "  </thead>\n",
       "  <tbody>\n",
       "    <tr>\n",
       "      <th>23</th>\n",
       "      <td>Albania</td>\n",
       "      <td>Europe</td>\n",
       "      <td>2007</td>\n",
       "      <td>76.423</td>\n",
       "      <td>3600523</td>\n",
       "      <td>5937.029526</td>\n",
       "      <td>ALB</td>\n",
       "      <td>8</td>\n",
       "    </tr>\n",
       "    <tr>\n",
       "      <th>83</th>\n",
       "      <td>Austria</td>\n",
       "      <td>Europe</td>\n",
       "      <td>2007</td>\n",
       "      <td>79.829</td>\n",
       "      <td>8199783</td>\n",
       "      <td>36126.492700</td>\n",
       "      <td>AUT</td>\n",
       "      <td>40</td>\n",
       "    </tr>\n",
       "    <tr>\n",
       "      <th>119</th>\n",
       "      <td>Belgium</td>\n",
       "      <td>Europe</td>\n",
       "      <td>2007</td>\n",
       "      <td>79.441</td>\n",
       "      <td>10392226</td>\n",
       "      <td>33692.605080</td>\n",
       "      <td>BEL</td>\n",
       "      <td>56</td>\n",
       "    </tr>\n",
       "    <tr>\n",
       "      <th>155</th>\n",
       "      <td>Bosnia and Herzegovina</td>\n",
       "      <td>Europe</td>\n",
       "      <td>2007</td>\n",
       "      <td>74.852</td>\n",
       "      <td>4552198</td>\n",
       "      <td>7446.298803</td>\n",
       "      <td>BIH</td>\n",
       "      <td>70</td>\n",
       "    </tr>\n",
       "    <tr>\n",
       "      <th>191</th>\n",
       "      <td>Bulgaria</td>\n",
       "      <td>Europe</td>\n",
       "      <td>2007</td>\n",
       "      <td>73.005</td>\n",
       "      <td>7322858</td>\n",
       "      <td>10680.792820</td>\n",
       "      <td>BGR</td>\n",
       "      <td>100</td>\n",
       "    </tr>\n",
       "  </tbody>\n",
       "</table>\n",
       "</div>"
      ],
      "text/plain": [
       "                    country continent  year  lifeExp       pop     gdpPercap  \\\n",
       "23                  Albania    Europe  2007   76.423   3600523   5937.029526   \n",
       "83                  Austria    Europe  2007   79.829   8199783  36126.492700   \n",
       "119                 Belgium    Europe  2007   79.441  10392226  33692.605080   \n",
       "155  Bosnia and Herzegovina    Europe  2007   74.852   4552198   7446.298803   \n",
       "191                Bulgaria    Europe  2007   73.005   7322858  10680.792820   \n",
       "\n",
       "    iso_alpha  iso_num  \n",
       "23        ALB        8  \n",
       "83        AUT       40  \n",
       "119       BEL       56  \n",
       "155       BIH       70  \n",
       "191       BGR      100  "
      ]
     },
     "execution_count": 63,
     "metadata": {},
     "output_type": "execute_result"
    }
   ],
   "source": [
    "Assign6d.head()"
   ]
  },
  {
   "cell_type": "code",
   "execution_count": 112,
   "id": "305422b2",
   "metadata": {},
   "outputs": [
    {
     "data": {
      "text/html": [
       "<div>\n",
       "<style scoped>\n",
       "    .dataframe tbody tr th:only-of-type {\n",
       "        vertical-align: middle;\n",
       "    }\n",
       "\n",
       "    .dataframe tbody tr th {\n",
       "        vertical-align: top;\n",
       "    }\n",
       "\n",
       "    .dataframe thead th {\n",
       "        text-align: right;\n",
       "    }\n",
       "</style>\n",
       "<table border=\"1\" class=\"dataframe\">\n",
       "  <thead>\n",
       "    <tr style=\"text-align: right;\">\n",
       "      <th></th>\n",
       "      <th>country</th>\n",
       "      <th>continent</th>\n",
       "      <th>year</th>\n",
       "      <th>lifeExp</th>\n",
       "      <th>pop</th>\n",
       "      <th>gdpPercap</th>\n",
       "      <th>iso_alpha</th>\n",
       "      <th>iso_num</th>\n",
       "    </tr>\n",
       "  </thead>\n",
       "  <tbody>\n",
       "    <tr>\n",
       "      <th>23</th>\n",
       "      <td>Albania</td>\n",
       "      <td>Europe</td>\n",
       "      <td>2007</td>\n",
       "      <td>76.423</td>\n",
       "      <td>3600523</td>\n",
       "      <td>5937.029526</td>\n",
       "      <td>ALB</td>\n",
       "      <td>8</td>\n",
       "    </tr>\n",
       "    <tr>\n",
       "      <th>83</th>\n",
       "      <td>Austria</td>\n",
       "      <td>Europe</td>\n",
       "      <td>2007</td>\n",
       "      <td>79.829</td>\n",
       "      <td>8199783</td>\n",
       "      <td>36126.492700</td>\n",
       "      <td>AUT</td>\n",
       "      <td>40</td>\n",
       "    </tr>\n",
       "    <tr>\n",
       "      <th>119</th>\n",
       "      <td>Belgium</td>\n",
       "      <td>Europe</td>\n",
       "      <td>2007</td>\n",
       "      <td>79.441</td>\n",
       "      <td>10392226</td>\n",
       "      <td>33692.605080</td>\n",
       "      <td>BEL</td>\n",
       "      <td>56</td>\n",
       "    </tr>\n",
       "    <tr>\n",
       "      <th>155</th>\n",
       "      <td>Bosnia and Herzegovina</td>\n",
       "      <td>Europe</td>\n",
       "      <td>2007</td>\n",
       "      <td>74.852</td>\n",
       "      <td>4552198</td>\n",
       "      <td>7446.298803</td>\n",
       "      <td>BIH</td>\n",
       "      <td>70</td>\n",
       "    </tr>\n",
       "    <tr>\n",
       "      <th>191</th>\n",
       "      <td>Bulgaria</td>\n",
       "      <td>Europe</td>\n",
       "      <td>2007</td>\n",
       "      <td>73.005</td>\n",
       "      <td>7322858</td>\n",
       "      <td>10680.792820</td>\n",
       "      <td>BGR</td>\n",
       "      <td>100</td>\n",
       "    </tr>\n",
       "  </tbody>\n",
       "</table>\n",
       "</div>"
      ],
      "text/plain": [
       "                    country continent  year  lifeExp       pop     gdpPercap  \\\n",
       "23                  Albania    Europe  2007   76.423   3600523   5937.029526   \n",
       "83                  Austria    Europe  2007   79.829   8199783  36126.492700   \n",
       "119                 Belgium    Europe  2007   79.441  10392226  33692.605080   \n",
       "155  Bosnia and Herzegovina    Europe  2007   74.852   4552198   7446.298803   \n",
       "191                Bulgaria    Europe  2007   73.005   7322858  10680.792820   \n",
       "\n",
       "    iso_alpha  iso_num  \n",
       "23        ALB        8  \n",
       "83        AUT       40  \n",
       "119       BEL       56  \n",
       "155       BIH       70  \n",
       "191       BGR      100  "
      ]
     },
     "execution_count": 112,
     "metadata": {},
     "output_type": "execute_result"
    }
   ],
   "source": [
    "Assign6d.head()"
   ]
  },
  {
   "cell_type": "code",
   "execution_count": 65,
   "id": "624fff85",
   "metadata": {},
   "outputs": [
    {
     "data": {
      "text/plain": [
       "12906.296860991488"
      ]
     },
     "execution_count": 65,
     "metadata": {},
     "output_type": "execute_result"
    }
   ],
   "source": [
    "Assign6d['gdpPercap'].std()"
   ]
  },
  {
   "cell_type": "code",
   "execution_count": 76,
   "id": "040bd4fa",
   "metadata": {},
   "outputs": [
    {
     "data": {
      "application/vnd.plotly.v1+json": {
       "config": {
        "plotlyServerURL": "https://plot.ly"
       },
       "data": [
        {
         "coloraxis": "coloraxis",
         "geo": "geo",
         "hovertemplate": "<b>%{hovertext}</b><br><br>year=2007<br>iso_alpha=%{location}<br>gdpPercap=%{z}<extra></extra>",
         "hovertext": [
          "Albania",
          "Austria",
          "Belgium",
          "Bosnia and Herzegovina",
          "Bulgaria",
          "Croatia",
          "Czech Republic",
          "Denmark",
          "Finland",
          "France",
          "Germany",
          "Greece",
          "Hungary",
          "Iceland",
          "Ireland",
          "Italy",
          "Montenegro",
          "Netherlands",
          "Norway",
          "Poland",
          "Portugal",
          "Romania",
          "Serbia",
          "Slovak Republic",
          "Slovenia",
          "Spain",
          "Sweden",
          "Switzerland",
          "Turkey",
          "United Kingdom",
          "Argentina",
          "Bolivia",
          "Brazil",
          "Canada",
          "Chile",
          "Colombia",
          "Costa Rica",
          "Cuba",
          "Dominican Republic",
          "Ecuador",
          "El Salvador",
          "Guatemala",
          "Haiti",
          "Honduras",
          "Jamaica",
          "Mexico",
          "Nicaragua",
          "Panama",
          "Paraguay",
          "Peru",
          "Puerto Rico",
          "Trinidad and Tobago",
          "United States",
          "Uruguay",
          "Venezuela"
         ],
         "locations": [
          "ALB",
          "AUT",
          "BEL",
          "BIH",
          "BGR",
          "HRV",
          "CZE",
          "DNK",
          "FIN",
          "FRA",
          "DEU",
          "GRC",
          "HUN",
          "ISL",
          "IRL",
          "ITA",
          "MNE",
          "NLD",
          "NOR",
          "POL",
          "PRT",
          "ROU",
          "SRB",
          "SVK",
          "SVN",
          "ESP",
          "SWE",
          "CHE",
          "TUR",
          "GBR",
          "ARG",
          "BOL",
          "BRA",
          "CAN",
          "CHL",
          "COL",
          "CRI",
          "CUB",
          "DOM",
          "ECU",
          "SLV",
          "GTM",
          "HTI",
          "HND",
          "JAM",
          "MEX",
          "NIC",
          "PAN",
          "PRY",
          "PER",
          "PRI",
          "TTO",
          "USA",
          "URY",
          "VEN"
         ],
         "name": "",
         "type": "choropleth",
         "z": [
          5937.029525999998,
          36126.4927,
          33692.60508,
          7446.298803,
          10680.79282,
          14619.222719999998,
          22833.30851,
          35278.41874,
          33207.0844,
          30470.0167,
          32170.37442,
          27538.41188,
          18008.94444,
          36180.78919,
          40675.99635,
          28569.7197,
          9253.896111,
          36797.93332,
          49357.19017,
          15389.924680000002,
          20509.64777,
          10808.47561,
          9786.534714,
          18678.31435,
          25768.25759,
          28821.0637,
          33859.74835,
          37506.41907,
          8458.276384,
          33203.26128,
          12779.37964,
          3822.137084,
          9065.800825,
          36319.23501,
          13171.63885,
          7006.580419,
          9645.06142,
          8948.102923,
          6025.3747520000015,
          6873.262326000001,
          5728.353514,
          5186.050003,
          1201.637154,
          3548.3308460000007,
          7320.8802620000015,
          11977.57496,
          2749.320965,
          9809.185636,
          4172.838464,
          7408.905561,
          19328.70901,
          18008.50924,
          42951.65309,
          10611.46299,
          11415.80569
         ]
        }
       ],
       "layout": {
        "coloraxis": {
         "colorbar": {
          "title": {
           "text": "gdpPercap"
          }
         },
         "colorscale": [
          [
           0,
           "rgb(247,244,249)"
          ],
          [
           0.125,
           "rgb(231,225,239)"
          ],
          [
           0.25,
           "rgb(212,185,218)"
          ],
          [
           0.375,
           "rgb(201,148,199)"
          ],
          [
           0.5,
           "rgb(223,101,176)"
          ],
          [
           0.625,
           "rgb(231,41,138)"
          ],
          [
           0.75,
           "rgb(206,18,86)"
          ],
          [
           0.875,
           "rgb(152,0,67)"
          ],
          [
           1,
           "rgb(103,0,31)"
          ]
         ]
        },
        "geo": {
         "center": {},
         "domain": {
          "x": [
           0,
           1
          ],
          "y": [
           0,
           1
          ]
         }
        },
        "legend": {
         "tracegroupgap": 0
        },
        "template": {
         "data": {
          "bar": [
           {
            "error_x": {
             "color": "#2a3f5f"
            },
            "error_y": {
             "color": "#2a3f5f"
            },
            "marker": {
             "line": {
              "color": "#E5ECF6",
              "width": 0.5
             },
             "pattern": {
              "fillmode": "overlay",
              "size": 10,
              "solidity": 0.2
             }
            },
            "type": "bar"
           }
          ],
          "barpolar": [
           {
            "marker": {
             "line": {
              "color": "#E5ECF6",
              "width": 0.5
             },
             "pattern": {
              "fillmode": "overlay",
              "size": 10,
              "solidity": 0.2
             }
            },
            "type": "barpolar"
           }
          ],
          "carpet": [
           {
            "aaxis": {
             "endlinecolor": "#2a3f5f",
             "gridcolor": "white",
             "linecolor": "white",
             "minorgridcolor": "white",
             "startlinecolor": "#2a3f5f"
            },
            "baxis": {
             "endlinecolor": "#2a3f5f",
             "gridcolor": "white",
             "linecolor": "white",
             "minorgridcolor": "white",
             "startlinecolor": "#2a3f5f"
            },
            "type": "carpet"
           }
          ],
          "choropleth": [
           {
            "colorbar": {
             "outlinewidth": 0,
             "ticks": ""
            },
            "type": "choropleth"
           }
          ],
          "contour": [
           {
            "colorbar": {
             "outlinewidth": 0,
             "ticks": ""
            },
            "colorscale": [
             [
              0,
              "#0d0887"
             ],
             [
              0.1111111111111111,
              "#46039f"
             ],
             [
              0.2222222222222222,
              "#7201a8"
             ],
             [
              0.3333333333333333,
              "#9c179e"
             ],
             [
              0.4444444444444444,
              "#bd3786"
             ],
             [
              0.5555555555555556,
              "#d8576b"
             ],
             [
              0.6666666666666666,
              "#ed7953"
             ],
             [
              0.7777777777777778,
              "#fb9f3a"
             ],
             [
              0.8888888888888888,
              "#fdca26"
             ],
             [
              1,
              "#f0f921"
             ]
            ],
            "type": "contour"
           }
          ],
          "contourcarpet": [
           {
            "colorbar": {
             "outlinewidth": 0,
             "ticks": ""
            },
            "type": "contourcarpet"
           }
          ],
          "heatmap": [
           {
            "colorbar": {
             "outlinewidth": 0,
             "ticks": ""
            },
            "colorscale": [
             [
              0,
              "#0d0887"
             ],
             [
              0.1111111111111111,
              "#46039f"
             ],
             [
              0.2222222222222222,
              "#7201a8"
             ],
             [
              0.3333333333333333,
              "#9c179e"
             ],
             [
              0.4444444444444444,
              "#bd3786"
             ],
             [
              0.5555555555555556,
              "#d8576b"
             ],
             [
              0.6666666666666666,
              "#ed7953"
             ],
             [
              0.7777777777777778,
              "#fb9f3a"
             ],
             [
              0.8888888888888888,
              "#fdca26"
             ],
             [
              1,
              "#f0f921"
             ]
            ],
            "type": "heatmap"
           }
          ],
          "heatmapgl": [
           {
            "colorbar": {
             "outlinewidth": 0,
             "ticks": ""
            },
            "colorscale": [
             [
              0,
              "#0d0887"
             ],
             [
              0.1111111111111111,
              "#46039f"
             ],
             [
              0.2222222222222222,
              "#7201a8"
             ],
             [
              0.3333333333333333,
              "#9c179e"
             ],
             [
              0.4444444444444444,
              "#bd3786"
             ],
             [
              0.5555555555555556,
              "#d8576b"
             ],
             [
              0.6666666666666666,
              "#ed7953"
             ],
             [
              0.7777777777777778,
              "#fb9f3a"
             ],
             [
              0.8888888888888888,
              "#fdca26"
             ],
             [
              1,
              "#f0f921"
             ]
            ],
            "type": "heatmapgl"
           }
          ],
          "histogram": [
           {
            "marker": {
             "pattern": {
              "fillmode": "overlay",
              "size": 10,
              "solidity": 0.2
             }
            },
            "type": "histogram"
           }
          ],
          "histogram2d": [
           {
            "colorbar": {
             "outlinewidth": 0,
             "ticks": ""
            },
            "colorscale": [
             [
              0,
              "#0d0887"
             ],
             [
              0.1111111111111111,
              "#46039f"
             ],
             [
              0.2222222222222222,
              "#7201a8"
             ],
             [
              0.3333333333333333,
              "#9c179e"
             ],
             [
              0.4444444444444444,
              "#bd3786"
             ],
             [
              0.5555555555555556,
              "#d8576b"
             ],
             [
              0.6666666666666666,
              "#ed7953"
             ],
             [
              0.7777777777777778,
              "#fb9f3a"
             ],
             [
              0.8888888888888888,
              "#fdca26"
             ],
             [
              1,
              "#f0f921"
             ]
            ],
            "type": "histogram2d"
           }
          ],
          "histogram2dcontour": [
           {
            "colorbar": {
             "outlinewidth": 0,
             "ticks": ""
            },
            "colorscale": [
             [
              0,
              "#0d0887"
             ],
             [
              0.1111111111111111,
              "#46039f"
             ],
             [
              0.2222222222222222,
              "#7201a8"
             ],
             [
              0.3333333333333333,
              "#9c179e"
             ],
             [
              0.4444444444444444,
              "#bd3786"
             ],
             [
              0.5555555555555556,
              "#d8576b"
             ],
             [
              0.6666666666666666,
              "#ed7953"
             ],
             [
              0.7777777777777778,
              "#fb9f3a"
             ],
             [
              0.8888888888888888,
              "#fdca26"
             ],
             [
              1,
              "#f0f921"
             ]
            ],
            "type": "histogram2dcontour"
           }
          ],
          "mesh3d": [
           {
            "colorbar": {
             "outlinewidth": 0,
             "ticks": ""
            },
            "type": "mesh3d"
           }
          ],
          "parcoords": [
           {
            "line": {
             "colorbar": {
              "outlinewidth": 0,
              "ticks": ""
             }
            },
            "type": "parcoords"
           }
          ],
          "pie": [
           {
            "automargin": true,
            "type": "pie"
           }
          ],
          "scatter": [
           {
            "marker": {
             "colorbar": {
              "outlinewidth": 0,
              "ticks": ""
             }
            },
            "type": "scatter"
           }
          ],
          "scatter3d": [
           {
            "line": {
             "colorbar": {
              "outlinewidth": 0,
              "ticks": ""
             }
            },
            "marker": {
             "colorbar": {
              "outlinewidth": 0,
              "ticks": ""
             }
            },
            "type": "scatter3d"
           }
          ],
          "scattercarpet": [
           {
            "marker": {
             "colorbar": {
              "outlinewidth": 0,
              "ticks": ""
             }
            },
            "type": "scattercarpet"
           }
          ],
          "scattergeo": [
           {
            "marker": {
             "colorbar": {
              "outlinewidth": 0,
              "ticks": ""
             }
            },
            "type": "scattergeo"
           }
          ],
          "scattergl": [
           {
            "marker": {
             "colorbar": {
              "outlinewidth": 0,
              "ticks": ""
             }
            },
            "type": "scattergl"
           }
          ],
          "scattermapbox": [
           {
            "marker": {
             "colorbar": {
              "outlinewidth": 0,
              "ticks": ""
             }
            },
            "type": "scattermapbox"
           }
          ],
          "scatterpolar": [
           {
            "marker": {
             "colorbar": {
              "outlinewidth": 0,
              "ticks": ""
             }
            },
            "type": "scatterpolar"
           }
          ],
          "scatterpolargl": [
           {
            "marker": {
             "colorbar": {
              "outlinewidth": 0,
              "ticks": ""
             }
            },
            "type": "scatterpolargl"
           }
          ],
          "scatterternary": [
           {
            "marker": {
             "colorbar": {
              "outlinewidth": 0,
              "ticks": ""
             }
            },
            "type": "scatterternary"
           }
          ],
          "surface": [
           {
            "colorbar": {
             "outlinewidth": 0,
             "ticks": ""
            },
            "colorscale": [
             [
              0,
              "#0d0887"
             ],
             [
              0.1111111111111111,
              "#46039f"
             ],
             [
              0.2222222222222222,
              "#7201a8"
             ],
             [
              0.3333333333333333,
              "#9c179e"
             ],
             [
              0.4444444444444444,
              "#bd3786"
             ],
             [
              0.5555555555555556,
              "#d8576b"
             ],
             [
              0.6666666666666666,
              "#ed7953"
             ],
             [
              0.7777777777777778,
              "#fb9f3a"
             ],
             [
              0.8888888888888888,
              "#fdca26"
             ],
             [
              1,
              "#f0f921"
             ]
            ],
            "type": "surface"
           }
          ],
          "table": [
           {
            "cells": {
             "fill": {
              "color": "#EBF0F8"
             },
             "line": {
              "color": "white"
             }
            },
            "header": {
             "fill": {
              "color": "#C8D4E3"
             },
             "line": {
              "color": "white"
             }
            },
            "type": "table"
           }
          ]
         },
         "layout": {
          "annotationdefaults": {
           "arrowcolor": "#2a3f5f",
           "arrowhead": 0,
           "arrowwidth": 1
          },
          "autotypenumbers": "strict",
          "coloraxis": {
           "colorbar": {
            "outlinewidth": 0,
            "ticks": ""
           }
          },
          "colorscale": {
           "diverging": [
            [
             0,
             "#8e0152"
            ],
            [
             0.1,
             "#c51b7d"
            ],
            [
             0.2,
             "#de77ae"
            ],
            [
             0.3,
             "#f1b6da"
            ],
            [
             0.4,
             "#fde0ef"
            ],
            [
             0.5,
             "#f7f7f7"
            ],
            [
             0.6,
             "#e6f5d0"
            ],
            [
             0.7,
             "#b8e186"
            ],
            [
             0.8,
             "#7fbc41"
            ],
            [
             0.9,
             "#4d9221"
            ],
            [
             1,
             "#276419"
            ]
           ],
           "sequential": [
            [
             0,
             "#0d0887"
            ],
            [
             0.1111111111111111,
             "#46039f"
            ],
            [
             0.2222222222222222,
             "#7201a8"
            ],
            [
             0.3333333333333333,
             "#9c179e"
            ],
            [
             0.4444444444444444,
             "#bd3786"
            ],
            [
             0.5555555555555556,
             "#d8576b"
            ],
            [
             0.6666666666666666,
             "#ed7953"
            ],
            [
             0.7777777777777778,
             "#fb9f3a"
            ],
            [
             0.8888888888888888,
             "#fdca26"
            ],
            [
             1,
             "#f0f921"
            ]
           ],
           "sequentialminus": [
            [
             0,
             "#0d0887"
            ],
            [
             0.1111111111111111,
             "#46039f"
            ],
            [
             0.2222222222222222,
             "#7201a8"
            ],
            [
             0.3333333333333333,
             "#9c179e"
            ],
            [
             0.4444444444444444,
             "#bd3786"
            ],
            [
             0.5555555555555556,
             "#d8576b"
            ],
            [
             0.6666666666666666,
             "#ed7953"
            ],
            [
             0.7777777777777778,
             "#fb9f3a"
            ],
            [
             0.8888888888888888,
             "#fdca26"
            ],
            [
             1,
             "#f0f921"
            ]
           ]
          },
          "colorway": [
           "#636efa",
           "#EF553B",
           "#00cc96",
           "#ab63fa",
           "#FFA15A",
           "#19d3f3",
           "#FF6692",
           "#B6E880",
           "#FF97FF",
           "#FECB52"
          ],
          "font": {
           "color": "#2a3f5f"
          },
          "geo": {
           "bgcolor": "white",
           "lakecolor": "white",
           "landcolor": "#E5ECF6",
           "showlakes": true,
           "showland": true,
           "subunitcolor": "white"
          },
          "hoverlabel": {
           "align": "left"
          },
          "hovermode": "closest",
          "mapbox": {
           "style": "light"
          },
          "paper_bgcolor": "white",
          "plot_bgcolor": "#E5ECF6",
          "polar": {
           "angularaxis": {
            "gridcolor": "white",
            "linecolor": "white",
            "ticks": ""
           },
           "bgcolor": "#E5ECF6",
           "radialaxis": {
            "gridcolor": "white",
            "linecolor": "white",
            "ticks": ""
           }
          },
          "scene": {
           "xaxis": {
            "backgroundcolor": "#E5ECF6",
            "gridcolor": "white",
            "gridwidth": 2,
            "linecolor": "white",
            "showbackground": true,
            "ticks": "",
            "zerolinecolor": "white"
           },
           "yaxis": {
            "backgroundcolor": "#E5ECF6",
            "gridcolor": "white",
            "gridwidth": 2,
            "linecolor": "white",
            "showbackground": true,
            "ticks": "",
            "zerolinecolor": "white"
           },
           "zaxis": {
            "backgroundcolor": "#E5ECF6",
            "gridcolor": "white",
            "gridwidth": 2,
            "linecolor": "white",
            "showbackground": true,
            "ticks": "",
            "zerolinecolor": "white"
           }
          },
          "shapedefaults": {
           "line": {
            "color": "#2a3f5f"
           }
          },
          "ternary": {
           "aaxis": {
            "gridcolor": "white",
            "linecolor": "white",
            "ticks": ""
           },
           "baxis": {
            "gridcolor": "white",
            "linecolor": "white",
            "ticks": ""
           },
           "bgcolor": "#E5ECF6",
           "caxis": {
            "gridcolor": "white",
            "linecolor": "white",
            "ticks": ""
           }
          },
          "title": {
           "x": 0.05
          },
          "xaxis": {
           "automargin": true,
           "gridcolor": "white",
           "linecolor": "white",
           "ticks": "",
           "title": {
            "standoff": 15
           },
           "zerolinecolor": "white",
           "zerolinewidth": 2
          },
          "yaxis": {
           "automargin": true,
           "gridcolor": "white",
           "linecolor": "white",
           "ticks": "",
           "title": {
            "standoff": 15
           },
           "zerolinecolor": "white",
           "zerolinewidth": 2
          }
         }
        },
        "title": {
         "text": "standard deviation"
        }
       }
      },
      "text/html": [
       "<div>                            <div id=\"1df2c663-439c-475c-ac44-213ad77cdd8a\" class=\"plotly-graph-div\" style=\"height:525px; width:100%;\"></div>            <script type=\"text/javascript\">                require([\"plotly\"], function(Plotly) {                    window.PLOTLYENV=window.PLOTLYENV || {};                                    if (document.getElementById(\"1df2c663-439c-475c-ac44-213ad77cdd8a\")) {                    Plotly.newPlot(                        \"1df2c663-439c-475c-ac44-213ad77cdd8a\",                        [{\"coloraxis\":\"coloraxis\",\"geo\":\"geo\",\"hovertemplate\":\"<b>%{hovertext}</b><br><br>year=2007<br>iso_alpha=%{location}<br>gdpPercap=%{z}<extra></extra>\",\"hovertext\":[\"Albania\",\"Austria\",\"Belgium\",\"Bosnia and Herzegovina\",\"Bulgaria\",\"Croatia\",\"Czech Republic\",\"Denmark\",\"Finland\",\"France\",\"Germany\",\"Greece\",\"Hungary\",\"Iceland\",\"Ireland\",\"Italy\",\"Montenegro\",\"Netherlands\",\"Norway\",\"Poland\",\"Portugal\",\"Romania\",\"Serbia\",\"Slovak Republic\",\"Slovenia\",\"Spain\",\"Sweden\",\"Switzerland\",\"Turkey\",\"United Kingdom\",\"Argentina\",\"Bolivia\",\"Brazil\",\"Canada\",\"Chile\",\"Colombia\",\"Costa Rica\",\"Cuba\",\"Dominican Republic\",\"Ecuador\",\"El Salvador\",\"Guatemala\",\"Haiti\",\"Honduras\",\"Jamaica\",\"Mexico\",\"Nicaragua\",\"Panama\",\"Paraguay\",\"Peru\",\"Puerto Rico\",\"Trinidad and Tobago\",\"United States\",\"Uruguay\",\"Venezuela\"],\"locations\":[\"ALB\",\"AUT\",\"BEL\",\"BIH\",\"BGR\",\"HRV\",\"CZE\",\"DNK\",\"FIN\",\"FRA\",\"DEU\",\"GRC\",\"HUN\",\"ISL\",\"IRL\",\"ITA\",\"MNE\",\"NLD\",\"NOR\",\"POL\",\"PRT\",\"ROU\",\"SRB\",\"SVK\",\"SVN\",\"ESP\",\"SWE\",\"CHE\",\"TUR\",\"GBR\",\"ARG\",\"BOL\",\"BRA\",\"CAN\",\"CHL\",\"COL\",\"CRI\",\"CUB\",\"DOM\",\"ECU\",\"SLV\",\"GTM\",\"HTI\",\"HND\",\"JAM\",\"MEX\",\"NIC\",\"PAN\",\"PRY\",\"PER\",\"PRI\",\"TTO\",\"USA\",\"URY\",\"VEN\"],\"name\":\"\",\"z\":[5937.029525999998,36126.4927,33692.60508,7446.298803,10680.79282,14619.222719999998,22833.30851,35278.41874,33207.0844,30470.0167,32170.37442,27538.41188,18008.94444,36180.78919,40675.99635,28569.7197,9253.896111,36797.93332,49357.19017,15389.924680000002,20509.64777,10808.47561,9786.534714,18678.31435,25768.25759,28821.0637,33859.74835,37506.41907,8458.276384,33203.26128,12779.37964,3822.137084,9065.800825,36319.23501,13171.63885,7006.580419,9645.06142,8948.102923,6025.3747520000015,6873.262326000001,5728.353514,5186.050003,1201.637154,3548.3308460000007,7320.8802620000015,11977.57496,2749.320965,9809.185636,4172.838464,7408.905561,19328.70901,18008.50924,42951.65309,10611.46299,11415.80569],\"type\":\"choropleth\"}],                        {\"template\":{\"data\":{\"bar\":[{\"error_x\":{\"color\":\"#2a3f5f\"},\"error_y\":{\"color\":\"#2a3f5f\"},\"marker\":{\"line\":{\"color\":\"#E5ECF6\",\"width\":0.5},\"pattern\":{\"fillmode\":\"overlay\",\"size\":10,\"solidity\":0.2}},\"type\":\"bar\"}],\"barpolar\":[{\"marker\":{\"line\":{\"color\":\"#E5ECF6\",\"width\":0.5},\"pattern\":{\"fillmode\":\"overlay\",\"size\":10,\"solidity\":0.2}},\"type\":\"barpolar\"}],\"carpet\":[{\"aaxis\":{\"endlinecolor\":\"#2a3f5f\",\"gridcolor\":\"white\",\"linecolor\":\"white\",\"minorgridcolor\":\"white\",\"startlinecolor\":\"#2a3f5f\"},\"baxis\":{\"endlinecolor\":\"#2a3f5f\",\"gridcolor\":\"white\",\"linecolor\":\"white\",\"minorgridcolor\":\"white\",\"startlinecolor\":\"#2a3f5f\"},\"type\":\"carpet\"}],\"choropleth\":[{\"colorbar\":{\"outlinewidth\":0,\"ticks\":\"\"},\"type\":\"choropleth\"}],\"contour\":[{\"colorbar\":{\"outlinewidth\":0,\"ticks\":\"\"},\"colorscale\":[[0.0,\"#0d0887\"],[0.1111111111111111,\"#46039f\"],[0.2222222222222222,\"#7201a8\"],[0.3333333333333333,\"#9c179e\"],[0.4444444444444444,\"#bd3786\"],[0.5555555555555556,\"#d8576b\"],[0.6666666666666666,\"#ed7953\"],[0.7777777777777778,\"#fb9f3a\"],[0.8888888888888888,\"#fdca26\"],[1.0,\"#f0f921\"]],\"type\":\"contour\"}],\"contourcarpet\":[{\"colorbar\":{\"outlinewidth\":0,\"ticks\":\"\"},\"type\":\"contourcarpet\"}],\"heatmap\":[{\"colorbar\":{\"outlinewidth\":0,\"ticks\":\"\"},\"colorscale\":[[0.0,\"#0d0887\"],[0.1111111111111111,\"#46039f\"],[0.2222222222222222,\"#7201a8\"],[0.3333333333333333,\"#9c179e\"],[0.4444444444444444,\"#bd3786\"],[0.5555555555555556,\"#d8576b\"],[0.6666666666666666,\"#ed7953\"],[0.7777777777777778,\"#fb9f3a\"],[0.8888888888888888,\"#fdca26\"],[1.0,\"#f0f921\"]],\"type\":\"heatmap\"}],\"heatmapgl\":[{\"colorbar\":{\"outlinewidth\":0,\"ticks\":\"\"},\"colorscale\":[[0.0,\"#0d0887\"],[0.1111111111111111,\"#46039f\"],[0.2222222222222222,\"#7201a8\"],[0.3333333333333333,\"#9c179e\"],[0.4444444444444444,\"#bd3786\"],[0.5555555555555556,\"#d8576b\"],[0.6666666666666666,\"#ed7953\"],[0.7777777777777778,\"#fb9f3a\"],[0.8888888888888888,\"#fdca26\"],[1.0,\"#f0f921\"]],\"type\":\"heatmapgl\"}],\"histogram\":[{\"marker\":{\"pattern\":{\"fillmode\":\"overlay\",\"size\":10,\"solidity\":0.2}},\"type\":\"histogram\"}],\"histogram2d\":[{\"colorbar\":{\"outlinewidth\":0,\"ticks\":\"\"},\"colorscale\":[[0.0,\"#0d0887\"],[0.1111111111111111,\"#46039f\"],[0.2222222222222222,\"#7201a8\"],[0.3333333333333333,\"#9c179e\"],[0.4444444444444444,\"#bd3786\"],[0.5555555555555556,\"#d8576b\"],[0.6666666666666666,\"#ed7953\"],[0.7777777777777778,\"#fb9f3a\"],[0.8888888888888888,\"#fdca26\"],[1.0,\"#f0f921\"]],\"type\":\"histogram2d\"}],\"histogram2dcontour\":[{\"colorbar\":{\"outlinewidth\":0,\"ticks\":\"\"},\"colorscale\":[[0.0,\"#0d0887\"],[0.1111111111111111,\"#46039f\"],[0.2222222222222222,\"#7201a8\"],[0.3333333333333333,\"#9c179e\"],[0.4444444444444444,\"#bd3786\"],[0.5555555555555556,\"#d8576b\"],[0.6666666666666666,\"#ed7953\"],[0.7777777777777778,\"#fb9f3a\"],[0.8888888888888888,\"#fdca26\"],[1.0,\"#f0f921\"]],\"type\":\"histogram2dcontour\"}],\"mesh3d\":[{\"colorbar\":{\"outlinewidth\":0,\"ticks\":\"\"},\"type\":\"mesh3d\"}],\"parcoords\":[{\"line\":{\"colorbar\":{\"outlinewidth\":0,\"ticks\":\"\"}},\"type\":\"parcoords\"}],\"pie\":[{\"automargin\":true,\"type\":\"pie\"}],\"scatter\":[{\"marker\":{\"colorbar\":{\"outlinewidth\":0,\"ticks\":\"\"}},\"type\":\"scatter\"}],\"scatter3d\":[{\"line\":{\"colorbar\":{\"outlinewidth\":0,\"ticks\":\"\"}},\"marker\":{\"colorbar\":{\"outlinewidth\":0,\"ticks\":\"\"}},\"type\":\"scatter3d\"}],\"scattercarpet\":[{\"marker\":{\"colorbar\":{\"outlinewidth\":0,\"ticks\":\"\"}},\"type\":\"scattercarpet\"}],\"scattergeo\":[{\"marker\":{\"colorbar\":{\"outlinewidth\":0,\"ticks\":\"\"}},\"type\":\"scattergeo\"}],\"scattergl\":[{\"marker\":{\"colorbar\":{\"outlinewidth\":0,\"ticks\":\"\"}},\"type\":\"scattergl\"}],\"scattermapbox\":[{\"marker\":{\"colorbar\":{\"outlinewidth\":0,\"ticks\":\"\"}},\"type\":\"scattermapbox\"}],\"scatterpolar\":[{\"marker\":{\"colorbar\":{\"outlinewidth\":0,\"ticks\":\"\"}},\"type\":\"scatterpolar\"}],\"scatterpolargl\":[{\"marker\":{\"colorbar\":{\"outlinewidth\":0,\"ticks\":\"\"}},\"type\":\"scatterpolargl\"}],\"scatterternary\":[{\"marker\":{\"colorbar\":{\"outlinewidth\":0,\"ticks\":\"\"}},\"type\":\"scatterternary\"}],\"surface\":[{\"colorbar\":{\"outlinewidth\":0,\"ticks\":\"\"},\"colorscale\":[[0.0,\"#0d0887\"],[0.1111111111111111,\"#46039f\"],[0.2222222222222222,\"#7201a8\"],[0.3333333333333333,\"#9c179e\"],[0.4444444444444444,\"#bd3786\"],[0.5555555555555556,\"#d8576b\"],[0.6666666666666666,\"#ed7953\"],[0.7777777777777778,\"#fb9f3a\"],[0.8888888888888888,\"#fdca26\"],[1.0,\"#f0f921\"]],\"type\":\"surface\"}],\"table\":[{\"cells\":{\"fill\":{\"color\":\"#EBF0F8\"},\"line\":{\"color\":\"white\"}},\"header\":{\"fill\":{\"color\":\"#C8D4E3\"},\"line\":{\"color\":\"white\"}},\"type\":\"table\"}]},\"layout\":{\"annotationdefaults\":{\"arrowcolor\":\"#2a3f5f\",\"arrowhead\":0,\"arrowwidth\":1},\"autotypenumbers\":\"strict\",\"coloraxis\":{\"colorbar\":{\"outlinewidth\":0,\"ticks\":\"\"}},\"colorscale\":{\"diverging\":[[0,\"#8e0152\"],[0.1,\"#c51b7d\"],[0.2,\"#de77ae\"],[0.3,\"#f1b6da\"],[0.4,\"#fde0ef\"],[0.5,\"#f7f7f7\"],[0.6,\"#e6f5d0\"],[0.7,\"#b8e186\"],[0.8,\"#7fbc41\"],[0.9,\"#4d9221\"],[1,\"#276419\"]],\"sequential\":[[0.0,\"#0d0887\"],[0.1111111111111111,\"#46039f\"],[0.2222222222222222,\"#7201a8\"],[0.3333333333333333,\"#9c179e\"],[0.4444444444444444,\"#bd3786\"],[0.5555555555555556,\"#d8576b\"],[0.6666666666666666,\"#ed7953\"],[0.7777777777777778,\"#fb9f3a\"],[0.8888888888888888,\"#fdca26\"],[1.0,\"#f0f921\"]],\"sequentialminus\":[[0.0,\"#0d0887\"],[0.1111111111111111,\"#46039f\"],[0.2222222222222222,\"#7201a8\"],[0.3333333333333333,\"#9c179e\"],[0.4444444444444444,\"#bd3786\"],[0.5555555555555556,\"#d8576b\"],[0.6666666666666666,\"#ed7953\"],[0.7777777777777778,\"#fb9f3a\"],[0.8888888888888888,\"#fdca26\"],[1.0,\"#f0f921\"]]},\"colorway\":[\"#636efa\",\"#EF553B\",\"#00cc96\",\"#ab63fa\",\"#FFA15A\",\"#19d3f3\",\"#FF6692\",\"#B6E880\",\"#FF97FF\",\"#FECB52\"],\"font\":{\"color\":\"#2a3f5f\"},\"geo\":{\"bgcolor\":\"white\",\"lakecolor\":\"white\",\"landcolor\":\"#E5ECF6\",\"showlakes\":true,\"showland\":true,\"subunitcolor\":\"white\"},\"hoverlabel\":{\"align\":\"left\"},\"hovermode\":\"closest\",\"mapbox\":{\"style\":\"light\"},\"paper_bgcolor\":\"white\",\"plot_bgcolor\":\"#E5ECF6\",\"polar\":{\"angularaxis\":{\"gridcolor\":\"white\",\"linecolor\":\"white\",\"ticks\":\"\"},\"bgcolor\":\"#E5ECF6\",\"radialaxis\":{\"gridcolor\":\"white\",\"linecolor\":\"white\",\"ticks\":\"\"}},\"scene\":{\"xaxis\":{\"backgroundcolor\":\"#E5ECF6\",\"gridcolor\":\"white\",\"gridwidth\":2,\"linecolor\":\"white\",\"showbackground\":true,\"ticks\":\"\",\"zerolinecolor\":\"white\"},\"yaxis\":{\"backgroundcolor\":\"#E5ECF6\",\"gridcolor\":\"white\",\"gridwidth\":2,\"linecolor\":\"white\",\"showbackground\":true,\"ticks\":\"\",\"zerolinecolor\":\"white\"},\"zaxis\":{\"backgroundcolor\":\"#E5ECF6\",\"gridcolor\":\"white\",\"gridwidth\":2,\"linecolor\":\"white\",\"showbackground\":true,\"ticks\":\"\",\"zerolinecolor\":\"white\"}},\"shapedefaults\":{\"line\":{\"color\":\"#2a3f5f\"}},\"ternary\":{\"aaxis\":{\"gridcolor\":\"white\",\"linecolor\":\"white\",\"ticks\":\"\"},\"baxis\":{\"gridcolor\":\"white\",\"linecolor\":\"white\",\"ticks\":\"\"},\"bgcolor\":\"#E5ECF6\",\"caxis\":{\"gridcolor\":\"white\",\"linecolor\":\"white\",\"ticks\":\"\"}},\"title\":{\"x\":0.05},\"xaxis\":{\"automargin\":true,\"gridcolor\":\"white\",\"linecolor\":\"white\",\"ticks\":\"\",\"title\":{\"standoff\":15},\"zerolinecolor\":\"white\",\"zerolinewidth\":2},\"yaxis\":{\"automargin\":true,\"gridcolor\":\"white\",\"linecolor\":\"white\",\"ticks\":\"\",\"title\":{\"standoff\":15},\"zerolinecolor\":\"white\",\"zerolinewidth\":2}}},\"geo\":{\"domain\":{\"x\":[0.0,1.0],\"y\":[0.0,1.0]},\"center\":{}},\"coloraxis\":{\"colorbar\":{\"title\":{\"text\":\"gdpPercap\"}},\"colorscale\":[[0.0,\"rgb(247,244,249)\"],[0.125,\"rgb(231,225,239)\"],[0.25,\"rgb(212,185,218)\"],[0.375,\"rgb(201,148,199)\"],[0.5,\"rgb(223,101,176)\"],[0.625,\"rgb(231,41,138)\"],[0.75,\"rgb(206,18,86)\"],[0.875,\"rgb(152,0,67)\"],[1.0,\"rgb(103,0,31)\"]]},\"legend\":{\"tracegroupgap\":0},\"title\":{\"text\":\"standard deviation\"}},                        {\"responsive\": true}                    ).then(function(){\n",
       "                            \n",
       "var gd = document.getElementById('1df2c663-439c-475c-ac44-213ad77cdd8a');\n",
       "var x = new MutationObserver(function (mutations, observer) {{\n",
       "        var display = window.getComputedStyle(gd).display;\n",
       "        if (!display || display === 'none') {{\n",
       "            console.log([gd, 'removed!']);\n",
       "            Plotly.purge(gd);\n",
       "            observer.disconnect();\n",
       "        }}\n",
       "}});\n",
       "\n",
       "// Listen for the removal of the full notebook cells\n",
       "var notebookContainer = gd.closest('#notebook-container');\n",
       "if (notebookContainer) {{\n",
       "    x.observe(notebookContainer, {childList: true});\n",
       "}}\n",
       "\n",
       "// Listen for the clearing of the current output cell\n",
       "var outputEl = gd.closest('.output');\n",
       "if (outputEl) {{\n",
       "    x.observe(outputEl, {childList: true});\n",
       "}}\n",
       "\n",
       "                        })                };                });            </script>        </div>"
      ]
     },
     "metadata": {},
     "output_type": "display_data"
    }
   ],
   "source": [
    "fig = px.choropleth(Assign6d, locations=\"iso_alpha\",\n",
    "                    color=\"gdpPercap\",\n",
    "                    hover_name=\"country\",\n",
    "                    animation_frame=\"year\",\n",
    "                    title = \"standard deviation\",                 color_continuous_scale=px.colors.sequential.PuRd)\n",
    " \n",
    " \n",
    "fig[\"layout\"].pop(\"updatemenus\")\n",
    "fig.show()"
   ]
  },
  {
   "cell_type": "markdown",
   "id": "6f4f1faa",
   "metadata": {},
   "source": [
    "# 3. The change in population of each African country in the last 3 decades."
   ]
  },
  {
   "cell_type": "code",
   "execution_count": 101,
   "id": "05b350f8",
   "metadata": {},
   "outputs": [],
   "source": [
    "Assign6e = px.data.gapminder().query(\"year == 1977\").query(\"continent == 'Africa'\")"
   ]
  },
  {
   "cell_type": "code",
   "execution_count": 103,
   "id": "5e317d79",
   "metadata": {},
   "outputs": [
    {
     "data": {
      "text/html": [
       "<div>\n",
       "<style scoped>\n",
       "    .dataframe tbody tr th:only-of-type {\n",
       "        vertical-align: middle;\n",
       "    }\n",
       "\n",
       "    .dataframe tbody tr th {\n",
       "        vertical-align: top;\n",
       "    }\n",
       "\n",
       "    .dataframe thead th {\n",
       "        text-align: right;\n",
       "    }\n",
       "</style>\n",
       "<table border=\"1\" class=\"dataframe\">\n",
       "  <thead>\n",
       "    <tr style=\"text-align: right;\">\n",
       "      <th></th>\n",
       "      <th>country</th>\n",
       "      <th>continent</th>\n",
       "      <th>year</th>\n",
       "      <th>lifeExp</th>\n",
       "      <th>pop</th>\n",
       "      <th>gdpPercap</th>\n",
       "      <th>iso_alpha</th>\n",
       "      <th>iso_num</th>\n",
       "    </tr>\n",
       "  </thead>\n",
       "  <tbody>\n",
       "    <tr>\n",
       "      <th>29</th>\n",
       "      <td>Algeria</td>\n",
       "      <td>Africa</td>\n",
       "      <td>1977</td>\n",
       "      <td>58.014</td>\n",
       "      <td>17152804</td>\n",
       "      <td>4910.416756</td>\n",
       "      <td>DZA</td>\n",
       "      <td>12</td>\n",
       "    </tr>\n",
       "    <tr>\n",
       "      <th>41</th>\n",
       "      <td>Angola</td>\n",
       "      <td>Africa</td>\n",
       "      <td>1977</td>\n",
       "      <td>39.483</td>\n",
       "      <td>6162675</td>\n",
       "      <td>3008.647355</td>\n",
       "      <td>AGO</td>\n",
       "      <td>24</td>\n",
       "    </tr>\n",
       "    <tr>\n",
       "      <th>125</th>\n",
       "      <td>Benin</td>\n",
       "      <td>Africa</td>\n",
       "      <td>1977</td>\n",
       "      <td>49.190</td>\n",
       "      <td>3168267</td>\n",
       "      <td>1029.161251</td>\n",
       "      <td>BEN</td>\n",
       "      <td>204</td>\n",
       "    </tr>\n",
       "    <tr>\n",
       "      <th>161</th>\n",
       "      <td>Botswana</td>\n",
       "      <td>Africa</td>\n",
       "      <td>1977</td>\n",
       "      <td>59.319</td>\n",
       "      <td>781472</td>\n",
       "      <td>3214.857818</td>\n",
       "      <td>BWA</td>\n",
       "      <td>72</td>\n",
       "    </tr>\n",
       "    <tr>\n",
       "      <th>197</th>\n",
       "      <td>Burkina Faso</td>\n",
       "      <td>Africa</td>\n",
       "      <td>1977</td>\n",
       "      <td>46.137</td>\n",
       "      <td>5889574</td>\n",
       "      <td>743.387037</td>\n",
       "      <td>BFA</td>\n",
       "      <td>854</td>\n",
       "    </tr>\n",
       "  </tbody>\n",
       "</table>\n",
       "</div>"
      ],
      "text/plain": [
       "          country continent  year  lifeExp       pop    gdpPercap iso_alpha  \\\n",
       "29        Algeria    Africa  1977   58.014  17152804  4910.416756       DZA   \n",
       "41         Angola    Africa  1977   39.483   6162675  3008.647355       AGO   \n",
       "125         Benin    Africa  1977   49.190   3168267  1029.161251       BEN   \n",
       "161      Botswana    Africa  1977   59.319    781472  3214.857818       BWA   \n",
       "197  Burkina Faso    Africa  1977   46.137   5889574   743.387037       BFA   \n",
       "\n",
       "     iso_num  \n",
       "29        12  \n",
       "41        24  \n",
       "125      204  \n",
       "161       72  \n",
       "197      854  "
      ]
     },
     "execution_count": 103,
     "metadata": {},
     "output_type": "execute_result"
    }
   ],
   "source": [
    "Assign6e.head()"
   ]
  },
  {
   "cell_type": "code",
   "execution_count": 104,
   "id": "5018b5d5",
   "metadata": {},
   "outputs": [],
   "source": [
    "Assign6f = px.data.gapminder().query(\"year == 2007\").query(\"continent == 'Africa'\")"
   ]
  },
  {
   "cell_type": "code",
   "execution_count": 105,
   "id": "703b1445",
   "metadata": {},
   "outputs": [
    {
     "data": {
      "text/html": [
       "<div>\n",
       "<style scoped>\n",
       "    .dataframe tbody tr th:only-of-type {\n",
       "        vertical-align: middle;\n",
       "    }\n",
       "\n",
       "    .dataframe tbody tr th {\n",
       "        vertical-align: top;\n",
       "    }\n",
       "\n",
       "    .dataframe thead th {\n",
       "        text-align: right;\n",
       "    }\n",
       "</style>\n",
       "<table border=\"1\" class=\"dataframe\">\n",
       "  <thead>\n",
       "    <tr style=\"text-align: right;\">\n",
       "      <th></th>\n",
       "      <th>country</th>\n",
       "      <th>continent</th>\n",
       "      <th>year</th>\n",
       "      <th>lifeExp</th>\n",
       "      <th>pop</th>\n",
       "      <th>gdpPercap</th>\n",
       "      <th>iso_alpha</th>\n",
       "      <th>iso_num</th>\n",
       "    </tr>\n",
       "  </thead>\n",
       "  <tbody>\n",
       "    <tr>\n",
       "      <th>35</th>\n",
       "      <td>Algeria</td>\n",
       "      <td>Africa</td>\n",
       "      <td>2007</td>\n",
       "      <td>72.301</td>\n",
       "      <td>33333216</td>\n",
       "      <td>6223.367465</td>\n",
       "      <td>DZA</td>\n",
       "      <td>12</td>\n",
       "    </tr>\n",
       "    <tr>\n",
       "      <th>47</th>\n",
       "      <td>Angola</td>\n",
       "      <td>Africa</td>\n",
       "      <td>2007</td>\n",
       "      <td>42.731</td>\n",
       "      <td>12420476</td>\n",
       "      <td>4797.231267</td>\n",
       "      <td>AGO</td>\n",
       "      <td>24</td>\n",
       "    </tr>\n",
       "    <tr>\n",
       "      <th>131</th>\n",
       "      <td>Benin</td>\n",
       "      <td>Africa</td>\n",
       "      <td>2007</td>\n",
       "      <td>56.728</td>\n",
       "      <td>8078314</td>\n",
       "      <td>1441.284873</td>\n",
       "      <td>BEN</td>\n",
       "      <td>204</td>\n",
       "    </tr>\n",
       "    <tr>\n",
       "      <th>167</th>\n",
       "      <td>Botswana</td>\n",
       "      <td>Africa</td>\n",
       "      <td>2007</td>\n",
       "      <td>50.728</td>\n",
       "      <td>1639131</td>\n",
       "      <td>12569.851770</td>\n",
       "      <td>BWA</td>\n",
       "      <td>72</td>\n",
       "    </tr>\n",
       "    <tr>\n",
       "      <th>203</th>\n",
       "      <td>Burkina Faso</td>\n",
       "      <td>Africa</td>\n",
       "      <td>2007</td>\n",
       "      <td>52.295</td>\n",
       "      <td>14326203</td>\n",
       "      <td>1217.032994</td>\n",
       "      <td>BFA</td>\n",
       "      <td>854</td>\n",
       "    </tr>\n",
       "  </tbody>\n",
       "</table>\n",
       "</div>"
      ],
      "text/plain": [
       "          country continent  year  lifeExp       pop     gdpPercap iso_alpha  \\\n",
       "35        Algeria    Africa  2007   72.301  33333216   6223.367465       DZA   \n",
       "47         Angola    Africa  2007   42.731  12420476   4797.231267       AGO   \n",
       "131         Benin    Africa  2007   56.728   8078314   1441.284873       BEN   \n",
       "167      Botswana    Africa  2007   50.728   1639131  12569.851770       BWA   \n",
       "203  Burkina Faso    Africa  2007   52.295  14326203   1217.032994       BFA   \n",
       "\n",
       "     iso_num  \n",
       "35        12  \n",
       "47        24  \n",
       "131      204  \n",
       "167       72  \n",
       "203      854  "
      ]
     },
     "execution_count": 105,
     "metadata": {},
     "output_type": "execute_result"
    }
   ],
   "source": [
    "Assign6f.head()"
   ]
  },
  {
   "cell_type": "code",
   "execution_count": 110,
   "id": "59405e27",
   "metadata": {},
   "outputs": [
    {
     "data": {
      "application/vnd.plotly.v1+json": {
       "config": {
        "plotlyServerURL": "https://plot.ly"
       },
       "data": [
        {
         "hovertemplate": "<b>%{hovertext}</b><br><br>country=Algeria<br>lifeExp=%{x}<br>pop=%{marker.size}<extra></extra>",
         "hovertext": [
          "Algeria"
         ],
         "legendgroup": "Algeria",
         "marker": {
          "color": "#636efa",
          "size": [
           17152804
          ],
          "sizemode": "area",
          "sizeref": 17280.325833333332,
          "symbol": "circle"
         },
         "mode": "markers",
         "name": "Algeria",
         "orientation": "v",
         "showlegend": true,
         "type": "scatter",
         "x": [
          58.014
         ],
         "xaxis": "x",
         "y": [
          17152804
         ],
         "yaxis": "y"
        },
        {
         "hovertemplate": "<b>%{hovertext}</b><br><br>country=Angola<br>lifeExp=%{x}<br>pop=%{marker.size}<extra></extra>",
         "hovertext": [
          "Angola"
         ],
         "legendgroup": "Angola",
         "marker": {
          "color": "#EF553B",
          "size": [
           6162675
          ],
          "sizemode": "area",
          "sizeref": 17280.325833333332,
          "symbol": "circle"
         },
         "mode": "markers",
         "name": "Angola",
         "orientation": "v",
         "showlegend": true,
         "type": "scatter",
         "x": [
          39.483
         ],
         "xaxis": "x",
         "y": [
          6162675
         ],
         "yaxis": "y"
        },
        {
         "hovertemplate": "<b>%{hovertext}</b><br><br>country=Benin<br>lifeExp=%{x}<br>pop=%{marker.size}<extra></extra>",
         "hovertext": [
          "Benin"
         ],
         "legendgroup": "Benin",
         "marker": {
          "color": "#00cc96",
          "size": [
           3168267
          ],
          "sizemode": "area",
          "sizeref": 17280.325833333332,
          "symbol": "circle"
         },
         "mode": "markers",
         "name": "Benin",
         "orientation": "v",
         "showlegend": true,
         "type": "scatter",
         "x": [
          49.19
         ],
         "xaxis": "x",
         "y": [
          3168267
         ],
         "yaxis": "y"
        },
        {
         "hovertemplate": "<b>%{hovertext}</b><br><br>country=Botswana<br>lifeExp=%{x}<br>pop=%{marker.size}<extra></extra>",
         "hovertext": [
          "Botswana"
         ],
         "legendgroup": "Botswana",
         "marker": {
          "color": "#ab63fa",
          "size": [
           781472
          ],
          "sizemode": "area",
          "sizeref": 17280.325833333332,
          "symbol": "circle"
         },
         "mode": "markers",
         "name": "Botswana",
         "orientation": "v",
         "showlegend": true,
         "type": "scatter",
         "x": [
          59.319
         ],
         "xaxis": "x",
         "y": [
          781472
         ],
         "yaxis": "y"
        },
        {
         "hovertemplate": "<b>%{hovertext}</b><br><br>country=Burkina Faso<br>lifeExp=%{x}<br>pop=%{marker.size}<extra></extra>",
         "hovertext": [
          "Burkina Faso"
         ],
         "legendgroup": "Burkina Faso",
         "marker": {
          "color": "#FFA15A",
          "size": [
           5889574
          ],
          "sizemode": "area",
          "sizeref": 17280.325833333332,
          "symbol": "circle"
         },
         "mode": "markers",
         "name": "Burkina Faso",
         "orientation": "v",
         "showlegend": true,
         "type": "scatter",
         "x": [
          46.137
         ],
         "xaxis": "x",
         "y": [
          5889574
         ],
         "yaxis": "y"
        },
        {
         "hovertemplate": "<b>%{hovertext}</b><br><br>country=Burundi<br>lifeExp=%{x}<br>pop=%{marker.size}<extra></extra>",
         "hovertext": [
          "Burundi"
         ],
         "legendgroup": "Burundi",
         "marker": {
          "color": "#19d3f3",
          "size": [
           3834415
          ],
          "sizemode": "area",
          "sizeref": 17280.325833333332,
          "symbol": "circle"
         },
         "mode": "markers",
         "name": "Burundi",
         "orientation": "v",
         "showlegend": true,
         "type": "scatter",
         "x": [
          45.91
         ],
         "xaxis": "x",
         "y": [
          3834415
         ],
         "yaxis": "y"
        },
        {
         "hovertemplate": "<b>%{hovertext}</b><br><br>country=Cameroon<br>lifeExp=%{x}<br>pop=%{marker.size}<extra></extra>",
         "hovertext": [
          "Cameroon"
         ],
         "legendgroup": "Cameroon",
         "marker": {
          "color": "#FF6692",
          "size": [
           7959865
          ],
          "sizemode": "area",
          "sizeref": 17280.325833333332,
          "symbol": "circle"
         },
         "mode": "markers",
         "name": "Cameroon",
         "orientation": "v",
         "showlegend": true,
         "type": "scatter",
         "x": [
          49.355
         ],
         "xaxis": "x",
         "y": [
          7959865
         ],
         "yaxis": "y"
        },
        {
         "hovertemplate": "<b>%{hovertext}</b><br><br>country=Central African Republic<br>lifeExp=%{x}<br>pop=%{marker.size}<extra></extra>",
         "hovertext": [
          "Central African Republic"
         ],
         "legendgroup": "Central African Republic",
         "marker": {
          "color": "#B6E880",
          "size": [
           2167533
          ],
          "sizemode": "area",
          "sizeref": 17280.325833333332,
          "symbol": "circle"
         },
         "mode": "markers",
         "name": "Central African Republic",
         "orientation": "v",
         "showlegend": true,
         "type": "scatter",
         "x": [
          46.775
         ],
         "xaxis": "x",
         "y": [
          2167533
         ],
         "yaxis": "y"
        },
        {
         "hovertemplate": "<b>%{hovertext}</b><br><br>country=Chad<br>lifeExp=%{x}<br>pop=%{marker.size}<extra></extra>",
         "hovertext": [
          "Chad"
         ],
         "legendgroup": "Chad",
         "marker": {
          "color": "#FF97FF",
          "size": [
           4388260
          ],
          "sizemode": "area",
          "sizeref": 17280.325833333332,
          "symbol": "circle"
         },
         "mode": "markers",
         "name": "Chad",
         "orientation": "v",
         "showlegend": true,
         "type": "scatter",
         "x": [
          47.383
         ],
         "xaxis": "x",
         "y": [
          4388260
         ],
         "yaxis": "y"
        },
        {
         "hovertemplate": "<b>%{hovertext}</b><br><br>country=Comoros<br>lifeExp=%{x}<br>pop=%{marker.size}<extra></extra>",
         "hovertext": [
          "Comoros"
         ],
         "legendgroup": "Comoros",
         "marker": {
          "color": "#FECB52",
          "size": [
           304739
          ],
          "sizemode": "area",
          "sizeref": 17280.325833333332,
          "symbol": "circle"
         },
         "mode": "markers",
         "name": "Comoros",
         "orientation": "v",
         "showlegend": true,
         "type": "scatter",
         "x": [
          50.93899999999999
         ],
         "xaxis": "x",
         "y": [
          304739
         ],
         "yaxis": "y"
        },
        {
         "hovertemplate": "<b>%{hovertext}</b><br><br>country=Congo, Dem. Rep.<br>lifeExp=%{x}<br>pop=%{marker.size}<extra></extra>",
         "hovertext": [
          "Congo, Dem. Rep."
         ],
         "legendgroup": "Congo, Dem. Rep.",
         "marker": {
          "color": "#636efa",
          "size": [
           26480870
          ],
          "sizemode": "area",
          "sizeref": 17280.325833333332,
          "symbol": "circle"
         },
         "mode": "markers",
         "name": "Congo, Dem. Rep.",
         "orientation": "v",
         "showlegend": true,
         "type": "scatter",
         "x": [
          47.804
         ],
         "xaxis": "x",
         "y": [
          26480870
         ],
         "yaxis": "y"
        },
        {
         "hovertemplate": "<b>%{hovertext}</b><br><br>country=Congo, Rep.<br>lifeExp=%{x}<br>pop=%{marker.size}<extra></extra>",
         "hovertext": [
          "Congo, Rep."
         ],
         "legendgroup": "Congo, Rep.",
         "marker": {
          "color": "#EF553B",
          "size": [
           1536769
          ],
          "sizemode": "area",
          "sizeref": 17280.325833333332,
          "symbol": "circle"
         },
         "mode": "markers",
         "name": "Congo, Rep.",
         "orientation": "v",
         "showlegend": true,
         "type": "scatter",
         "x": [
          55.625
         ],
         "xaxis": "x",
         "y": [
          1536769
         ],
         "yaxis": "y"
        },
        {
         "hovertemplate": "<b>%{hovertext}</b><br><br>country=Cote d'Ivoire<br>lifeExp=%{x}<br>pop=%{marker.size}<extra></extra>",
         "hovertext": [
          "Cote d'Ivoire"
         ],
         "legendgroup": "Cote d'Ivoire",
         "marker": {
          "color": "#00cc96",
          "size": [
           7459574
          ],
          "sizemode": "area",
          "sizeref": 17280.325833333332,
          "symbol": "circle"
         },
         "mode": "markers",
         "name": "Cote d'Ivoire",
         "orientation": "v",
         "showlegend": true,
         "type": "scatter",
         "x": [
          52.374
         ],
         "xaxis": "x",
         "y": [
          7459574
         ],
         "yaxis": "y"
        },
        {
         "hovertemplate": "<b>%{hovertext}</b><br><br>country=Djibouti<br>lifeExp=%{x}<br>pop=%{marker.size}<extra></extra>",
         "hovertext": [
          "Djibouti"
         ],
         "legendgroup": "Djibouti",
         "marker": {
          "color": "#ab63fa",
          "size": [
           228694
          ],
          "sizemode": "area",
          "sizeref": 17280.325833333332,
          "symbol": "circle"
         },
         "mode": "markers",
         "name": "Djibouti",
         "orientation": "v",
         "showlegend": true,
         "type": "scatter",
         "x": [
          46.519
         ],
         "xaxis": "x",
         "y": [
          228694
         ],
         "yaxis": "y"
        },
        {
         "hovertemplate": "<b>%{hovertext}</b><br><br>country=Egypt<br>lifeExp=%{x}<br>pop=%{marker.size}<extra></extra>",
         "hovertext": [
          "Egypt"
         ],
         "legendgroup": "Egypt",
         "marker": {
          "color": "#FFA15A",
          "size": [
           38783863
          ],
          "sizemode": "area",
          "sizeref": 17280.325833333332,
          "symbol": "circle"
         },
         "mode": "markers",
         "name": "Egypt",
         "orientation": "v",
         "showlegend": true,
         "type": "scatter",
         "x": [
          53.319
         ],
         "xaxis": "x",
         "y": [
          38783863
         ],
         "yaxis": "y"
        },
        {
         "hovertemplate": "<b>%{hovertext}</b><br><br>country=Equatorial Guinea<br>lifeExp=%{x}<br>pop=%{marker.size}<extra></extra>",
         "hovertext": [
          "Equatorial Guinea"
         ],
         "legendgroup": "Equatorial Guinea",
         "marker": {
          "color": "#19d3f3",
          "size": [
           192675
          ],
          "sizemode": "area",
          "sizeref": 17280.325833333332,
          "symbol": "circle"
         },
         "mode": "markers",
         "name": "Equatorial Guinea",
         "orientation": "v",
         "showlegend": true,
         "type": "scatter",
         "x": [
          42.024
         ],
         "xaxis": "x",
         "y": [
          192675
         ],
         "yaxis": "y"
        },
        {
         "hovertemplate": "<b>%{hovertext}</b><br><br>country=Eritrea<br>lifeExp=%{x}<br>pop=%{marker.size}<extra></extra>",
         "hovertext": [
          "Eritrea"
         ],
         "legendgroup": "Eritrea",
         "marker": {
          "color": "#FF6692",
          "size": [
           2512642
          ],
          "sizemode": "area",
          "sizeref": 17280.325833333332,
          "symbol": "circle"
         },
         "mode": "markers",
         "name": "Eritrea",
         "orientation": "v",
         "showlegend": true,
         "type": "scatter",
         "x": [
          44.535
         ],
         "xaxis": "x",
         "y": [
          2512642
         ],
         "yaxis": "y"
        },
        {
         "hovertemplate": "<b>%{hovertext}</b><br><br>country=Ethiopia<br>lifeExp=%{x}<br>pop=%{marker.size}<extra></extra>",
         "hovertext": [
          "Ethiopia"
         ],
         "legendgroup": "Ethiopia",
         "marker": {
          "color": "#B6E880",
          "size": [
           34617799
          ],
          "sizemode": "area",
          "sizeref": 17280.325833333332,
          "symbol": "circle"
         },
         "mode": "markers",
         "name": "Ethiopia",
         "orientation": "v",
         "showlegend": true,
         "type": "scatter",
         "x": [
          44.51
         ],
         "xaxis": "x",
         "y": [
          34617799
         ],
         "yaxis": "y"
        },
        {
         "hovertemplate": "<b>%{hovertext}</b><br><br>country=Gabon<br>lifeExp=%{x}<br>pop=%{marker.size}<extra></extra>",
         "hovertext": [
          "Gabon"
         ],
         "legendgroup": "Gabon",
         "marker": {
          "color": "#FF97FF",
          "size": [
           706367
          ],
          "sizemode": "area",
          "sizeref": 17280.325833333332,
          "symbol": "circle"
         },
         "mode": "markers",
         "name": "Gabon",
         "orientation": "v",
         "showlegend": true,
         "type": "scatter",
         "x": [
          52.79
         ],
         "xaxis": "x",
         "y": [
          706367
         ],
         "yaxis": "y"
        },
        {
         "hovertemplate": "<b>%{hovertext}</b><br><br>country=Gambia<br>lifeExp=%{x}<br>pop=%{marker.size}<extra></extra>",
         "hovertext": [
          "Gambia"
         ],
         "legendgroup": "Gambia",
         "marker": {
          "color": "#FECB52",
          "size": [
           608274
          ],
          "sizemode": "area",
          "sizeref": 17280.325833333332,
          "symbol": "circle"
         },
         "mode": "markers",
         "name": "Gambia",
         "orientation": "v",
         "showlegend": true,
         "type": "scatter",
         "x": [
          41.842
         ],
         "xaxis": "x",
         "y": [
          608274
         ],
         "yaxis": "y"
        },
        {
         "hovertemplate": "<b>%{hovertext}</b><br><br>country=Ghana<br>lifeExp=%{x}<br>pop=%{marker.size}<extra></extra>",
         "hovertext": [
          "Ghana"
         ],
         "legendgroup": "Ghana",
         "marker": {
          "color": "#636efa",
          "size": [
           10538093
          ],
          "sizemode": "area",
          "sizeref": 17280.325833333332,
          "symbol": "circle"
         },
         "mode": "markers",
         "name": "Ghana",
         "orientation": "v",
         "showlegend": true,
         "type": "scatter",
         "x": [
          51.756
         ],
         "xaxis": "x",
         "y": [
          10538093
         ],
         "yaxis": "y"
        },
        {
         "hovertemplate": "<b>%{hovertext}</b><br><br>country=Guinea<br>lifeExp=%{x}<br>pop=%{marker.size}<extra></extra>",
         "hovertext": [
          "Guinea"
         ],
         "legendgroup": "Guinea",
         "marker": {
          "color": "#EF553B",
          "size": [
           4227026
          ],
          "sizemode": "area",
          "sizeref": 17280.325833333332,
          "symbol": "circle"
         },
         "mode": "markers",
         "name": "Guinea",
         "orientation": "v",
         "showlegend": true,
         "type": "scatter",
         "x": [
          40.762
         ],
         "xaxis": "x",
         "y": [
          4227026
         ],
         "yaxis": "y"
        },
        {
         "hovertemplate": "<b>%{hovertext}</b><br><br>country=Guinea-Bissau<br>lifeExp=%{x}<br>pop=%{marker.size}<extra></extra>",
         "hovertext": [
          "Guinea-Bissau"
         ],
         "legendgroup": "Guinea-Bissau",
         "marker": {
          "color": "#00cc96",
          "size": [
           745228
          ],
          "sizemode": "area",
          "sizeref": 17280.325833333332,
          "symbol": "circle"
         },
         "mode": "markers",
         "name": "Guinea-Bissau",
         "orientation": "v",
         "showlegend": true,
         "type": "scatter",
         "x": [
          37.465
         ],
         "xaxis": "x",
         "y": [
          745228
         ],
         "yaxis": "y"
        },
        {
         "hovertemplate": "<b>%{hovertext}</b><br><br>country=Kenya<br>lifeExp=%{x}<br>pop=%{marker.size}<extra></extra>",
         "hovertext": [
          "Kenya"
         ],
         "legendgroup": "Kenya",
         "marker": {
          "color": "#ab63fa",
          "size": [
           14500404
          ],
          "sizemode": "area",
          "sizeref": 17280.325833333332,
          "symbol": "circle"
         },
         "mode": "markers",
         "name": "Kenya",
         "orientation": "v",
         "showlegend": true,
         "type": "scatter",
         "x": [
          56.155
         ],
         "xaxis": "x",
         "y": [
          14500404
         ],
         "yaxis": "y"
        },
        {
         "hovertemplate": "<b>%{hovertext}</b><br><br>country=Lesotho<br>lifeExp=%{x}<br>pop=%{marker.size}<extra></extra>",
         "hovertext": [
          "Lesotho"
         ],
         "legendgroup": "Lesotho",
         "marker": {
          "color": "#FFA15A",
          "size": [
           1251524
          ],
          "sizemode": "area",
          "sizeref": 17280.325833333332,
          "symbol": "circle"
         },
         "mode": "markers",
         "name": "Lesotho",
         "orientation": "v",
         "showlegend": true,
         "type": "scatter",
         "x": [
          52.208
         ],
         "xaxis": "x",
         "y": [
          1251524
         ],
         "yaxis": "y"
        },
        {
         "hovertemplate": "<b>%{hovertext}</b><br><br>country=Liberia<br>lifeExp=%{x}<br>pop=%{marker.size}<extra></extra>",
         "hovertext": [
          "Liberia"
         ],
         "legendgroup": "Liberia",
         "marker": {
          "color": "#19d3f3",
          "size": [
           1703617
          ],
          "sizemode": "area",
          "sizeref": 17280.325833333332,
          "symbol": "circle"
         },
         "mode": "markers",
         "name": "Liberia",
         "orientation": "v",
         "showlegend": true,
         "type": "scatter",
         "x": [
          43.764
         ],
         "xaxis": "x",
         "y": [
          1703617
         ],
         "yaxis": "y"
        },
        {
         "hovertemplate": "<b>%{hovertext}</b><br><br>country=Libya<br>lifeExp=%{x}<br>pop=%{marker.size}<extra></extra>",
         "hovertext": [
          "Libya"
         ],
         "legendgroup": "Libya",
         "marker": {
          "color": "#FF6692",
          "size": [
           2721783
          ],
          "sizemode": "area",
          "sizeref": 17280.325833333332,
          "symbol": "circle"
         },
         "mode": "markers",
         "name": "Libya",
         "orientation": "v",
         "showlegend": true,
         "type": "scatter",
         "x": [
          57.442
         ],
         "xaxis": "x",
         "y": [
          2721783
         ],
         "yaxis": "y"
        },
        {
         "hovertemplate": "<b>%{hovertext}</b><br><br>country=Madagascar<br>lifeExp=%{x}<br>pop=%{marker.size}<extra></extra>",
         "hovertext": [
          "Madagascar"
         ],
         "legendgroup": "Madagascar",
         "marker": {
          "color": "#B6E880",
          "size": [
           8007166
          ],
          "sizemode": "area",
          "sizeref": 17280.325833333332,
          "symbol": "circle"
         },
         "mode": "markers",
         "name": "Madagascar",
         "orientation": "v",
         "showlegend": true,
         "type": "scatter",
         "x": [
          46.881
         ],
         "xaxis": "x",
         "y": [
          8007166
         ],
         "yaxis": "y"
        },
        {
         "hovertemplate": "<b>%{hovertext}</b><br><br>country=Malawi<br>lifeExp=%{x}<br>pop=%{marker.size}<extra></extra>",
         "hovertext": [
          "Malawi"
         ],
         "legendgroup": "Malawi",
         "marker": {
          "color": "#FF97FF",
          "size": [
           5637246
          ],
          "sizemode": "area",
          "sizeref": 17280.325833333332,
          "symbol": "circle"
         },
         "mode": "markers",
         "name": "Malawi",
         "orientation": "v",
         "showlegend": true,
         "type": "scatter",
         "x": [
          43.767
         ],
         "xaxis": "x",
         "y": [
          5637246
         ],
         "yaxis": "y"
        },
        {
         "hovertemplate": "<b>%{hovertext}</b><br><br>country=Mali<br>lifeExp=%{x}<br>pop=%{marker.size}<extra></extra>",
         "hovertext": [
          "Mali"
         ],
         "legendgroup": "Mali",
         "marker": {
          "color": "#FECB52",
          "size": [
           6491649
          ],
          "sizemode": "area",
          "sizeref": 17280.325833333332,
          "symbol": "circle"
         },
         "mode": "markers",
         "name": "Mali",
         "orientation": "v",
         "showlegend": true,
         "type": "scatter",
         "x": [
          41.714
         ],
         "xaxis": "x",
         "y": [
          6491649
         ],
         "yaxis": "y"
        },
        {
         "hovertemplate": "<b>%{hovertext}</b><br><br>country=Mauritania<br>lifeExp=%{x}<br>pop=%{marker.size}<extra></extra>",
         "hovertext": [
          "Mauritania"
         ],
         "legendgroup": "Mauritania",
         "marker": {
          "color": "#636efa",
          "size": [
           1456688
          ],
          "sizemode": "area",
          "sizeref": 17280.325833333332,
          "symbol": "circle"
         },
         "mode": "markers",
         "name": "Mauritania",
         "orientation": "v",
         "showlegend": true,
         "type": "scatter",
         "x": [
          50.852
         ],
         "xaxis": "x",
         "y": [
          1456688
         ],
         "yaxis": "y"
        },
        {
         "hovertemplate": "<b>%{hovertext}</b><br><br>country=Mauritius<br>lifeExp=%{x}<br>pop=%{marker.size}<extra></extra>",
         "hovertext": [
          "Mauritius"
         ],
         "legendgroup": "Mauritius",
         "marker": {
          "color": "#EF553B",
          "size": [
           913025
          ],
          "sizemode": "area",
          "sizeref": 17280.325833333332,
          "symbol": "circle"
         },
         "mode": "markers",
         "name": "Mauritius",
         "orientation": "v",
         "showlegend": true,
         "type": "scatter",
         "x": [
          64.93
         ],
         "xaxis": "x",
         "y": [
          913025
         ],
         "yaxis": "y"
        },
        {
         "hovertemplate": "<b>%{hovertext}</b><br><br>country=Morocco<br>lifeExp=%{x}<br>pop=%{marker.size}<extra></extra>",
         "hovertext": [
          "Morocco"
         ],
         "legendgroup": "Morocco",
         "marker": {
          "color": "#00cc96",
          "size": [
           18396941
          ],
          "sizemode": "area",
          "sizeref": 17280.325833333332,
          "symbol": "circle"
         },
         "mode": "markers",
         "name": "Morocco",
         "orientation": "v",
         "showlegend": true,
         "type": "scatter",
         "x": [
          55.73
         ],
         "xaxis": "x",
         "y": [
          18396941
         ],
         "yaxis": "y"
        },
        {
         "hovertemplate": "<b>%{hovertext}</b><br><br>country=Mozambique<br>lifeExp=%{x}<br>pop=%{marker.size}<extra></extra>",
         "hovertext": [
          "Mozambique"
         ],
         "legendgroup": "Mozambique",
         "marker": {
          "color": "#ab63fa",
          "size": [
           11127868
          ],
          "sizemode": "area",
          "sizeref": 17280.325833333332,
          "symbol": "circle"
         },
         "mode": "markers",
         "name": "Mozambique",
         "orientation": "v",
         "showlegend": true,
         "type": "scatter",
         "x": [
          42.495
         ],
         "xaxis": "x",
         "y": [
          11127868
         ],
         "yaxis": "y"
        },
        {
         "hovertemplate": "<b>%{hovertext}</b><br><br>country=Namibia<br>lifeExp=%{x}<br>pop=%{marker.size}<extra></extra>",
         "hovertext": [
          "Namibia"
         ],
         "legendgroup": "Namibia",
         "marker": {
          "color": "#FFA15A",
          "size": [
           977026
          ],
          "sizemode": "area",
          "sizeref": 17280.325833333332,
          "symbol": "circle"
         },
         "mode": "markers",
         "name": "Namibia",
         "orientation": "v",
         "showlegend": true,
         "type": "scatter",
         "x": [
          56.437
         ],
         "xaxis": "x",
         "y": [
          977026
         ],
         "yaxis": "y"
        },
        {
         "hovertemplate": "<b>%{hovertext}</b><br><br>country=Niger<br>lifeExp=%{x}<br>pop=%{marker.size}<extra></extra>",
         "hovertext": [
          "Niger"
         ],
         "legendgroup": "Niger",
         "marker": {
          "color": "#19d3f3",
          "size": [
           5682086
          ],
          "sizemode": "area",
          "sizeref": 17280.325833333332,
          "symbol": "circle"
         },
         "mode": "markers",
         "name": "Niger",
         "orientation": "v",
         "showlegend": true,
         "type": "scatter",
         "x": [
          41.291
         ],
         "xaxis": "x",
         "y": [
          5682086
         ],
         "yaxis": "y"
        },
        {
         "hovertemplate": "<b>%{hovertext}</b><br><br>country=Nigeria<br>lifeExp=%{x}<br>pop=%{marker.size}<extra></extra>",
         "hovertext": [
          "Nigeria"
         ],
         "legendgroup": "Nigeria",
         "marker": {
          "color": "#FF6692",
          "size": [
           62209173
          ],
          "sizemode": "area",
          "sizeref": 17280.325833333332,
          "symbol": "circle"
         },
         "mode": "markers",
         "name": "Nigeria",
         "orientation": "v",
         "showlegend": true,
         "type": "scatter",
         "x": [
          44.514
         ],
         "xaxis": "x",
         "y": [
          62209173
         ],
         "yaxis": "y"
        },
        {
         "hovertemplate": "<b>%{hovertext}</b><br><br>country=Reunion<br>lifeExp=%{x}<br>pop=%{marker.size}<extra></extra>",
         "hovertext": [
          "Reunion"
         ],
         "legendgroup": "Reunion",
         "marker": {
          "color": "#B6E880",
          "size": [
           492095
          ],
          "sizemode": "area",
          "sizeref": 17280.325833333332,
          "symbol": "circle"
         },
         "mode": "markers",
         "name": "Reunion",
         "orientation": "v",
         "showlegend": true,
         "type": "scatter",
         "x": [
          67.064
         ],
         "xaxis": "x",
         "y": [
          492095
         ],
         "yaxis": "y"
        },
        {
         "hovertemplate": "<b>%{hovertext}</b><br><br>country=Rwanda<br>lifeExp=%{x}<br>pop=%{marker.size}<extra></extra>",
         "hovertext": [
          "Rwanda"
         ],
         "legendgroup": "Rwanda",
         "marker": {
          "color": "#FF97FF",
          "size": [
           4657072
          ],
          "sizemode": "area",
          "sizeref": 17280.325833333332,
          "symbol": "circle"
         },
         "mode": "markers",
         "name": "Rwanda",
         "orientation": "v",
         "showlegend": true,
         "type": "scatter",
         "x": [
          45
         ],
         "xaxis": "x",
         "y": [
          4657072
         ],
         "yaxis": "y"
        },
        {
         "hovertemplate": "<b>%{hovertext}</b><br><br>country=Sao Tome and Principe<br>lifeExp=%{x}<br>pop=%{marker.size}<extra></extra>",
         "hovertext": [
          "Sao Tome and Principe"
         ],
         "legendgroup": "Sao Tome and Principe",
         "marker": {
          "color": "#FECB52",
          "size": [
           86796
          ],
          "sizemode": "area",
          "sizeref": 17280.325833333332,
          "symbol": "circle"
         },
         "mode": "markers",
         "name": "Sao Tome and Principe",
         "orientation": "v",
         "showlegend": true,
         "type": "scatter",
         "x": [
          58.55
         ],
         "xaxis": "x",
         "y": [
          86796
         ],
         "yaxis": "y"
        },
        {
         "hovertemplate": "<b>%{hovertext}</b><br><br>country=Senegal<br>lifeExp=%{x}<br>pop=%{marker.size}<extra></extra>",
         "hovertext": [
          "Senegal"
         ],
         "legendgroup": "Senegal",
         "marker": {
          "color": "#636efa",
          "size": [
           5260855
          ],
          "sizemode": "area",
          "sizeref": 17280.325833333332,
          "symbol": "circle"
         },
         "mode": "markers",
         "name": "Senegal",
         "orientation": "v",
         "showlegend": true,
         "type": "scatter",
         "x": [
          48.879
         ],
         "xaxis": "x",
         "y": [
          5260855
         ],
         "yaxis": "y"
        },
        {
         "hovertemplate": "<b>%{hovertext}</b><br><br>country=Sierra Leone<br>lifeExp=%{x}<br>pop=%{marker.size}<extra></extra>",
         "hovertext": [
          "Sierra Leone"
         ],
         "legendgroup": "Sierra Leone",
         "marker": {
          "color": "#EF553B",
          "size": [
           3140897
          ],
          "sizemode": "area",
          "sizeref": 17280.325833333332,
          "symbol": "circle"
         },
         "mode": "markers",
         "name": "Sierra Leone",
         "orientation": "v",
         "showlegend": true,
         "type": "scatter",
         "x": [
          36.788
         ],
         "xaxis": "x",
         "y": [
          3140897
         ],
         "yaxis": "y"
        },
        {
         "hovertemplate": "<b>%{hovertext}</b><br><br>country=Somalia<br>lifeExp=%{x}<br>pop=%{marker.size}<extra></extra>",
         "hovertext": [
          "Somalia"
         ],
         "legendgroup": "Somalia",
         "marker": {
          "color": "#00cc96",
          "size": [
           4353666
          ],
          "sizemode": "area",
          "sizeref": 17280.325833333332,
          "symbol": "circle"
         },
         "mode": "markers",
         "name": "Somalia",
         "orientation": "v",
         "showlegend": true,
         "type": "scatter",
         "x": [
          41.974
         ],
         "xaxis": "x",
         "y": [
          4353666
         ],
         "yaxis": "y"
        },
        {
         "hovertemplate": "<b>%{hovertext}</b><br><br>country=South Africa<br>lifeExp=%{x}<br>pop=%{marker.size}<extra></extra>",
         "hovertext": [
          "South Africa"
         ],
         "legendgroup": "South Africa",
         "marker": {
          "color": "#ab63fa",
          "size": [
           27129932
          ],
          "sizemode": "area",
          "sizeref": 17280.325833333332,
          "symbol": "circle"
         },
         "mode": "markers",
         "name": "South Africa",
         "orientation": "v",
         "showlegend": true,
         "type": "scatter",
         "x": [
          55.527
         ],
         "xaxis": "x",
         "y": [
          27129932
         ],
         "yaxis": "y"
        },
        {
         "hovertemplate": "<b>%{hovertext}</b><br><br>country=Sudan<br>lifeExp=%{x}<br>pop=%{marker.size}<extra></extra>",
         "hovertext": [
          "Sudan"
         ],
         "legendgroup": "Sudan",
         "marker": {
          "color": "#FFA15A",
          "size": [
           17104986
          ],
          "sizemode": "area",
          "sizeref": 17280.325833333332,
          "symbol": "circle"
         },
         "mode": "markers",
         "name": "Sudan",
         "orientation": "v",
         "showlegend": true,
         "type": "scatter",
         "x": [
          47.8
         ],
         "xaxis": "x",
         "y": [
          17104986
         ],
         "yaxis": "y"
        },
        {
         "hovertemplate": "<b>%{hovertext}</b><br><br>country=Swaziland<br>lifeExp=%{x}<br>pop=%{marker.size}<extra></extra>",
         "hovertext": [
          "Swaziland"
         ],
         "legendgroup": "Swaziland",
         "marker": {
          "color": "#19d3f3",
          "size": [
           551425
          ],
          "sizemode": "area",
          "sizeref": 17280.325833333332,
          "symbol": "circle"
         },
         "mode": "markers",
         "name": "Swaziland",
         "orientation": "v",
         "showlegend": true,
         "type": "scatter",
         "x": [
          52.537
         ],
         "xaxis": "x",
         "y": [
          551425
         ],
         "yaxis": "y"
        },
        {
         "hovertemplate": "<b>%{hovertext}</b><br><br>country=Tanzania<br>lifeExp=%{x}<br>pop=%{marker.size}<extra></extra>",
         "hovertext": [
          "Tanzania"
         ],
         "legendgroup": "Tanzania",
         "marker": {
          "color": "#FF6692",
          "size": [
           17129565
          ],
          "sizemode": "area",
          "sizeref": 17280.325833333332,
          "symbol": "circle"
         },
         "mode": "markers",
         "name": "Tanzania",
         "orientation": "v",
         "showlegend": true,
         "type": "scatter",
         "x": [
          49.919
         ],
         "xaxis": "x",
         "y": [
          17129565
         ],
         "yaxis": "y"
        },
        {
         "hovertemplate": "<b>%{hovertext}</b><br><br>country=Togo<br>lifeExp=%{x}<br>pop=%{marker.size}<extra></extra>",
         "hovertext": [
          "Togo"
         ],
         "legendgroup": "Togo",
         "marker": {
          "color": "#B6E880",
          "size": [
           2308582
          ],
          "sizemode": "area",
          "sizeref": 17280.325833333332,
          "symbol": "circle"
         },
         "mode": "markers",
         "name": "Togo",
         "orientation": "v",
         "showlegend": true,
         "type": "scatter",
         "x": [
          52.887
         ],
         "xaxis": "x",
         "y": [
          2308582
         ],
         "yaxis": "y"
        },
        {
         "hovertemplate": "<b>%{hovertext}</b><br><br>country=Tunisia<br>lifeExp=%{x}<br>pop=%{marker.size}<extra></extra>",
         "hovertext": [
          "Tunisia"
         ],
         "legendgroup": "Tunisia",
         "marker": {
          "color": "#FF97FF",
          "size": [
           6005061
          ],
          "sizemode": "area",
          "sizeref": 17280.325833333332,
          "symbol": "circle"
         },
         "mode": "markers",
         "name": "Tunisia",
         "orientation": "v",
         "showlegend": true,
         "type": "scatter",
         "x": [
          59.837
         ],
         "xaxis": "x",
         "y": [
          6005061
         ],
         "yaxis": "y"
        },
        {
         "hovertemplate": "<b>%{hovertext}</b><br><br>country=Uganda<br>lifeExp=%{x}<br>pop=%{marker.size}<extra></extra>",
         "hovertext": [
          "Uganda"
         ],
         "legendgroup": "Uganda",
         "marker": {
          "color": "#FECB52",
          "size": [
           11457758
          ],
          "sizemode": "area",
          "sizeref": 17280.325833333332,
          "symbol": "circle"
         },
         "mode": "markers",
         "name": "Uganda",
         "orientation": "v",
         "showlegend": true,
         "type": "scatter",
         "x": [
          50.35
         ],
         "xaxis": "x",
         "y": [
          11457758
         ],
         "yaxis": "y"
        },
        {
         "hovertemplate": "<b>%{hovertext}</b><br><br>country=Zambia<br>lifeExp=%{x}<br>pop=%{marker.size}<extra></extra>",
         "hovertext": [
          "Zambia"
         ],
         "legendgroup": "Zambia",
         "marker": {
          "color": "#636efa",
          "size": [
           5216550
          ],
          "sizemode": "area",
          "sizeref": 17280.325833333332,
          "symbol": "circle"
         },
         "mode": "markers",
         "name": "Zambia",
         "orientation": "v",
         "showlegend": true,
         "type": "scatter",
         "x": [
          51.386
         ],
         "xaxis": "x",
         "y": [
          5216550
         ],
         "yaxis": "y"
        },
        {
         "hovertemplate": "<b>%{hovertext}</b><br><br>country=Zimbabwe<br>lifeExp=%{x}<br>pop=%{marker.size}<extra></extra>",
         "hovertext": [
          "Zimbabwe"
         ],
         "legendgroup": "Zimbabwe",
         "marker": {
          "color": "#EF553B",
          "size": [
           6642107
          ],
          "sizemode": "area",
          "sizeref": 17280.325833333332,
          "symbol": "circle"
         },
         "mode": "markers",
         "name": "Zimbabwe",
         "orientation": "v",
         "showlegend": true,
         "type": "scatter",
         "x": [
          57.674
         ],
         "xaxis": "x",
         "y": [
          6642107
         ],
         "yaxis": "y"
        }
       ],
       "layout": {
        "legend": {
         "itemsizing": "constant",
         "title": {
          "text": "country"
         },
         "tracegroupgap": 0
        },
        "margin": {
         "t": 60
        },
        "template": {
         "data": {
          "bar": [
           {
            "error_x": {
             "color": "#2a3f5f"
            },
            "error_y": {
             "color": "#2a3f5f"
            },
            "marker": {
             "line": {
              "color": "#E5ECF6",
              "width": 0.5
             },
             "pattern": {
              "fillmode": "overlay",
              "size": 10,
              "solidity": 0.2
             }
            },
            "type": "bar"
           }
          ],
          "barpolar": [
           {
            "marker": {
             "line": {
              "color": "#E5ECF6",
              "width": 0.5
             },
             "pattern": {
              "fillmode": "overlay",
              "size": 10,
              "solidity": 0.2
             }
            },
            "type": "barpolar"
           }
          ],
          "carpet": [
           {
            "aaxis": {
             "endlinecolor": "#2a3f5f",
             "gridcolor": "white",
             "linecolor": "white",
             "minorgridcolor": "white",
             "startlinecolor": "#2a3f5f"
            },
            "baxis": {
             "endlinecolor": "#2a3f5f",
             "gridcolor": "white",
             "linecolor": "white",
             "minorgridcolor": "white",
             "startlinecolor": "#2a3f5f"
            },
            "type": "carpet"
           }
          ],
          "choropleth": [
           {
            "colorbar": {
             "outlinewidth": 0,
             "ticks": ""
            },
            "type": "choropleth"
           }
          ],
          "contour": [
           {
            "colorbar": {
             "outlinewidth": 0,
             "ticks": ""
            },
            "colorscale": [
             [
              0,
              "#0d0887"
             ],
             [
              0.1111111111111111,
              "#46039f"
             ],
             [
              0.2222222222222222,
              "#7201a8"
             ],
             [
              0.3333333333333333,
              "#9c179e"
             ],
             [
              0.4444444444444444,
              "#bd3786"
             ],
             [
              0.5555555555555556,
              "#d8576b"
             ],
             [
              0.6666666666666666,
              "#ed7953"
             ],
             [
              0.7777777777777778,
              "#fb9f3a"
             ],
             [
              0.8888888888888888,
              "#fdca26"
             ],
             [
              1,
              "#f0f921"
             ]
            ],
            "type": "contour"
           }
          ],
          "contourcarpet": [
           {
            "colorbar": {
             "outlinewidth": 0,
             "ticks": ""
            },
            "type": "contourcarpet"
           }
          ],
          "heatmap": [
           {
            "colorbar": {
             "outlinewidth": 0,
             "ticks": ""
            },
            "colorscale": [
             [
              0,
              "#0d0887"
             ],
             [
              0.1111111111111111,
              "#46039f"
             ],
             [
              0.2222222222222222,
              "#7201a8"
             ],
             [
              0.3333333333333333,
              "#9c179e"
             ],
             [
              0.4444444444444444,
              "#bd3786"
             ],
             [
              0.5555555555555556,
              "#d8576b"
             ],
             [
              0.6666666666666666,
              "#ed7953"
             ],
             [
              0.7777777777777778,
              "#fb9f3a"
             ],
             [
              0.8888888888888888,
              "#fdca26"
             ],
             [
              1,
              "#f0f921"
             ]
            ],
            "type": "heatmap"
           }
          ],
          "heatmapgl": [
           {
            "colorbar": {
             "outlinewidth": 0,
             "ticks": ""
            },
            "colorscale": [
             [
              0,
              "#0d0887"
             ],
             [
              0.1111111111111111,
              "#46039f"
             ],
             [
              0.2222222222222222,
              "#7201a8"
             ],
             [
              0.3333333333333333,
              "#9c179e"
             ],
             [
              0.4444444444444444,
              "#bd3786"
             ],
             [
              0.5555555555555556,
              "#d8576b"
             ],
             [
              0.6666666666666666,
              "#ed7953"
             ],
             [
              0.7777777777777778,
              "#fb9f3a"
             ],
             [
              0.8888888888888888,
              "#fdca26"
             ],
             [
              1,
              "#f0f921"
             ]
            ],
            "type": "heatmapgl"
           }
          ],
          "histogram": [
           {
            "marker": {
             "pattern": {
              "fillmode": "overlay",
              "size": 10,
              "solidity": 0.2
             }
            },
            "type": "histogram"
           }
          ],
          "histogram2d": [
           {
            "colorbar": {
             "outlinewidth": 0,
             "ticks": ""
            },
            "colorscale": [
             [
              0,
              "#0d0887"
             ],
             [
              0.1111111111111111,
              "#46039f"
             ],
             [
              0.2222222222222222,
              "#7201a8"
             ],
             [
              0.3333333333333333,
              "#9c179e"
             ],
             [
              0.4444444444444444,
              "#bd3786"
             ],
             [
              0.5555555555555556,
              "#d8576b"
             ],
             [
              0.6666666666666666,
              "#ed7953"
             ],
             [
              0.7777777777777778,
              "#fb9f3a"
             ],
             [
              0.8888888888888888,
              "#fdca26"
             ],
             [
              1,
              "#f0f921"
             ]
            ],
            "type": "histogram2d"
           }
          ],
          "histogram2dcontour": [
           {
            "colorbar": {
             "outlinewidth": 0,
             "ticks": ""
            },
            "colorscale": [
             [
              0,
              "#0d0887"
             ],
             [
              0.1111111111111111,
              "#46039f"
             ],
             [
              0.2222222222222222,
              "#7201a8"
             ],
             [
              0.3333333333333333,
              "#9c179e"
             ],
             [
              0.4444444444444444,
              "#bd3786"
             ],
             [
              0.5555555555555556,
              "#d8576b"
             ],
             [
              0.6666666666666666,
              "#ed7953"
             ],
             [
              0.7777777777777778,
              "#fb9f3a"
             ],
             [
              0.8888888888888888,
              "#fdca26"
             ],
             [
              1,
              "#f0f921"
             ]
            ],
            "type": "histogram2dcontour"
           }
          ],
          "mesh3d": [
           {
            "colorbar": {
             "outlinewidth": 0,
             "ticks": ""
            },
            "type": "mesh3d"
           }
          ],
          "parcoords": [
           {
            "line": {
             "colorbar": {
              "outlinewidth": 0,
              "ticks": ""
             }
            },
            "type": "parcoords"
           }
          ],
          "pie": [
           {
            "automargin": true,
            "type": "pie"
           }
          ],
          "scatter": [
           {
            "marker": {
             "colorbar": {
              "outlinewidth": 0,
              "ticks": ""
             }
            },
            "type": "scatter"
           }
          ],
          "scatter3d": [
           {
            "line": {
             "colorbar": {
              "outlinewidth": 0,
              "ticks": ""
             }
            },
            "marker": {
             "colorbar": {
              "outlinewidth": 0,
              "ticks": ""
             }
            },
            "type": "scatter3d"
           }
          ],
          "scattercarpet": [
           {
            "marker": {
             "colorbar": {
              "outlinewidth": 0,
              "ticks": ""
             }
            },
            "type": "scattercarpet"
           }
          ],
          "scattergeo": [
           {
            "marker": {
             "colorbar": {
              "outlinewidth": 0,
              "ticks": ""
             }
            },
            "type": "scattergeo"
           }
          ],
          "scattergl": [
           {
            "marker": {
             "colorbar": {
              "outlinewidth": 0,
              "ticks": ""
             }
            },
            "type": "scattergl"
           }
          ],
          "scattermapbox": [
           {
            "marker": {
             "colorbar": {
              "outlinewidth": 0,
              "ticks": ""
             }
            },
            "type": "scattermapbox"
           }
          ],
          "scatterpolar": [
           {
            "marker": {
             "colorbar": {
              "outlinewidth": 0,
              "ticks": ""
             }
            },
            "type": "scatterpolar"
           }
          ],
          "scatterpolargl": [
           {
            "marker": {
             "colorbar": {
              "outlinewidth": 0,
              "ticks": ""
             }
            },
            "type": "scatterpolargl"
           }
          ],
          "scatterternary": [
           {
            "marker": {
             "colorbar": {
              "outlinewidth": 0,
              "ticks": ""
             }
            },
            "type": "scatterternary"
           }
          ],
          "surface": [
           {
            "colorbar": {
             "outlinewidth": 0,
             "ticks": ""
            },
            "colorscale": [
             [
              0,
              "#0d0887"
             ],
             [
              0.1111111111111111,
              "#46039f"
             ],
             [
              0.2222222222222222,
              "#7201a8"
             ],
             [
              0.3333333333333333,
              "#9c179e"
             ],
             [
              0.4444444444444444,
              "#bd3786"
             ],
             [
              0.5555555555555556,
              "#d8576b"
             ],
             [
              0.6666666666666666,
              "#ed7953"
             ],
             [
              0.7777777777777778,
              "#fb9f3a"
             ],
             [
              0.8888888888888888,
              "#fdca26"
             ],
             [
              1,
              "#f0f921"
             ]
            ],
            "type": "surface"
           }
          ],
          "table": [
           {
            "cells": {
             "fill": {
              "color": "#EBF0F8"
             },
             "line": {
              "color": "white"
             }
            },
            "header": {
             "fill": {
              "color": "#C8D4E3"
             },
             "line": {
              "color": "white"
             }
            },
            "type": "table"
           }
          ]
         },
         "layout": {
          "annotationdefaults": {
           "arrowcolor": "#2a3f5f",
           "arrowhead": 0,
           "arrowwidth": 1
          },
          "autotypenumbers": "strict",
          "coloraxis": {
           "colorbar": {
            "outlinewidth": 0,
            "ticks": ""
           }
          },
          "colorscale": {
           "diverging": [
            [
             0,
             "#8e0152"
            ],
            [
             0.1,
             "#c51b7d"
            ],
            [
             0.2,
             "#de77ae"
            ],
            [
             0.3,
             "#f1b6da"
            ],
            [
             0.4,
             "#fde0ef"
            ],
            [
             0.5,
             "#f7f7f7"
            ],
            [
             0.6,
             "#e6f5d0"
            ],
            [
             0.7,
             "#b8e186"
            ],
            [
             0.8,
             "#7fbc41"
            ],
            [
             0.9,
             "#4d9221"
            ],
            [
             1,
             "#276419"
            ]
           ],
           "sequential": [
            [
             0,
             "#0d0887"
            ],
            [
             0.1111111111111111,
             "#46039f"
            ],
            [
             0.2222222222222222,
             "#7201a8"
            ],
            [
             0.3333333333333333,
             "#9c179e"
            ],
            [
             0.4444444444444444,
             "#bd3786"
            ],
            [
             0.5555555555555556,
             "#d8576b"
            ],
            [
             0.6666666666666666,
             "#ed7953"
            ],
            [
             0.7777777777777778,
             "#fb9f3a"
            ],
            [
             0.8888888888888888,
             "#fdca26"
            ],
            [
             1,
             "#f0f921"
            ]
           ],
           "sequentialminus": [
            [
             0,
             "#0d0887"
            ],
            [
             0.1111111111111111,
             "#46039f"
            ],
            [
             0.2222222222222222,
             "#7201a8"
            ],
            [
             0.3333333333333333,
             "#9c179e"
            ],
            [
             0.4444444444444444,
             "#bd3786"
            ],
            [
             0.5555555555555556,
             "#d8576b"
            ],
            [
             0.6666666666666666,
             "#ed7953"
            ],
            [
             0.7777777777777778,
             "#fb9f3a"
            ],
            [
             0.8888888888888888,
             "#fdca26"
            ],
            [
             1,
             "#f0f921"
            ]
           ]
          },
          "colorway": [
           "#636efa",
           "#EF553B",
           "#00cc96",
           "#ab63fa",
           "#FFA15A",
           "#19d3f3",
           "#FF6692",
           "#B6E880",
           "#FF97FF",
           "#FECB52"
          ],
          "font": {
           "color": "#2a3f5f"
          },
          "geo": {
           "bgcolor": "white",
           "lakecolor": "white",
           "landcolor": "#E5ECF6",
           "showlakes": true,
           "showland": true,
           "subunitcolor": "white"
          },
          "hoverlabel": {
           "align": "left"
          },
          "hovermode": "closest",
          "mapbox": {
           "style": "light"
          },
          "paper_bgcolor": "white",
          "plot_bgcolor": "#E5ECF6",
          "polar": {
           "angularaxis": {
            "gridcolor": "white",
            "linecolor": "white",
            "ticks": ""
           },
           "bgcolor": "#E5ECF6",
           "radialaxis": {
            "gridcolor": "white",
            "linecolor": "white",
            "ticks": ""
           }
          },
          "scene": {
           "xaxis": {
            "backgroundcolor": "#E5ECF6",
            "gridcolor": "white",
            "gridwidth": 2,
            "linecolor": "white",
            "showbackground": true,
            "ticks": "",
            "zerolinecolor": "white"
           },
           "yaxis": {
            "backgroundcolor": "#E5ECF6",
            "gridcolor": "white",
            "gridwidth": 2,
            "linecolor": "white",
            "showbackground": true,
            "ticks": "",
            "zerolinecolor": "white"
           },
           "zaxis": {
            "backgroundcolor": "#E5ECF6",
            "gridcolor": "white",
            "gridwidth": 2,
            "linecolor": "white",
            "showbackground": true,
            "ticks": "",
            "zerolinecolor": "white"
           }
          },
          "shapedefaults": {
           "line": {
            "color": "#2a3f5f"
           }
          },
          "ternary": {
           "aaxis": {
            "gridcolor": "white",
            "linecolor": "white",
            "ticks": ""
           },
           "baxis": {
            "gridcolor": "white",
            "linecolor": "white",
            "ticks": ""
           },
           "bgcolor": "#E5ECF6",
           "caxis": {
            "gridcolor": "white",
            "linecolor": "white",
            "ticks": ""
           }
          },
          "title": {
           "x": 0.05
          },
          "xaxis": {
           "automargin": true,
           "gridcolor": "white",
           "linecolor": "white",
           "ticks": "",
           "title": {
            "standoff": 15
           },
           "zerolinecolor": "white",
           "zerolinewidth": 2
          },
          "yaxis": {
           "automargin": true,
           "gridcolor": "white",
           "linecolor": "white",
           "ticks": "",
           "title": {
            "standoff": 15
           },
           "zerolinecolor": "white",
           "zerolinewidth": 2
          }
         }
        },
        "xaxis": {
         "anchor": "y",
         "domain": [
          0,
          1
         ],
         "title": {
          "text": "lifeExp"
         },
         "type": "log"
        },
        "yaxis": {
         "anchor": "x",
         "domain": [
          0,
          1
         ],
         "title": {
          "text": "pop"
         }
        }
       }
      },
      "text/html": [
       "<div>                            <div id=\"479fbe71-5d2e-4a25-8c75-7798da5e6aa8\" class=\"plotly-graph-div\" style=\"height:525px; width:100%;\"></div>            <script type=\"text/javascript\">                require([\"plotly\"], function(Plotly) {                    window.PLOTLYENV=window.PLOTLYENV || {};                                    if (document.getElementById(\"479fbe71-5d2e-4a25-8c75-7798da5e6aa8\")) {                    Plotly.newPlot(                        \"479fbe71-5d2e-4a25-8c75-7798da5e6aa8\",                        [{\"hovertemplate\":\"<b>%{hovertext}</b><br><br>country=Algeria<br>lifeExp=%{x}<br>pop=%{marker.size}<extra></extra>\",\"hovertext\":[\"Algeria\"],\"legendgroup\":\"Algeria\",\"marker\":{\"color\":\"#636efa\",\"size\":[17152804],\"sizemode\":\"area\",\"sizeref\":17280.325833333332,\"symbol\":\"circle\"},\"mode\":\"markers\",\"name\":\"Algeria\",\"orientation\":\"v\",\"showlegend\":true,\"x\":[58.014],\"xaxis\":\"x\",\"y\":[17152804],\"yaxis\":\"y\",\"type\":\"scatter\"},{\"hovertemplate\":\"<b>%{hovertext}</b><br><br>country=Angola<br>lifeExp=%{x}<br>pop=%{marker.size}<extra></extra>\",\"hovertext\":[\"Angola\"],\"legendgroup\":\"Angola\",\"marker\":{\"color\":\"#EF553B\",\"size\":[6162675],\"sizemode\":\"area\",\"sizeref\":17280.325833333332,\"symbol\":\"circle\"},\"mode\":\"markers\",\"name\":\"Angola\",\"orientation\":\"v\",\"showlegend\":true,\"x\":[39.483],\"xaxis\":\"x\",\"y\":[6162675],\"yaxis\":\"y\",\"type\":\"scatter\"},{\"hovertemplate\":\"<b>%{hovertext}</b><br><br>country=Benin<br>lifeExp=%{x}<br>pop=%{marker.size}<extra></extra>\",\"hovertext\":[\"Benin\"],\"legendgroup\":\"Benin\",\"marker\":{\"color\":\"#00cc96\",\"size\":[3168267],\"sizemode\":\"area\",\"sizeref\":17280.325833333332,\"symbol\":\"circle\"},\"mode\":\"markers\",\"name\":\"Benin\",\"orientation\":\"v\",\"showlegend\":true,\"x\":[49.19],\"xaxis\":\"x\",\"y\":[3168267],\"yaxis\":\"y\",\"type\":\"scatter\"},{\"hovertemplate\":\"<b>%{hovertext}</b><br><br>country=Botswana<br>lifeExp=%{x}<br>pop=%{marker.size}<extra></extra>\",\"hovertext\":[\"Botswana\"],\"legendgroup\":\"Botswana\",\"marker\":{\"color\":\"#ab63fa\",\"size\":[781472],\"sizemode\":\"area\",\"sizeref\":17280.325833333332,\"symbol\":\"circle\"},\"mode\":\"markers\",\"name\":\"Botswana\",\"orientation\":\"v\",\"showlegend\":true,\"x\":[59.319],\"xaxis\":\"x\",\"y\":[781472],\"yaxis\":\"y\",\"type\":\"scatter\"},{\"hovertemplate\":\"<b>%{hovertext}</b><br><br>country=Burkina Faso<br>lifeExp=%{x}<br>pop=%{marker.size}<extra></extra>\",\"hovertext\":[\"Burkina Faso\"],\"legendgroup\":\"Burkina Faso\",\"marker\":{\"color\":\"#FFA15A\",\"size\":[5889574],\"sizemode\":\"area\",\"sizeref\":17280.325833333332,\"symbol\":\"circle\"},\"mode\":\"markers\",\"name\":\"Burkina Faso\",\"orientation\":\"v\",\"showlegend\":true,\"x\":[46.137],\"xaxis\":\"x\",\"y\":[5889574],\"yaxis\":\"y\",\"type\":\"scatter\"},{\"hovertemplate\":\"<b>%{hovertext}</b><br><br>country=Burundi<br>lifeExp=%{x}<br>pop=%{marker.size}<extra></extra>\",\"hovertext\":[\"Burundi\"],\"legendgroup\":\"Burundi\",\"marker\":{\"color\":\"#19d3f3\",\"size\":[3834415],\"sizemode\":\"area\",\"sizeref\":17280.325833333332,\"symbol\":\"circle\"},\"mode\":\"markers\",\"name\":\"Burundi\",\"orientation\":\"v\",\"showlegend\":true,\"x\":[45.91],\"xaxis\":\"x\",\"y\":[3834415],\"yaxis\":\"y\",\"type\":\"scatter\"},{\"hovertemplate\":\"<b>%{hovertext}</b><br><br>country=Cameroon<br>lifeExp=%{x}<br>pop=%{marker.size}<extra></extra>\",\"hovertext\":[\"Cameroon\"],\"legendgroup\":\"Cameroon\",\"marker\":{\"color\":\"#FF6692\",\"size\":[7959865],\"sizemode\":\"area\",\"sizeref\":17280.325833333332,\"symbol\":\"circle\"},\"mode\":\"markers\",\"name\":\"Cameroon\",\"orientation\":\"v\",\"showlegend\":true,\"x\":[49.355],\"xaxis\":\"x\",\"y\":[7959865],\"yaxis\":\"y\",\"type\":\"scatter\"},{\"hovertemplate\":\"<b>%{hovertext}</b><br><br>country=Central African Republic<br>lifeExp=%{x}<br>pop=%{marker.size}<extra></extra>\",\"hovertext\":[\"Central African Republic\"],\"legendgroup\":\"Central African Republic\",\"marker\":{\"color\":\"#B6E880\",\"size\":[2167533],\"sizemode\":\"area\",\"sizeref\":17280.325833333332,\"symbol\":\"circle\"},\"mode\":\"markers\",\"name\":\"Central African Republic\",\"orientation\":\"v\",\"showlegend\":true,\"x\":[46.775],\"xaxis\":\"x\",\"y\":[2167533],\"yaxis\":\"y\",\"type\":\"scatter\"},{\"hovertemplate\":\"<b>%{hovertext}</b><br><br>country=Chad<br>lifeExp=%{x}<br>pop=%{marker.size}<extra></extra>\",\"hovertext\":[\"Chad\"],\"legendgroup\":\"Chad\",\"marker\":{\"color\":\"#FF97FF\",\"size\":[4388260],\"sizemode\":\"area\",\"sizeref\":17280.325833333332,\"symbol\":\"circle\"},\"mode\":\"markers\",\"name\":\"Chad\",\"orientation\":\"v\",\"showlegend\":true,\"x\":[47.383],\"xaxis\":\"x\",\"y\":[4388260],\"yaxis\":\"y\",\"type\":\"scatter\"},{\"hovertemplate\":\"<b>%{hovertext}</b><br><br>country=Comoros<br>lifeExp=%{x}<br>pop=%{marker.size}<extra></extra>\",\"hovertext\":[\"Comoros\"],\"legendgroup\":\"Comoros\",\"marker\":{\"color\":\"#FECB52\",\"size\":[304739],\"sizemode\":\"area\",\"sizeref\":17280.325833333332,\"symbol\":\"circle\"},\"mode\":\"markers\",\"name\":\"Comoros\",\"orientation\":\"v\",\"showlegend\":true,\"x\":[50.93899999999999],\"xaxis\":\"x\",\"y\":[304739],\"yaxis\":\"y\",\"type\":\"scatter\"},{\"hovertemplate\":\"<b>%{hovertext}</b><br><br>country=Congo, Dem. Rep.<br>lifeExp=%{x}<br>pop=%{marker.size}<extra></extra>\",\"hovertext\":[\"Congo, Dem. Rep.\"],\"legendgroup\":\"Congo, Dem. Rep.\",\"marker\":{\"color\":\"#636efa\",\"size\":[26480870],\"sizemode\":\"area\",\"sizeref\":17280.325833333332,\"symbol\":\"circle\"},\"mode\":\"markers\",\"name\":\"Congo, Dem. Rep.\",\"orientation\":\"v\",\"showlegend\":true,\"x\":[47.804],\"xaxis\":\"x\",\"y\":[26480870],\"yaxis\":\"y\",\"type\":\"scatter\"},{\"hovertemplate\":\"<b>%{hovertext}</b><br><br>country=Congo, Rep.<br>lifeExp=%{x}<br>pop=%{marker.size}<extra></extra>\",\"hovertext\":[\"Congo, Rep.\"],\"legendgroup\":\"Congo, Rep.\",\"marker\":{\"color\":\"#EF553B\",\"size\":[1536769],\"sizemode\":\"area\",\"sizeref\":17280.325833333332,\"symbol\":\"circle\"},\"mode\":\"markers\",\"name\":\"Congo, Rep.\",\"orientation\":\"v\",\"showlegend\":true,\"x\":[55.625],\"xaxis\":\"x\",\"y\":[1536769],\"yaxis\":\"y\",\"type\":\"scatter\"},{\"hovertemplate\":\"<b>%{hovertext}</b><br><br>country=Cote d'Ivoire<br>lifeExp=%{x}<br>pop=%{marker.size}<extra></extra>\",\"hovertext\":[\"Cote d'Ivoire\"],\"legendgroup\":\"Cote d'Ivoire\",\"marker\":{\"color\":\"#00cc96\",\"size\":[7459574],\"sizemode\":\"area\",\"sizeref\":17280.325833333332,\"symbol\":\"circle\"},\"mode\":\"markers\",\"name\":\"Cote d'Ivoire\",\"orientation\":\"v\",\"showlegend\":true,\"x\":[52.374],\"xaxis\":\"x\",\"y\":[7459574],\"yaxis\":\"y\",\"type\":\"scatter\"},{\"hovertemplate\":\"<b>%{hovertext}</b><br><br>country=Djibouti<br>lifeExp=%{x}<br>pop=%{marker.size}<extra></extra>\",\"hovertext\":[\"Djibouti\"],\"legendgroup\":\"Djibouti\",\"marker\":{\"color\":\"#ab63fa\",\"size\":[228694],\"sizemode\":\"area\",\"sizeref\":17280.325833333332,\"symbol\":\"circle\"},\"mode\":\"markers\",\"name\":\"Djibouti\",\"orientation\":\"v\",\"showlegend\":true,\"x\":[46.519],\"xaxis\":\"x\",\"y\":[228694],\"yaxis\":\"y\",\"type\":\"scatter\"},{\"hovertemplate\":\"<b>%{hovertext}</b><br><br>country=Egypt<br>lifeExp=%{x}<br>pop=%{marker.size}<extra></extra>\",\"hovertext\":[\"Egypt\"],\"legendgroup\":\"Egypt\",\"marker\":{\"color\":\"#FFA15A\",\"size\":[38783863],\"sizemode\":\"area\",\"sizeref\":17280.325833333332,\"symbol\":\"circle\"},\"mode\":\"markers\",\"name\":\"Egypt\",\"orientation\":\"v\",\"showlegend\":true,\"x\":[53.319],\"xaxis\":\"x\",\"y\":[38783863],\"yaxis\":\"y\",\"type\":\"scatter\"},{\"hovertemplate\":\"<b>%{hovertext}</b><br><br>country=Equatorial Guinea<br>lifeExp=%{x}<br>pop=%{marker.size}<extra></extra>\",\"hovertext\":[\"Equatorial Guinea\"],\"legendgroup\":\"Equatorial Guinea\",\"marker\":{\"color\":\"#19d3f3\",\"size\":[192675],\"sizemode\":\"area\",\"sizeref\":17280.325833333332,\"symbol\":\"circle\"},\"mode\":\"markers\",\"name\":\"Equatorial Guinea\",\"orientation\":\"v\",\"showlegend\":true,\"x\":[42.024],\"xaxis\":\"x\",\"y\":[192675],\"yaxis\":\"y\",\"type\":\"scatter\"},{\"hovertemplate\":\"<b>%{hovertext}</b><br><br>country=Eritrea<br>lifeExp=%{x}<br>pop=%{marker.size}<extra></extra>\",\"hovertext\":[\"Eritrea\"],\"legendgroup\":\"Eritrea\",\"marker\":{\"color\":\"#FF6692\",\"size\":[2512642],\"sizemode\":\"area\",\"sizeref\":17280.325833333332,\"symbol\":\"circle\"},\"mode\":\"markers\",\"name\":\"Eritrea\",\"orientation\":\"v\",\"showlegend\":true,\"x\":[44.535],\"xaxis\":\"x\",\"y\":[2512642],\"yaxis\":\"y\",\"type\":\"scatter\"},{\"hovertemplate\":\"<b>%{hovertext}</b><br><br>country=Ethiopia<br>lifeExp=%{x}<br>pop=%{marker.size}<extra></extra>\",\"hovertext\":[\"Ethiopia\"],\"legendgroup\":\"Ethiopia\",\"marker\":{\"color\":\"#B6E880\",\"size\":[34617799],\"sizemode\":\"area\",\"sizeref\":17280.325833333332,\"symbol\":\"circle\"},\"mode\":\"markers\",\"name\":\"Ethiopia\",\"orientation\":\"v\",\"showlegend\":true,\"x\":[44.51],\"xaxis\":\"x\",\"y\":[34617799],\"yaxis\":\"y\",\"type\":\"scatter\"},{\"hovertemplate\":\"<b>%{hovertext}</b><br><br>country=Gabon<br>lifeExp=%{x}<br>pop=%{marker.size}<extra></extra>\",\"hovertext\":[\"Gabon\"],\"legendgroup\":\"Gabon\",\"marker\":{\"color\":\"#FF97FF\",\"size\":[706367],\"sizemode\":\"area\",\"sizeref\":17280.325833333332,\"symbol\":\"circle\"},\"mode\":\"markers\",\"name\":\"Gabon\",\"orientation\":\"v\",\"showlegend\":true,\"x\":[52.79],\"xaxis\":\"x\",\"y\":[706367],\"yaxis\":\"y\",\"type\":\"scatter\"},{\"hovertemplate\":\"<b>%{hovertext}</b><br><br>country=Gambia<br>lifeExp=%{x}<br>pop=%{marker.size}<extra></extra>\",\"hovertext\":[\"Gambia\"],\"legendgroup\":\"Gambia\",\"marker\":{\"color\":\"#FECB52\",\"size\":[608274],\"sizemode\":\"area\",\"sizeref\":17280.325833333332,\"symbol\":\"circle\"},\"mode\":\"markers\",\"name\":\"Gambia\",\"orientation\":\"v\",\"showlegend\":true,\"x\":[41.842],\"xaxis\":\"x\",\"y\":[608274],\"yaxis\":\"y\",\"type\":\"scatter\"},{\"hovertemplate\":\"<b>%{hovertext}</b><br><br>country=Ghana<br>lifeExp=%{x}<br>pop=%{marker.size}<extra></extra>\",\"hovertext\":[\"Ghana\"],\"legendgroup\":\"Ghana\",\"marker\":{\"color\":\"#636efa\",\"size\":[10538093],\"sizemode\":\"area\",\"sizeref\":17280.325833333332,\"symbol\":\"circle\"},\"mode\":\"markers\",\"name\":\"Ghana\",\"orientation\":\"v\",\"showlegend\":true,\"x\":[51.756],\"xaxis\":\"x\",\"y\":[10538093],\"yaxis\":\"y\",\"type\":\"scatter\"},{\"hovertemplate\":\"<b>%{hovertext}</b><br><br>country=Guinea<br>lifeExp=%{x}<br>pop=%{marker.size}<extra></extra>\",\"hovertext\":[\"Guinea\"],\"legendgroup\":\"Guinea\",\"marker\":{\"color\":\"#EF553B\",\"size\":[4227026],\"sizemode\":\"area\",\"sizeref\":17280.325833333332,\"symbol\":\"circle\"},\"mode\":\"markers\",\"name\":\"Guinea\",\"orientation\":\"v\",\"showlegend\":true,\"x\":[40.762],\"xaxis\":\"x\",\"y\":[4227026],\"yaxis\":\"y\",\"type\":\"scatter\"},{\"hovertemplate\":\"<b>%{hovertext}</b><br><br>country=Guinea-Bissau<br>lifeExp=%{x}<br>pop=%{marker.size}<extra></extra>\",\"hovertext\":[\"Guinea-Bissau\"],\"legendgroup\":\"Guinea-Bissau\",\"marker\":{\"color\":\"#00cc96\",\"size\":[745228],\"sizemode\":\"area\",\"sizeref\":17280.325833333332,\"symbol\":\"circle\"},\"mode\":\"markers\",\"name\":\"Guinea-Bissau\",\"orientation\":\"v\",\"showlegend\":true,\"x\":[37.465],\"xaxis\":\"x\",\"y\":[745228],\"yaxis\":\"y\",\"type\":\"scatter\"},{\"hovertemplate\":\"<b>%{hovertext}</b><br><br>country=Kenya<br>lifeExp=%{x}<br>pop=%{marker.size}<extra></extra>\",\"hovertext\":[\"Kenya\"],\"legendgroup\":\"Kenya\",\"marker\":{\"color\":\"#ab63fa\",\"size\":[14500404],\"sizemode\":\"area\",\"sizeref\":17280.325833333332,\"symbol\":\"circle\"},\"mode\":\"markers\",\"name\":\"Kenya\",\"orientation\":\"v\",\"showlegend\":true,\"x\":[56.155],\"xaxis\":\"x\",\"y\":[14500404],\"yaxis\":\"y\",\"type\":\"scatter\"},{\"hovertemplate\":\"<b>%{hovertext}</b><br><br>country=Lesotho<br>lifeExp=%{x}<br>pop=%{marker.size}<extra></extra>\",\"hovertext\":[\"Lesotho\"],\"legendgroup\":\"Lesotho\",\"marker\":{\"color\":\"#FFA15A\",\"size\":[1251524],\"sizemode\":\"area\",\"sizeref\":17280.325833333332,\"symbol\":\"circle\"},\"mode\":\"markers\",\"name\":\"Lesotho\",\"orientation\":\"v\",\"showlegend\":true,\"x\":[52.208],\"xaxis\":\"x\",\"y\":[1251524],\"yaxis\":\"y\",\"type\":\"scatter\"},{\"hovertemplate\":\"<b>%{hovertext}</b><br><br>country=Liberia<br>lifeExp=%{x}<br>pop=%{marker.size}<extra></extra>\",\"hovertext\":[\"Liberia\"],\"legendgroup\":\"Liberia\",\"marker\":{\"color\":\"#19d3f3\",\"size\":[1703617],\"sizemode\":\"area\",\"sizeref\":17280.325833333332,\"symbol\":\"circle\"},\"mode\":\"markers\",\"name\":\"Liberia\",\"orientation\":\"v\",\"showlegend\":true,\"x\":[43.764],\"xaxis\":\"x\",\"y\":[1703617],\"yaxis\":\"y\",\"type\":\"scatter\"},{\"hovertemplate\":\"<b>%{hovertext}</b><br><br>country=Libya<br>lifeExp=%{x}<br>pop=%{marker.size}<extra></extra>\",\"hovertext\":[\"Libya\"],\"legendgroup\":\"Libya\",\"marker\":{\"color\":\"#FF6692\",\"size\":[2721783],\"sizemode\":\"area\",\"sizeref\":17280.325833333332,\"symbol\":\"circle\"},\"mode\":\"markers\",\"name\":\"Libya\",\"orientation\":\"v\",\"showlegend\":true,\"x\":[57.442],\"xaxis\":\"x\",\"y\":[2721783],\"yaxis\":\"y\",\"type\":\"scatter\"},{\"hovertemplate\":\"<b>%{hovertext}</b><br><br>country=Madagascar<br>lifeExp=%{x}<br>pop=%{marker.size}<extra></extra>\",\"hovertext\":[\"Madagascar\"],\"legendgroup\":\"Madagascar\",\"marker\":{\"color\":\"#B6E880\",\"size\":[8007166],\"sizemode\":\"area\",\"sizeref\":17280.325833333332,\"symbol\":\"circle\"},\"mode\":\"markers\",\"name\":\"Madagascar\",\"orientation\":\"v\",\"showlegend\":true,\"x\":[46.881],\"xaxis\":\"x\",\"y\":[8007166],\"yaxis\":\"y\",\"type\":\"scatter\"},{\"hovertemplate\":\"<b>%{hovertext}</b><br><br>country=Malawi<br>lifeExp=%{x}<br>pop=%{marker.size}<extra></extra>\",\"hovertext\":[\"Malawi\"],\"legendgroup\":\"Malawi\",\"marker\":{\"color\":\"#FF97FF\",\"size\":[5637246],\"sizemode\":\"area\",\"sizeref\":17280.325833333332,\"symbol\":\"circle\"},\"mode\":\"markers\",\"name\":\"Malawi\",\"orientation\":\"v\",\"showlegend\":true,\"x\":[43.767],\"xaxis\":\"x\",\"y\":[5637246],\"yaxis\":\"y\",\"type\":\"scatter\"},{\"hovertemplate\":\"<b>%{hovertext}</b><br><br>country=Mali<br>lifeExp=%{x}<br>pop=%{marker.size}<extra></extra>\",\"hovertext\":[\"Mali\"],\"legendgroup\":\"Mali\",\"marker\":{\"color\":\"#FECB52\",\"size\":[6491649],\"sizemode\":\"area\",\"sizeref\":17280.325833333332,\"symbol\":\"circle\"},\"mode\":\"markers\",\"name\":\"Mali\",\"orientation\":\"v\",\"showlegend\":true,\"x\":[41.714],\"xaxis\":\"x\",\"y\":[6491649],\"yaxis\":\"y\",\"type\":\"scatter\"},{\"hovertemplate\":\"<b>%{hovertext}</b><br><br>country=Mauritania<br>lifeExp=%{x}<br>pop=%{marker.size}<extra></extra>\",\"hovertext\":[\"Mauritania\"],\"legendgroup\":\"Mauritania\",\"marker\":{\"color\":\"#636efa\",\"size\":[1456688],\"sizemode\":\"area\",\"sizeref\":17280.325833333332,\"symbol\":\"circle\"},\"mode\":\"markers\",\"name\":\"Mauritania\",\"orientation\":\"v\",\"showlegend\":true,\"x\":[50.852],\"xaxis\":\"x\",\"y\":[1456688],\"yaxis\":\"y\",\"type\":\"scatter\"},{\"hovertemplate\":\"<b>%{hovertext}</b><br><br>country=Mauritius<br>lifeExp=%{x}<br>pop=%{marker.size}<extra></extra>\",\"hovertext\":[\"Mauritius\"],\"legendgroup\":\"Mauritius\",\"marker\":{\"color\":\"#EF553B\",\"size\":[913025],\"sizemode\":\"area\",\"sizeref\":17280.325833333332,\"symbol\":\"circle\"},\"mode\":\"markers\",\"name\":\"Mauritius\",\"orientation\":\"v\",\"showlegend\":true,\"x\":[64.93],\"xaxis\":\"x\",\"y\":[913025],\"yaxis\":\"y\",\"type\":\"scatter\"},{\"hovertemplate\":\"<b>%{hovertext}</b><br><br>country=Morocco<br>lifeExp=%{x}<br>pop=%{marker.size}<extra></extra>\",\"hovertext\":[\"Morocco\"],\"legendgroup\":\"Morocco\",\"marker\":{\"color\":\"#00cc96\",\"size\":[18396941],\"sizemode\":\"area\",\"sizeref\":17280.325833333332,\"symbol\":\"circle\"},\"mode\":\"markers\",\"name\":\"Morocco\",\"orientation\":\"v\",\"showlegend\":true,\"x\":[55.73],\"xaxis\":\"x\",\"y\":[18396941],\"yaxis\":\"y\",\"type\":\"scatter\"},{\"hovertemplate\":\"<b>%{hovertext}</b><br><br>country=Mozambique<br>lifeExp=%{x}<br>pop=%{marker.size}<extra></extra>\",\"hovertext\":[\"Mozambique\"],\"legendgroup\":\"Mozambique\",\"marker\":{\"color\":\"#ab63fa\",\"size\":[11127868],\"sizemode\":\"area\",\"sizeref\":17280.325833333332,\"symbol\":\"circle\"},\"mode\":\"markers\",\"name\":\"Mozambique\",\"orientation\":\"v\",\"showlegend\":true,\"x\":[42.495],\"xaxis\":\"x\",\"y\":[11127868],\"yaxis\":\"y\",\"type\":\"scatter\"},{\"hovertemplate\":\"<b>%{hovertext}</b><br><br>country=Namibia<br>lifeExp=%{x}<br>pop=%{marker.size}<extra></extra>\",\"hovertext\":[\"Namibia\"],\"legendgroup\":\"Namibia\",\"marker\":{\"color\":\"#FFA15A\",\"size\":[977026],\"sizemode\":\"area\",\"sizeref\":17280.325833333332,\"symbol\":\"circle\"},\"mode\":\"markers\",\"name\":\"Namibia\",\"orientation\":\"v\",\"showlegend\":true,\"x\":[56.437],\"xaxis\":\"x\",\"y\":[977026],\"yaxis\":\"y\",\"type\":\"scatter\"},{\"hovertemplate\":\"<b>%{hovertext}</b><br><br>country=Niger<br>lifeExp=%{x}<br>pop=%{marker.size}<extra></extra>\",\"hovertext\":[\"Niger\"],\"legendgroup\":\"Niger\",\"marker\":{\"color\":\"#19d3f3\",\"size\":[5682086],\"sizemode\":\"area\",\"sizeref\":17280.325833333332,\"symbol\":\"circle\"},\"mode\":\"markers\",\"name\":\"Niger\",\"orientation\":\"v\",\"showlegend\":true,\"x\":[41.291],\"xaxis\":\"x\",\"y\":[5682086],\"yaxis\":\"y\",\"type\":\"scatter\"},{\"hovertemplate\":\"<b>%{hovertext}</b><br><br>country=Nigeria<br>lifeExp=%{x}<br>pop=%{marker.size}<extra></extra>\",\"hovertext\":[\"Nigeria\"],\"legendgroup\":\"Nigeria\",\"marker\":{\"color\":\"#FF6692\",\"size\":[62209173],\"sizemode\":\"area\",\"sizeref\":17280.325833333332,\"symbol\":\"circle\"},\"mode\":\"markers\",\"name\":\"Nigeria\",\"orientation\":\"v\",\"showlegend\":true,\"x\":[44.514],\"xaxis\":\"x\",\"y\":[62209173],\"yaxis\":\"y\",\"type\":\"scatter\"},{\"hovertemplate\":\"<b>%{hovertext}</b><br><br>country=Reunion<br>lifeExp=%{x}<br>pop=%{marker.size}<extra></extra>\",\"hovertext\":[\"Reunion\"],\"legendgroup\":\"Reunion\",\"marker\":{\"color\":\"#B6E880\",\"size\":[492095],\"sizemode\":\"area\",\"sizeref\":17280.325833333332,\"symbol\":\"circle\"},\"mode\":\"markers\",\"name\":\"Reunion\",\"orientation\":\"v\",\"showlegend\":true,\"x\":[67.064],\"xaxis\":\"x\",\"y\":[492095],\"yaxis\":\"y\",\"type\":\"scatter\"},{\"hovertemplate\":\"<b>%{hovertext}</b><br><br>country=Rwanda<br>lifeExp=%{x}<br>pop=%{marker.size}<extra></extra>\",\"hovertext\":[\"Rwanda\"],\"legendgroup\":\"Rwanda\",\"marker\":{\"color\":\"#FF97FF\",\"size\":[4657072],\"sizemode\":\"area\",\"sizeref\":17280.325833333332,\"symbol\":\"circle\"},\"mode\":\"markers\",\"name\":\"Rwanda\",\"orientation\":\"v\",\"showlegend\":true,\"x\":[45.0],\"xaxis\":\"x\",\"y\":[4657072],\"yaxis\":\"y\",\"type\":\"scatter\"},{\"hovertemplate\":\"<b>%{hovertext}</b><br><br>country=Sao Tome and Principe<br>lifeExp=%{x}<br>pop=%{marker.size}<extra></extra>\",\"hovertext\":[\"Sao Tome and Principe\"],\"legendgroup\":\"Sao Tome and Principe\",\"marker\":{\"color\":\"#FECB52\",\"size\":[86796],\"sizemode\":\"area\",\"sizeref\":17280.325833333332,\"symbol\":\"circle\"},\"mode\":\"markers\",\"name\":\"Sao Tome and Principe\",\"orientation\":\"v\",\"showlegend\":true,\"x\":[58.55],\"xaxis\":\"x\",\"y\":[86796],\"yaxis\":\"y\",\"type\":\"scatter\"},{\"hovertemplate\":\"<b>%{hovertext}</b><br><br>country=Senegal<br>lifeExp=%{x}<br>pop=%{marker.size}<extra></extra>\",\"hovertext\":[\"Senegal\"],\"legendgroup\":\"Senegal\",\"marker\":{\"color\":\"#636efa\",\"size\":[5260855],\"sizemode\":\"area\",\"sizeref\":17280.325833333332,\"symbol\":\"circle\"},\"mode\":\"markers\",\"name\":\"Senegal\",\"orientation\":\"v\",\"showlegend\":true,\"x\":[48.879],\"xaxis\":\"x\",\"y\":[5260855],\"yaxis\":\"y\",\"type\":\"scatter\"},{\"hovertemplate\":\"<b>%{hovertext}</b><br><br>country=Sierra Leone<br>lifeExp=%{x}<br>pop=%{marker.size}<extra></extra>\",\"hovertext\":[\"Sierra Leone\"],\"legendgroup\":\"Sierra Leone\",\"marker\":{\"color\":\"#EF553B\",\"size\":[3140897],\"sizemode\":\"area\",\"sizeref\":17280.325833333332,\"symbol\":\"circle\"},\"mode\":\"markers\",\"name\":\"Sierra Leone\",\"orientation\":\"v\",\"showlegend\":true,\"x\":[36.788],\"xaxis\":\"x\",\"y\":[3140897],\"yaxis\":\"y\",\"type\":\"scatter\"},{\"hovertemplate\":\"<b>%{hovertext}</b><br><br>country=Somalia<br>lifeExp=%{x}<br>pop=%{marker.size}<extra></extra>\",\"hovertext\":[\"Somalia\"],\"legendgroup\":\"Somalia\",\"marker\":{\"color\":\"#00cc96\",\"size\":[4353666],\"sizemode\":\"area\",\"sizeref\":17280.325833333332,\"symbol\":\"circle\"},\"mode\":\"markers\",\"name\":\"Somalia\",\"orientation\":\"v\",\"showlegend\":true,\"x\":[41.974],\"xaxis\":\"x\",\"y\":[4353666],\"yaxis\":\"y\",\"type\":\"scatter\"},{\"hovertemplate\":\"<b>%{hovertext}</b><br><br>country=South Africa<br>lifeExp=%{x}<br>pop=%{marker.size}<extra></extra>\",\"hovertext\":[\"South Africa\"],\"legendgroup\":\"South Africa\",\"marker\":{\"color\":\"#ab63fa\",\"size\":[27129932],\"sizemode\":\"area\",\"sizeref\":17280.325833333332,\"symbol\":\"circle\"},\"mode\":\"markers\",\"name\":\"South Africa\",\"orientation\":\"v\",\"showlegend\":true,\"x\":[55.527],\"xaxis\":\"x\",\"y\":[27129932],\"yaxis\":\"y\",\"type\":\"scatter\"},{\"hovertemplate\":\"<b>%{hovertext}</b><br><br>country=Sudan<br>lifeExp=%{x}<br>pop=%{marker.size}<extra></extra>\",\"hovertext\":[\"Sudan\"],\"legendgroup\":\"Sudan\",\"marker\":{\"color\":\"#FFA15A\",\"size\":[17104986],\"sizemode\":\"area\",\"sizeref\":17280.325833333332,\"symbol\":\"circle\"},\"mode\":\"markers\",\"name\":\"Sudan\",\"orientation\":\"v\",\"showlegend\":true,\"x\":[47.8],\"xaxis\":\"x\",\"y\":[17104986],\"yaxis\":\"y\",\"type\":\"scatter\"},{\"hovertemplate\":\"<b>%{hovertext}</b><br><br>country=Swaziland<br>lifeExp=%{x}<br>pop=%{marker.size}<extra></extra>\",\"hovertext\":[\"Swaziland\"],\"legendgroup\":\"Swaziland\",\"marker\":{\"color\":\"#19d3f3\",\"size\":[551425],\"sizemode\":\"area\",\"sizeref\":17280.325833333332,\"symbol\":\"circle\"},\"mode\":\"markers\",\"name\":\"Swaziland\",\"orientation\":\"v\",\"showlegend\":true,\"x\":[52.537],\"xaxis\":\"x\",\"y\":[551425],\"yaxis\":\"y\",\"type\":\"scatter\"},{\"hovertemplate\":\"<b>%{hovertext}</b><br><br>country=Tanzania<br>lifeExp=%{x}<br>pop=%{marker.size}<extra></extra>\",\"hovertext\":[\"Tanzania\"],\"legendgroup\":\"Tanzania\",\"marker\":{\"color\":\"#FF6692\",\"size\":[17129565],\"sizemode\":\"area\",\"sizeref\":17280.325833333332,\"symbol\":\"circle\"},\"mode\":\"markers\",\"name\":\"Tanzania\",\"orientation\":\"v\",\"showlegend\":true,\"x\":[49.919],\"xaxis\":\"x\",\"y\":[17129565],\"yaxis\":\"y\",\"type\":\"scatter\"},{\"hovertemplate\":\"<b>%{hovertext}</b><br><br>country=Togo<br>lifeExp=%{x}<br>pop=%{marker.size}<extra></extra>\",\"hovertext\":[\"Togo\"],\"legendgroup\":\"Togo\",\"marker\":{\"color\":\"#B6E880\",\"size\":[2308582],\"sizemode\":\"area\",\"sizeref\":17280.325833333332,\"symbol\":\"circle\"},\"mode\":\"markers\",\"name\":\"Togo\",\"orientation\":\"v\",\"showlegend\":true,\"x\":[52.887],\"xaxis\":\"x\",\"y\":[2308582],\"yaxis\":\"y\",\"type\":\"scatter\"},{\"hovertemplate\":\"<b>%{hovertext}</b><br><br>country=Tunisia<br>lifeExp=%{x}<br>pop=%{marker.size}<extra></extra>\",\"hovertext\":[\"Tunisia\"],\"legendgroup\":\"Tunisia\",\"marker\":{\"color\":\"#FF97FF\",\"size\":[6005061],\"sizemode\":\"area\",\"sizeref\":17280.325833333332,\"symbol\":\"circle\"},\"mode\":\"markers\",\"name\":\"Tunisia\",\"orientation\":\"v\",\"showlegend\":true,\"x\":[59.837],\"xaxis\":\"x\",\"y\":[6005061],\"yaxis\":\"y\",\"type\":\"scatter\"},{\"hovertemplate\":\"<b>%{hovertext}</b><br><br>country=Uganda<br>lifeExp=%{x}<br>pop=%{marker.size}<extra></extra>\",\"hovertext\":[\"Uganda\"],\"legendgroup\":\"Uganda\",\"marker\":{\"color\":\"#FECB52\",\"size\":[11457758],\"sizemode\":\"area\",\"sizeref\":17280.325833333332,\"symbol\":\"circle\"},\"mode\":\"markers\",\"name\":\"Uganda\",\"orientation\":\"v\",\"showlegend\":true,\"x\":[50.35],\"xaxis\":\"x\",\"y\":[11457758],\"yaxis\":\"y\",\"type\":\"scatter\"},{\"hovertemplate\":\"<b>%{hovertext}</b><br><br>country=Zambia<br>lifeExp=%{x}<br>pop=%{marker.size}<extra></extra>\",\"hovertext\":[\"Zambia\"],\"legendgroup\":\"Zambia\",\"marker\":{\"color\":\"#636efa\",\"size\":[5216550],\"sizemode\":\"area\",\"sizeref\":17280.325833333332,\"symbol\":\"circle\"},\"mode\":\"markers\",\"name\":\"Zambia\",\"orientation\":\"v\",\"showlegend\":true,\"x\":[51.386],\"xaxis\":\"x\",\"y\":[5216550],\"yaxis\":\"y\",\"type\":\"scatter\"},{\"hovertemplate\":\"<b>%{hovertext}</b><br><br>country=Zimbabwe<br>lifeExp=%{x}<br>pop=%{marker.size}<extra></extra>\",\"hovertext\":[\"Zimbabwe\"],\"legendgroup\":\"Zimbabwe\",\"marker\":{\"color\":\"#EF553B\",\"size\":[6642107],\"sizemode\":\"area\",\"sizeref\":17280.325833333332,\"symbol\":\"circle\"},\"mode\":\"markers\",\"name\":\"Zimbabwe\",\"orientation\":\"v\",\"showlegend\":true,\"x\":[57.674],\"xaxis\":\"x\",\"y\":[6642107],\"yaxis\":\"y\",\"type\":\"scatter\"}],                        {\"template\":{\"data\":{\"bar\":[{\"error_x\":{\"color\":\"#2a3f5f\"},\"error_y\":{\"color\":\"#2a3f5f\"},\"marker\":{\"line\":{\"color\":\"#E5ECF6\",\"width\":0.5},\"pattern\":{\"fillmode\":\"overlay\",\"size\":10,\"solidity\":0.2}},\"type\":\"bar\"}],\"barpolar\":[{\"marker\":{\"line\":{\"color\":\"#E5ECF6\",\"width\":0.5},\"pattern\":{\"fillmode\":\"overlay\",\"size\":10,\"solidity\":0.2}},\"type\":\"barpolar\"}],\"carpet\":[{\"aaxis\":{\"endlinecolor\":\"#2a3f5f\",\"gridcolor\":\"white\",\"linecolor\":\"white\",\"minorgridcolor\":\"white\",\"startlinecolor\":\"#2a3f5f\"},\"baxis\":{\"endlinecolor\":\"#2a3f5f\",\"gridcolor\":\"white\",\"linecolor\":\"white\",\"minorgridcolor\":\"white\",\"startlinecolor\":\"#2a3f5f\"},\"type\":\"carpet\"}],\"choropleth\":[{\"colorbar\":{\"outlinewidth\":0,\"ticks\":\"\"},\"type\":\"choropleth\"}],\"contour\":[{\"colorbar\":{\"outlinewidth\":0,\"ticks\":\"\"},\"colorscale\":[[0.0,\"#0d0887\"],[0.1111111111111111,\"#46039f\"],[0.2222222222222222,\"#7201a8\"],[0.3333333333333333,\"#9c179e\"],[0.4444444444444444,\"#bd3786\"],[0.5555555555555556,\"#d8576b\"],[0.6666666666666666,\"#ed7953\"],[0.7777777777777778,\"#fb9f3a\"],[0.8888888888888888,\"#fdca26\"],[1.0,\"#f0f921\"]],\"type\":\"contour\"}],\"contourcarpet\":[{\"colorbar\":{\"outlinewidth\":0,\"ticks\":\"\"},\"type\":\"contourcarpet\"}],\"heatmap\":[{\"colorbar\":{\"outlinewidth\":0,\"ticks\":\"\"},\"colorscale\":[[0.0,\"#0d0887\"],[0.1111111111111111,\"#46039f\"],[0.2222222222222222,\"#7201a8\"],[0.3333333333333333,\"#9c179e\"],[0.4444444444444444,\"#bd3786\"],[0.5555555555555556,\"#d8576b\"],[0.6666666666666666,\"#ed7953\"],[0.7777777777777778,\"#fb9f3a\"],[0.8888888888888888,\"#fdca26\"],[1.0,\"#f0f921\"]],\"type\":\"heatmap\"}],\"heatmapgl\":[{\"colorbar\":{\"outlinewidth\":0,\"ticks\":\"\"},\"colorscale\":[[0.0,\"#0d0887\"],[0.1111111111111111,\"#46039f\"],[0.2222222222222222,\"#7201a8\"],[0.3333333333333333,\"#9c179e\"],[0.4444444444444444,\"#bd3786\"],[0.5555555555555556,\"#d8576b\"],[0.6666666666666666,\"#ed7953\"],[0.7777777777777778,\"#fb9f3a\"],[0.8888888888888888,\"#fdca26\"],[1.0,\"#f0f921\"]],\"type\":\"heatmapgl\"}],\"histogram\":[{\"marker\":{\"pattern\":{\"fillmode\":\"overlay\",\"size\":10,\"solidity\":0.2}},\"type\":\"histogram\"}],\"histogram2d\":[{\"colorbar\":{\"outlinewidth\":0,\"ticks\":\"\"},\"colorscale\":[[0.0,\"#0d0887\"],[0.1111111111111111,\"#46039f\"],[0.2222222222222222,\"#7201a8\"],[0.3333333333333333,\"#9c179e\"],[0.4444444444444444,\"#bd3786\"],[0.5555555555555556,\"#d8576b\"],[0.6666666666666666,\"#ed7953\"],[0.7777777777777778,\"#fb9f3a\"],[0.8888888888888888,\"#fdca26\"],[1.0,\"#f0f921\"]],\"type\":\"histogram2d\"}],\"histogram2dcontour\":[{\"colorbar\":{\"outlinewidth\":0,\"ticks\":\"\"},\"colorscale\":[[0.0,\"#0d0887\"],[0.1111111111111111,\"#46039f\"],[0.2222222222222222,\"#7201a8\"],[0.3333333333333333,\"#9c179e\"],[0.4444444444444444,\"#bd3786\"],[0.5555555555555556,\"#d8576b\"],[0.6666666666666666,\"#ed7953\"],[0.7777777777777778,\"#fb9f3a\"],[0.8888888888888888,\"#fdca26\"],[1.0,\"#f0f921\"]],\"type\":\"histogram2dcontour\"}],\"mesh3d\":[{\"colorbar\":{\"outlinewidth\":0,\"ticks\":\"\"},\"type\":\"mesh3d\"}],\"parcoords\":[{\"line\":{\"colorbar\":{\"outlinewidth\":0,\"ticks\":\"\"}},\"type\":\"parcoords\"}],\"pie\":[{\"automargin\":true,\"type\":\"pie\"}],\"scatter\":[{\"marker\":{\"colorbar\":{\"outlinewidth\":0,\"ticks\":\"\"}},\"type\":\"scatter\"}],\"scatter3d\":[{\"line\":{\"colorbar\":{\"outlinewidth\":0,\"ticks\":\"\"}},\"marker\":{\"colorbar\":{\"outlinewidth\":0,\"ticks\":\"\"}},\"type\":\"scatter3d\"}],\"scattercarpet\":[{\"marker\":{\"colorbar\":{\"outlinewidth\":0,\"ticks\":\"\"}},\"type\":\"scattercarpet\"}],\"scattergeo\":[{\"marker\":{\"colorbar\":{\"outlinewidth\":0,\"ticks\":\"\"}},\"type\":\"scattergeo\"}],\"scattergl\":[{\"marker\":{\"colorbar\":{\"outlinewidth\":0,\"ticks\":\"\"}},\"type\":\"scattergl\"}],\"scattermapbox\":[{\"marker\":{\"colorbar\":{\"outlinewidth\":0,\"ticks\":\"\"}},\"type\":\"scattermapbox\"}],\"scatterpolar\":[{\"marker\":{\"colorbar\":{\"outlinewidth\":0,\"ticks\":\"\"}},\"type\":\"scatterpolar\"}],\"scatterpolargl\":[{\"marker\":{\"colorbar\":{\"outlinewidth\":0,\"ticks\":\"\"}},\"type\":\"scatterpolargl\"}],\"scatterternary\":[{\"marker\":{\"colorbar\":{\"outlinewidth\":0,\"ticks\":\"\"}},\"type\":\"scatterternary\"}],\"surface\":[{\"colorbar\":{\"outlinewidth\":0,\"ticks\":\"\"},\"colorscale\":[[0.0,\"#0d0887\"],[0.1111111111111111,\"#46039f\"],[0.2222222222222222,\"#7201a8\"],[0.3333333333333333,\"#9c179e\"],[0.4444444444444444,\"#bd3786\"],[0.5555555555555556,\"#d8576b\"],[0.6666666666666666,\"#ed7953\"],[0.7777777777777778,\"#fb9f3a\"],[0.8888888888888888,\"#fdca26\"],[1.0,\"#f0f921\"]],\"type\":\"surface\"}],\"table\":[{\"cells\":{\"fill\":{\"color\":\"#EBF0F8\"},\"line\":{\"color\":\"white\"}},\"header\":{\"fill\":{\"color\":\"#C8D4E3\"},\"line\":{\"color\":\"white\"}},\"type\":\"table\"}]},\"layout\":{\"annotationdefaults\":{\"arrowcolor\":\"#2a3f5f\",\"arrowhead\":0,\"arrowwidth\":1},\"autotypenumbers\":\"strict\",\"coloraxis\":{\"colorbar\":{\"outlinewidth\":0,\"ticks\":\"\"}},\"colorscale\":{\"diverging\":[[0,\"#8e0152\"],[0.1,\"#c51b7d\"],[0.2,\"#de77ae\"],[0.3,\"#f1b6da\"],[0.4,\"#fde0ef\"],[0.5,\"#f7f7f7\"],[0.6,\"#e6f5d0\"],[0.7,\"#b8e186\"],[0.8,\"#7fbc41\"],[0.9,\"#4d9221\"],[1,\"#276419\"]],\"sequential\":[[0.0,\"#0d0887\"],[0.1111111111111111,\"#46039f\"],[0.2222222222222222,\"#7201a8\"],[0.3333333333333333,\"#9c179e\"],[0.4444444444444444,\"#bd3786\"],[0.5555555555555556,\"#d8576b\"],[0.6666666666666666,\"#ed7953\"],[0.7777777777777778,\"#fb9f3a\"],[0.8888888888888888,\"#fdca26\"],[1.0,\"#f0f921\"]],\"sequentialminus\":[[0.0,\"#0d0887\"],[0.1111111111111111,\"#46039f\"],[0.2222222222222222,\"#7201a8\"],[0.3333333333333333,\"#9c179e\"],[0.4444444444444444,\"#bd3786\"],[0.5555555555555556,\"#d8576b\"],[0.6666666666666666,\"#ed7953\"],[0.7777777777777778,\"#fb9f3a\"],[0.8888888888888888,\"#fdca26\"],[1.0,\"#f0f921\"]]},\"colorway\":[\"#636efa\",\"#EF553B\",\"#00cc96\",\"#ab63fa\",\"#FFA15A\",\"#19d3f3\",\"#FF6692\",\"#B6E880\",\"#FF97FF\",\"#FECB52\"],\"font\":{\"color\":\"#2a3f5f\"},\"geo\":{\"bgcolor\":\"white\",\"lakecolor\":\"white\",\"landcolor\":\"#E5ECF6\",\"showlakes\":true,\"showland\":true,\"subunitcolor\":\"white\"},\"hoverlabel\":{\"align\":\"left\"},\"hovermode\":\"closest\",\"mapbox\":{\"style\":\"light\"},\"paper_bgcolor\":\"white\",\"plot_bgcolor\":\"#E5ECF6\",\"polar\":{\"angularaxis\":{\"gridcolor\":\"white\",\"linecolor\":\"white\",\"ticks\":\"\"},\"bgcolor\":\"#E5ECF6\",\"radialaxis\":{\"gridcolor\":\"white\",\"linecolor\":\"white\",\"ticks\":\"\"}},\"scene\":{\"xaxis\":{\"backgroundcolor\":\"#E5ECF6\",\"gridcolor\":\"white\",\"gridwidth\":2,\"linecolor\":\"white\",\"showbackground\":true,\"ticks\":\"\",\"zerolinecolor\":\"white\"},\"yaxis\":{\"backgroundcolor\":\"#E5ECF6\",\"gridcolor\":\"white\",\"gridwidth\":2,\"linecolor\":\"white\",\"showbackground\":true,\"ticks\":\"\",\"zerolinecolor\":\"white\"},\"zaxis\":{\"backgroundcolor\":\"#E5ECF6\",\"gridcolor\":\"white\",\"gridwidth\":2,\"linecolor\":\"white\",\"showbackground\":true,\"ticks\":\"\",\"zerolinecolor\":\"white\"}},\"shapedefaults\":{\"line\":{\"color\":\"#2a3f5f\"}},\"ternary\":{\"aaxis\":{\"gridcolor\":\"white\",\"linecolor\":\"white\",\"ticks\":\"\"},\"baxis\":{\"gridcolor\":\"white\",\"linecolor\":\"white\",\"ticks\":\"\"},\"bgcolor\":\"#E5ECF6\",\"caxis\":{\"gridcolor\":\"white\",\"linecolor\":\"white\",\"ticks\":\"\"}},\"title\":{\"x\":0.05},\"xaxis\":{\"automargin\":true,\"gridcolor\":\"white\",\"linecolor\":\"white\",\"ticks\":\"\",\"title\":{\"standoff\":15},\"zerolinecolor\":\"white\",\"zerolinewidth\":2},\"yaxis\":{\"automargin\":true,\"gridcolor\":\"white\",\"linecolor\":\"white\",\"ticks\":\"\",\"title\":{\"standoff\":15},\"zerolinecolor\":\"white\",\"zerolinewidth\":2}}},\"xaxis\":{\"anchor\":\"y\",\"domain\":[0.0,1.0],\"title\":{\"text\":\"lifeExp\"},\"type\":\"log\"},\"yaxis\":{\"anchor\":\"x\",\"domain\":[0.0,1.0],\"title\":{\"text\":\"pop\"}},\"legend\":{\"title\":{\"text\":\"country\"},\"tracegroupgap\":0,\"itemsizing\":\"constant\"},\"margin\":{\"t\":60}},                        {\"responsive\": true}                    ).then(function(){\n",
       "                            \n",
       "var gd = document.getElementById('479fbe71-5d2e-4a25-8c75-7798da5e6aa8');\n",
       "var x = new MutationObserver(function (mutations, observer) {{\n",
       "        var display = window.getComputedStyle(gd).display;\n",
       "        if (!display || display === 'none') {{\n",
       "            console.log([gd, 'removed!']);\n",
       "            Plotly.purge(gd);\n",
       "            observer.disconnect();\n",
       "        }}\n",
       "}});\n",
       "\n",
       "// Listen for the removal of the full notebook cells\n",
       "var notebookContainer = gd.closest('#notebook-container');\n",
       "if (notebookContainer) {{\n",
       "    x.observe(notebookContainer, {childList: true});\n",
       "}}\n",
       "\n",
       "// Listen for the clearing of the current output cell\n",
       "var outputEl = gd.closest('.output');\n",
       "if (outputEl) {{\n",
       "    x.observe(outputEl, {childList: true});\n",
       "}}\n",
       "\n",
       "                        })                };                });            </script>        </div>"
      ]
     },
     "metadata": {},
     "output_type": "display_data"
    }
   ],
   "source": [
    "\n",
    "fig = px.scatter(Assign6e.query(\"year==1977\"), x=\"lifeExp\", y=\"pop\",\n",
    "\t         size=\"pop\", color=\"country\",\n",
    "                 hover_name=\"country\", log_x=True, size_max=60)\n",
    "fig.show()"
   ]
  },
  {
   "cell_type": "code",
   "execution_count": 111,
   "id": "1405fc43",
   "metadata": {},
   "outputs": [
    {
     "data": {
      "application/vnd.plotly.v1+json": {
       "config": {
        "plotlyServerURL": "https://plot.ly"
       },
       "data": [
        {
         "hovertemplate": "<b>%{hovertext}</b><br><br>country=Algeria<br>lifeExp=%{x}<br>pop=%{marker.size}<extra></extra>",
         "hovertext": [
          "Algeria"
         ],
         "legendgroup": "Algeria",
         "marker": {
          "color": "#636efa",
          "size": [
           33333216
          ],
          "sizemode": "area",
          "sizeref": 37508.65666666667,
          "symbol": "circle"
         },
         "mode": "markers",
         "name": "Algeria",
         "orientation": "v",
         "showlegend": true,
         "type": "scatter",
         "x": [
          72.301
         ],
         "xaxis": "x",
         "y": [
          33333216
         ],
         "yaxis": "y"
        },
        {
         "hovertemplate": "<b>%{hovertext}</b><br><br>country=Angola<br>lifeExp=%{x}<br>pop=%{marker.size}<extra></extra>",
         "hovertext": [
          "Angola"
         ],
         "legendgroup": "Angola",
         "marker": {
          "color": "#EF553B",
          "size": [
           12420476
          ],
          "sizemode": "area",
          "sizeref": 37508.65666666667,
          "symbol": "circle"
         },
         "mode": "markers",
         "name": "Angola",
         "orientation": "v",
         "showlegend": true,
         "type": "scatter",
         "x": [
          42.731
         ],
         "xaxis": "x",
         "y": [
          12420476
         ],
         "yaxis": "y"
        },
        {
         "hovertemplate": "<b>%{hovertext}</b><br><br>country=Benin<br>lifeExp=%{x}<br>pop=%{marker.size}<extra></extra>",
         "hovertext": [
          "Benin"
         ],
         "legendgroup": "Benin",
         "marker": {
          "color": "#00cc96",
          "size": [
           8078314
          ],
          "sizemode": "area",
          "sizeref": 37508.65666666667,
          "symbol": "circle"
         },
         "mode": "markers",
         "name": "Benin",
         "orientation": "v",
         "showlegend": true,
         "type": "scatter",
         "x": [
          56.728
         ],
         "xaxis": "x",
         "y": [
          8078314
         ],
         "yaxis": "y"
        },
        {
         "hovertemplate": "<b>%{hovertext}</b><br><br>country=Botswana<br>lifeExp=%{x}<br>pop=%{marker.size}<extra></extra>",
         "hovertext": [
          "Botswana"
         ],
         "legendgroup": "Botswana",
         "marker": {
          "color": "#ab63fa",
          "size": [
           1639131
          ],
          "sizemode": "area",
          "sizeref": 37508.65666666667,
          "symbol": "circle"
         },
         "mode": "markers",
         "name": "Botswana",
         "orientation": "v",
         "showlegend": true,
         "type": "scatter",
         "x": [
          50.728
         ],
         "xaxis": "x",
         "y": [
          1639131
         ],
         "yaxis": "y"
        },
        {
         "hovertemplate": "<b>%{hovertext}</b><br><br>country=Burkina Faso<br>lifeExp=%{x}<br>pop=%{marker.size}<extra></extra>",
         "hovertext": [
          "Burkina Faso"
         ],
         "legendgroup": "Burkina Faso",
         "marker": {
          "color": "#FFA15A",
          "size": [
           14326203
          ],
          "sizemode": "area",
          "sizeref": 37508.65666666667,
          "symbol": "circle"
         },
         "mode": "markers",
         "name": "Burkina Faso",
         "orientation": "v",
         "showlegend": true,
         "type": "scatter",
         "x": [
          52.295
         ],
         "xaxis": "x",
         "y": [
          14326203
         ],
         "yaxis": "y"
        },
        {
         "hovertemplate": "<b>%{hovertext}</b><br><br>country=Burundi<br>lifeExp=%{x}<br>pop=%{marker.size}<extra></extra>",
         "hovertext": [
          "Burundi"
         ],
         "legendgroup": "Burundi",
         "marker": {
          "color": "#19d3f3",
          "size": [
           8390505
          ],
          "sizemode": "area",
          "sizeref": 37508.65666666667,
          "symbol": "circle"
         },
         "mode": "markers",
         "name": "Burundi",
         "orientation": "v",
         "showlegend": true,
         "type": "scatter",
         "x": [
          49.58
         ],
         "xaxis": "x",
         "y": [
          8390505
         ],
         "yaxis": "y"
        },
        {
         "hovertemplate": "<b>%{hovertext}</b><br><br>country=Cameroon<br>lifeExp=%{x}<br>pop=%{marker.size}<extra></extra>",
         "hovertext": [
          "Cameroon"
         ],
         "legendgroup": "Cameroon",
         "marker": {
          "color": "#FF6692",
          "size": [
           17696293
          ],
          "sizemode": "area",
          "sizeref": 37508.65666666667,
          "symbol": "circle"
         },
         "mode": "markers",
         "name": "Cameroon",
         "orientation": "v",
         "showlegend": true,
         "type": "scatter",
         "x": [
          50.43
         ],
         "xaxis": "x",
         "y": [
          17696293
         ],
         "yaxis": "y"
        },
        {
         "hovertemplate": "<b>%{hovertext}</b><br><br>country=Central African Republic<br>lifeExp=%{x}<br>pop=%{marker.size}<extra></extra>",
         "hovertext": [
          "Central African Republic"
         ],
         "legendgroup": "Central African Republic",
         "marker": {
          "color": "#B6E880",
          "size": [
           4369038
          ],
          "sizemode": "area",
          "sizeref": 37508.65666666667,
          "symbol": "circle"
         },
         "mode": "markers",
         "name": "Central African Republic",
         "orientation": "v",
         "showlegend": true,
         "type": "scatter",
         "x": [
          44.74100000000001
         ],
         "xaxis": "x",
         "y": [
          4369038
         ],
         "yaxis": "y"
        },
        {
         "hovertemplate": "<b>%{hovertext}</b><br><br>country=Chad<br>lifeExp=%{x}<br>pop=%{marker.size}<extra></extra>",
         "hovertext": [
          "Chad"
         ],
         "legendgroup": "Chad",
         "marker": {
          "color": "#FF97FF",
          "size": [
           10238807
          ],
          "sizemode": "area",
          "sizeref": 37508.65666666667,
          "symbol": "circle"
         },
         "mode": "markers",
         "name": "Chad",
         "orientation": "v",
         "showlegend": true,
         "type": "scatter",
         "x": [
          50.651
         ],
         "xaxis": "x",
         "y": [
          10238807
         ],
         "yaxis": "y"
        },
        {
         "hovertemplate": "<b>%{hovertext}</b><br><br>country=Comoros<br>lifeExp=%{x}<br>pop=%{marker.size}<extra></extra>",
         "hovertext": [
          "Comoros"
         ],
         "legendgroup": "Comoros",
         "marker": {
          "color": "#FECB52",
          "size": [
           710960
          ],
          "sizemode": "area",
          "sizeref": 37508.65666666667,
          "symbol": "circle"
         },
         "mode": "markers",
         "name": "Comoros",
         "orientation": "v",
         "showlegend": true,
         "type": "scatter",
         "x": [
          65.152
         ],
         "xaxis": "x",
         "y": [
          710960
         ],
         "yaxis": "y"
        },
        {
         "hovertemplate": "<b>%{hovertext}</b><br><br>country=Congo, Dem. Rep.<br>lifeExp=%{x}<br>pop=%{marker.size}<extra></extra>",
         "hovertext": [
          "Congo, Dem. Rep."
         ],
         "legendgroup": "Congo, Dem. Rep.",
         "marker": {
          "color": "#636efa",
          "size": [
           64606759
          ],
          "sizemode": "area",
          "sizeref": 37508.65666666667,
          "symbol": "circle"
         },
         "mode": "markers",
         "name": "Congo, Dem. Rep.",
         "orientation": "v",
         "showlegend": true,
         "type": "scatter",
         "x": [
          46.462
         ],
         "xaxis": "x",
         "y": [
          64606759
         ],
         "yaxis": "y"
        },
        {
         "hovertemplate": "<b>%{hovertext}</b><br><br>country=Congo, Rep.<br>lifeExp=%{x}<br>pop=%{marker.size}<extra></extra>",
         "hovertext": [
          "Congo, Rep."
         ],
         "legendgroup": "Congo, Rep.",
         "marker": {
          "color": "#EF553B",
          "size": [
           3800610
          ],
          "sizemode": "area",
          "sizeref": 37508.65666666667,
          "symbol": "circle"
         },
         "mode": "markers",
         "name": "Congo, Rep.",
         "orientation": "v",
         "showlegend": true,
         "type": "scatter",
         "x": [
          55.322
         ],
         "xaxis": "x",
         "y": [
          3800610
         ],
         "yaxis": "y"
        },
        {
         "hovertemplate": "<b>%{hovertext}</b><br><br>country=Cote d'Ivoire<br>lifeExp=%{x}<br>pop=%{marker.size}<extra></extra>",
         "hovertext": [
          "Cote d'Ivoire"
         ],
         "legendgroup": "Cote d'Ivoire",
         "marker": {
          "color": "#00cc96",
          "size": [
           18013409
          ],
          "sizemode": "area",
          "sizeref": 37508.65666666667,
          "symbol": "circle"
         },
         "mode": "markers",
         "name": "Cote d'Ivoire",
         "orientation": "v",
         "showlegend": true,
         "type": "scatter",
         "x": [
          48.328
         ],
         "xaxis": "x",
         "y": [
          18013409
         ],
         "yaxis": "y"
        },
        {
         "hovertemplate": "<b>%{hovertext}</b><br><br>country=Djibouti<br>lifeExp=%{x}<br>pop=%{marker.size}<extra></extra>",
         "hovertext": [
          "Djibouti"
         ],
         "legendgroup": "Djibouti",
         "marker": {
          "color": "#ab63fa",
          "size": [
           496374
          ],
          "sizemode": "area",
          "sizeref": 37508.65666666667,
          "symbol": "circle"
         },
         "mode": "markers",
         "name": "Djibouti",
         "orientation": "v",
         "showlegend": true,
         "type": "scatter",
         "x": [
          54.791
         ],
         "xaxis": "x",
         "y": [
          496374
         ],
         "yaxis": "y"
        },
        {
         "hovertemplate": "<b>%{hovertext}</b><br><br>country=Egypt<br>lifeExp=%{x}<br>pop=%{marker.size}<extra></extra>",
         "hovertext": [
          "Egypt"
         ],
         "legendgroup": "Egypt",
         "marker": {
          "color": "#FFA15A",
          "size": [
           80264543
          ],
          "sizemode": "area",
          "sizeref": 37508.65666666667,
          "symbol": "circle"
         },
         "mode": "markers",
         "name": "Egypt",
         "orientation": "v",
         "showlegend": true,
         "type": "scatter",
         "x": [
          71.33800000000002
         ],
         "xaxis": "x",
         "y": [
          80264543
         ],
         "yaxis": "y"
        },
        {
         "hovertemplate": "<b>%{hovertext}</b><br><br>country=Equatorial Guinea<br>lifeExp=%{x}<br>pop=%{marker.size}<extra></extra>",
         "hovertext": [
          "Equatorial Guinea"
         ],
         "legendgroup": "Equatorial Guinea",
         "marker": {
          "color": "#19d3f3",
          "size": [
           551201
          ],
          "sizemode": "area",
          "sizeref": 37508.65666666667,
          "symbol": "circle"
         },
         "mode": "markers",
         "name": "Equatorial Guinea",
         "orientation": "v",
         "showlegend": true,
         "type": "scatter",
         "x": [
          51.57899999999999
         ],
         "xaxis": "x",
         "y": [
          551201
         ],
         "yaxis": "y"
        },
        {
         "hovertemplate": "<b>%{hovertext}</b><br><br>country=Eritrea<br>lifeExp=%{x}<br>pop=%{marker.size}<extra></extra>",
         "hovertext": [
          "Eritrea"
         ],
         "legendgroup": "Eritrea",
         "marker": {
          "color": "#FF6692",
          "size": [
           4906585
          ],
          "sizemode": "area",
          "sizeref": 37508.65666666667,
          "symbol": "circle"
         },
         "mode": "markers",
         "name": "Eritrea",
         "orientation": "v",
         "showlegend": true,
         "type": "scatter",
         "x": [
          58.04
         ],
         "xaxis": "x",
         "y": [
          4906585
         ],
         "yaxis": "y"
        },
        {
         "hovertemplate": "<b>%{hovertext}</b><br><br>country=Ethiopia<br>lifeExp=%{x}<br>pop=%{marker.size}<extra></extra>",
         "hovertext": [
          "Ethiopia"
         ],
         "legendgroup": "Ethiopia",
         "marker": {
          "color": "#B6E880",
          "size": [
           76511887
          ],
          "sizemode": "area",
          "sizeref": 37508.65666666667,
          "symbol": "circle"
         },
         "mode": "markers",
         "name": "Ethiopia",
         "orientation": "v",
         "showlegend": true,
         "type": "scatter",
         "x": [
          52.947
         ],
         "xaxis": "x",
         "y": [
          76511887
         ],
         "yaxis": "y"
        },
        {
         "hovertemplate": "<b>%{hovertext}</b><br><br>country=Gabon<br>lifeExp=%{x}<br>pop=%{marker.size}<extra></extra>",
         "hovertext": [
          "Gabon"
         ],
         "legendgroup": "Gabon",
         "marker": {
          "color": "#FF97FF",
          "size": [
           1454867
          ],
          "sizemode": "area",
          "sizeref": 37508.65666666667,
          "symbol": "circle"
         },
         "mode": "markers",
         "name": "Gabon",
         "orientation": "v",
         "showlegend": true,
         "type": "scatter",
         "x": [
          56.735
         ],
         "xaxis": "x",
         "y": [
          1454867
         ],
         "yaxis": "y"
        },
        {
         "hovertemplate": "<b>%{hovertext}</b><br><br>country=Gambia<br>lifeExp=%{x}<br>pop=%{marker.size}<extra></extra>",
         "hovertext": [
          "Gambia"
         ],
         "legendgroup": "Gambia",
         "marker": {
          "color": "#FECB52",
          "size": [
           1688359
          ],
          "sizemode": "area",
          "sizeref": 37508.65666666667,
          "symbol": "circle"
         },
         "mode": "markers",
         "name": "Gambia",
         "orientation": "v",
         "showlegend": true,
         "type": "scatter",
         "x": [
          59.448
         ],
         "xaxis": "x",
         "y": [
          1688359
         ],
         "yaxis": "y"
        },
        {
         "hovertemplate": "<b>%{hovertext}</b><br><br>country=Ghana<br>lifeExp=%{x}<br>pop=%{marker.size}<extra></extra>",
         "hovertext": [
          "Ghana"
         ],
         "legendgroup": "Ghana",
         "marker": {
          "color": "#636efa",
          "size": [
           22873338
          ],
          "sizemode": "area",
          "sizeref": 37508.65666666667,
          "symbol": "circle"
         },
         "mode": "markers",
         "name": "Ghana",
         "orientation": "v",
         "showlegend": true,
         "type": "scatter",
         "x": [
          60.022
         ],
         "xaxis": "x",
         "y": [
          22873338
         ],
         "yaxis": "y"
        },
        {
         "hovertemplate": "<b>%{hovertext}</b><br><br>country=Guinea<br>lifeExp=%{x}<br>pop=%{marker.size}<extra></extra>",
         "hovertext": [
          "Guinea"
         ],
         "legendgroup": "Guinea",
         "marker": {
          "color": "#EF553B",
          "size": [
           9947814
          ],
          "sizemode": "area",
          "sizeref": 37508.65666666667,
          "symbol": "circle"
         },
         "mode": "markers",
         "name": "Guinea",
         "orientation": "v",
         "showlegend": true,
         "type": "scatter",
         "x": [
          56.007
         ],
         "xaxis": "x",
         "y": [
          9947814
         ],
         "yaxis": "y"
        },
        {
         "hovertemplate": "<b>%{hovertext}</b><br><br>country=Guinea-Bissau<br>lifeExp=%{x}<br>pop=%{marker.size}<extra></extra>",
         "hovertext": [
          "Guinea-Bissau"
         ],
         "legendgroup": "Guinea-Bissau",
         "marker": {
          "color": "#00cc96",
          "size": [
           1472041
          ],
          "sizemode": "area",
          "sizeref": 37508.65666666667,
          "symbol": "circle"
         },
         "mode": "markers",
         "name": "Guinea-Bissau",
         "orientation": "v",
         "showlegend": true,
         "type": "scatter",
         "x": [
          46.38800000000001
         ],
         "xaxis": "x",
         "y": [
          1472041
         ],
         "yaxis": "y"
        },
        {
         "hovertemplate": "<b>%{hovertext}</b><br><br>country=Kenya<br>lifeExp=%{x}<br>pop=%{marker.size}<extra></extra>",
         "hovertext": [
          "Kenya"
         ],
         "legendgroup": "Kenya",
         "marker": {
          "color": "#ab63fa",
          "size": [
           35610177
          ],
          "sizemode": "area",
          "sizeref": 37508.65666666667,
          "symbol": "circle"
         },
         "mode": "markers",
         "name": "Kenya",
         "orientation": "v",
         "showlegend": true,
         "type": "scatter",
         "x": [
          54.11
         ],
         "xaxis": "x",
         "y": [
          35610177
         ],
         "yaxis": "y"
        },
        {
         "hovertemplate": "<b>%{hovertext}</b><br><br>country=Lesotho<br>lifeExp=%{x}<br>pop=%{marker.size}<extra></extra>",
         "hovertext": [
          "Lesotho"
         ],
         "legendgroup": "Lesotho",
         "marker": {
          "color": "#FFA15A",
          "size": [
           2012649
          ],
          "sizemode": "area",
          "sizeref": 37508.65666666667,
          "symbol": "circle"
         },
         "mode": "markers",
         "name": "Lesotho",
         "orientation": "v",
         "showlegend": true,
         "type": "scatter",
         "x": [
          42.592
         ],
         "xaxis": "x",
         "y": [
          2012649
         ],
         "yaxis": "y"
        },
        {
         "hovertemplate": "<b>%{hovertext}</b><br><br>country=Liberia<br>lifeExp=%{x}<br>pop=%{marker.size}<extra></extra>",
         "hovertext": [
          "Liberia"
         ],
         "legendgroup": "Liberia",
         "marker": {
          "color": "#19d3f3",
          "size": [
           3193942
          ],
          "sizemode": "area",
          "sizeref": 37508.65666666667,
          "symbol": "circle"
         },
         "mode": "markers",
         "name": "Liberia",
         "orientation": "v",
         "showlegend": true,
         "type": "scatter",
         "x": [
          45.678
         ],
         "xaxis": "x",
         "y": [
          3193942
         ],
         "yaxis": "y"
        },
        {
         "hovertemplate": "<b>%{hovertext}</b><br><br>country=Libya<br>lifeExp=%{x}<br>pop=%{marker.size}<extra></extra>",
         "hovertext": [
          "Libya"
         ],
         "legendgroup": "Libya",
         "marker": {
          "color": "#FF6692",
          "size": [
           6036914
          ],
          "sizemode": "area",
          "sizeref": 37508.65666666667,
          "symbol": "circle"
         },
         "mode": "markers",
         "name": "Libya",
         "orientation": "v",
         "showlegend": true,
         "type": "scatter",
         "x": [
          73.952
         ],
         "xaxis": "x",
         "y": [
          6036914
         ],
         "yaxis": "y"
        },
        {
         "hovertemplate": "<b>%{hovertext}</b><br><br>country=Madagascar<br>lifeExp=%{x}<br>pop=%{marker.size}<extra></extra>",
         "hovertext": [
          "Madagascar"
         ],
         "legendgroup": "Madagascar",
         "marker": {
          "color": "#B6E880",
          "size": [
           19167654
          ],
          "sizemode": "area",
          "sizeref": 37508.65666666667,
          "symbol": "circle"
         },
         "mode": "markers",
         "name": "Madagascar",
         "orientation": "v",
         "showlegend": true,
         "type": "scatter",
         "x": [
          59.44300000000001
         ],
         "xaxis": "x",
         "y": [
          19167654
         ],
         "yaxis": "y"
        },
        {
         "hovertemplate": "<b>%{hovertext}</b><br><br>country=Malawi<br>lifeExp=%{x}<br>pop=%{marker.size}<extra></extra>",
         "hovertext": [
          "Malawi"
         ],
         "legendgroup": "Malawi",
         "marker": {
          "color": "#FF97FF",
          "size": [
           13327079
          ],
          "sizemode": "area",
          "sizeref": 37508.65666666667,
          "symbol": "circle"
         },
         "mode": "markers",
         "name": "Malawi",
         "orientation": "v",
         "showlegend": true,
         "type": "scatter",
         "x": [
          48.303
         ],
         "xaxis": "x",
         "y": [
          13327079
         ],
         "yaxis": "y"
        },
        {
         "hovertemplate": "<b>%{hovertext}</b><br><br>country=Mali<br>lifeExp=%{x}<br>pop=%{marker.size}<extra></extra>",
         "hovertext": [
          "Mali"
         ],
         "legendgroup": "Mali",
         "marker": {
          "color": "#FECB52",
          "size": [
           12031795
          ],
          "sizemode": "area",
          "sizeref": 37508.65666666667,
          "symbol": "circle"
         },
         "mode": "markers",
         "name": "Mali",
         "orientation": "v",
         "showlegend": true,
         "type": "scatter",
         "x": [
          54.467
         ],
         "xaxis": "x",
         "y": [
          12031795
         ],
         "yaxis": "y"
        },
        {
         "hovertemplate": "<b>%{hovertext}</b><br><br>country=Mauritania<br>lifeExp=%{x}<br>pop=%{marker.size}<extra></extra>",
         "hovertext": [
          "Mauritania"
         ],
         "legendgroup": "Mauritania",
         "marker": {
          "color": "#636efa",
          "size": [
           3270065
          ],
          "sizemode": "area",
          "sizeref": 37508.65666666667,
          "symbol": "circle"
         },
         "mode": "markers",
         "name": "Mauritania",
         "orientation": "v",
         "showlegend": true,
         "type": "scatter",
         "x": [
          64.164
         ],
         "xaxis": "x",
         "y": [
          3270065
         ],
         "yaxis": "y"
        },
        {
         "hovertemplate": "<b>%{hovertext}</b><br><br>country=Mauritius<br>lifeExp=%{x}<br>pop=%{marker.size}<extra></extra>",
         "hovertext": [
          "Mauritius"
         ],
         "legendgroup": "Mauritius",
         "marker": {
          "color": "#EF553B",
          "size": [
           1250882
          ],
          "sizemode": "area",
          "sizeref": 37508.65666666667,
          "symbol": "circle"
         },
         "mode": "markers",
         "name": "Mauritius",
         "orientation": "v",
         "showlegend": true,
         "type": "scatter",
         "x": [
          72.801
         ],
         "xaxis": "x",
         "y": [
          1250882
         ],
         "yaxis": "y"
        },
        {
         "hovertemplate": "<b>%{hovertext}</b><br><br>country=Morocco<br>lifeExp=%{x}<br>pop=%{marker.size}<extra></extra>",
         "hovertext": [
          "Morocco"
         ],
         "legendgroup": "Morocco",
         "marker": {
          "color": "#00cc96",
          "size": [
           33757175
          ],
          "sizemode": "area",
          "sizeref": 37508.65666666667,
          "symbol": "circle"
         },
         "mode": "markers",
         "name": "Morocco",
         "orientation": "v",
         "showlegend": true,
         "type": "scatter",
         "x": [
          71.164
         ],
         "xaxis": "x",
         "y": [
          33757175
         ],
         "yaxis": "y"
        },
        {
         "hovertemplate": "<b>%{hovertext}</b><br><br>country=Mozambique<br>lifeExp=%{x}<br>pop=%{marker.size}<extra></extra>",
         "hovertext": [
          "Mozambique"
         ],
         "legendgroup": "Mozambique",
         "marker": {
          "color": "#ab63fa",
          "size": [
           19951656
          ],
          "sizemode": "area",
          "sizeref": 37508.65666666667,
          "symbol": "circle"
         },
         "mode": "markers",
         "name": "Mozambique",
         "orientation": "v",
         "showlegend": true,
         "type": "scatter",
         "x": [
          42.082
         ],
         "xaxis": "x",
         "y": [
          19951656
         ],
         "yaxis": "y"
        },
        {
         "hovertemplate": "<b>%{hovertext}</b><br><br>country=Namibia<br>lifeExp=%{x}<br>pop=%{marker.size}<extra></extra>",
         "hovertext": [
          "Namibia"
         ],
         "legendgroup": "Namibia",
         "marker": {
          "color": "#FFA15A",
          "size": [
           2055080
          ],
          "sizemode": "area",
          "sizeref": 37508.65666666667,
          "symbol": "circle"
         },
         "mode": "markers",
         "name": "Namibia",
         "orientation": "v",
         "showlegend": true,
         "type": "scatter",
         "x": [
          52.90600000000001
         ],
         "xaxis": "x",
         "y": [
          2055080
         ],
         "yaxis": "y"
        },
        {
         "hovertemplate": "<b>%{hovertext}</b><br><br>country=Niger<br>lifeExp=%{x}<br>pop=%{marker.size}<extra></extra>",
         "hovertext": [
          "Niger"
         ],
         "legendgroup": "Niger",
         "marker": {
          "color": "#19d3f3",
          "size": [
           12894865
          ],
          "sizemode": "area",
          "sizeref": 37508.65666666667,
          "symbol": "circle"
         },
         "mode": "markers",
         "name": "Niger",
         "orientation": "v",
         "showlegend": true,
         "type": "scatter",
         "x": [
          56.867
         ],
         "xaxis": "x",
         "y": [
          12894865
         ],
         "yaxis": "y"
        },
        {
         "hovertemplate": "<b>%{hovertext}</b><br><br>country=Nigeria<br>lifeExp=%{x}<br>pop=%{marker.size}<extra></extra>",
         "hovertext": [
          "Nigeria"
         ],
         "legendgroup": "Nigeria",
         "marker": {
          "color": "#FF6692",
          "size": [
           135031164
          ],
          "sizemode": "area",
          "sizeref": 37508.65666666667,
          "symbol": "circle"
         },
         "mode": "markers",
         "name": "Nigeria",
         "orientation": "v",
         "showlegend": true,
         "type": "scatter",
         "x": [
          46.859
         ],
         "xaxis": "x",
         "y": [
          135031164
         ],
         "yaxis": "y"
        },
        {
         "hovertemplate": "<b>%{hovertext}</b><br><br>country=Reunion<br>lifeExp=%{x}<br>pop=%{marker.size}<extra></extra>",
         "hovertext": [
          "Reunion"
         ],
         "legendgroup": "Reunion",
         "marker": {
          "color": "#B6E880",
          "size": [
           798094
          ],
          "sizemode": "area",
          "sizeref": 37508.65666666667,
          "symbol": "circle"
         },
         "mode": "markers",
         "name": "Reunion",
         "orientation": "v",
         "showlegend": true,
         "type": "scatter",
         "x": [
          76.442
         ],
         "xaxis": "x",
         "y": [
          798094
         ],
         "yaxis": "y"
        },
        {
         "hovertemplate": "<b>%{hovertext}</b><br><br>country=Rwanda<br>lifeExp=%{x}<br>pop=%{marker.size}<extra></extra>",
         "hovertext": [
          "Rwanda"
         ],
         "legendgroup": "Rwanda",
         "marker": {
          "color": "#FF97FF",
          "size": [
           8860588
          ],
          "sizemode": "area",
          "sizeref": 37508.65666666667,
          "symbol": "circle"
         },
         "mode": "markers",
         "name": "Rwanda",
         "orientation": "v",
         "showlegend": true,
         "type": "scatter",
         "x": [
          46.242
         ],
         "xaxis": "x",
         "y": [
          8860588
         ],
         "yaxis": "y"
        },
        {
         "hovertemplate": "<b>%{hovertext}</b><br><br>country=Sao Tome and Principe<br>lifeExp=%{x}<br>pop=%{marker.size}<extra></extra>",
         "hovertext": [
          "Sao Tome and Principe"
         ],
         "legendgroup": "Sao Tome and Principe",
         "marker": {
          "color": "#FECB52",
          "size": [
           199579
          ],
          "sizemode": "area",
          "sizeref": 37508.65666666667,
          "symbol": "circle"
         },
         "mode": "markers",
         "name": "Sao Tome and Principe",
         "orientation": "v",
         "showlegend": true,
         "type": "scatter",
         "x": [
          65.528
         ],
         "xaxis": "x",
         "y": [
          199579
         ],
         "yaxis": "y"
        },
        {
         "hovertemplate": "<b>%{hovertext}</b><br><br>country=Senegal<br>lifeExp=%{x}<br>pop=%{marker.size}<extra></extra>",
         "hovertext": [
          "Senegal"
         ],
         "legendgroup": "Senegal",
         "marker": {
          "color": "#636efa",
          "size": [
           12267493
          ],
          "sizemode": "area",
          "sizeref": 37508.65666666667,
          "symbol": "circle"
         },
         "mode": "markers",
         "name": "Senegal",
         "orientation": "v",
         "showlegend": true,
         "type": "scatter",
         "x": [
          63.062
         ],
         "xaxis": "x",
         "y": [
          12267493
         ],
         "yaxis": "y"
        },
        {
         "hovertemplate": "<b>%{hovertext}</b><br><br>country=Sierra Leone<br>lifeExp=%{x}<br>pop=%{marker.size}<extra></extra>",
         "hovertext": [
          "Sierra Leone"
         ],
         "legendgroup": "Sierra Leone",
         "marker": {
          "color": "#EF553B",
          "size": [
           6144562
          ],
          "sizemode": "area",
          "sizeref": 37508.65666666667,
          "symbol": "circle"
         },
         "mode": "markers",
         "name": "Sierra Leone",
         "orientation": "v",
         "showlegend": true,
         "type": "scatter",
         "x": [
          42.56800000000001
         ],
         "xaxis": "x",
         "y": [
          6144562
         ],
         "yaxis": "y"
        },
        {
         "hovertemplate": "<b>%{hovertext}</b><br><br>country=Somalia<br>lifeExp=%{x}<br>pop=%{marker.size}<extra></extra>",
         "hovertext": [
          "Somalia"
         ],
         "legendgroup": "Somalia",
         "marker": {
          "color": "#00cc96",
          "size": [
           9118773
          ],
          "sizemode": "area",
          "sizeref": 37508.65666666667,
          "symbol": "circle"
         },
         "mode": "markers",
         "name": "Somalia",
         "orientation": "v",
         "showlegend": true,
         "type": "scatter",
         "x": [
          48.159
         ],
         "xaxis": "x",
         "y": [
          9118773
         ],
         "yaxis": "y"
        },
        {
         "hovertemplate": "<b>%{hovertext}</b><br><br>country=South Africa<br>lifeExp=%{x}<br>pop=%{marker.size}<extra></extra>",
         "hovertext": [
          "South Africa"
         ],
         "legendgroup": "South Africa",
         "marker": {
          "color": "#ab63fa",
          "size": [
           43997828
          ],
          "sizemode": "area",
          "sizeref": 37508.65666666667,
          "symbol": "circle"
         },
         "mode": "markers",
         "name": "South Africa",
         "orientation": "v",
         "showlegend": true,
         "type": "scatter",
         "x": [
          49.339
         ],
         "xaxis": "x",
         "y": [
          43997828
         ],
         "yaxis": "y"
        },
        {
         "hovertemplate": "<b>%{hovertext}</b><br><br>country=Sudan<br>lifeExp=%{x}<br>pop=%{marker.size}<extra></extra>",
         "hovertext": [
          "Sudan"
         ],
         "legendgroup": "Sudan",
         "marker": {
          "color": "#FFA15A",
          "size": [
           42292929
          ],
          "sizemode": "area",
          "sizeref": 37508.65666666667,
          "symbol": "circle"
         },
         "mode": "markers",
         "name": "Sudan",
         "orientation": "v",
         "showlegend": true,
         "type": "scatter",
         "x": [
          58.556
         ],
         "xaxis": "x",
         "y": [
          42292929
         ],
         "yaxis": "y"
        },
        {
         "hovertemplate": "<b>%{hovertext}</b><br><br>country=Swaziland<br>lifeExp=%{x}<br>pop=%{marker.size}<extra></extra>",
         "hovertext": [
          "Swaziland"
         ],
         "legendgroup": "Swaziland",
         "marker": {
          "color": "#19d3f3",
          "size": [
           1133066
          ],
          "sizemode": "area",
          "sizeref": 37508.65666666667,
          "symbol": "circle"
         },
         "mode": "markers",
         "name": "Swaziland",
         "orientation": "v",
         "showlegend": true,
         "type": "scatter",
         "x": [
          39.613
         ],
         "xaxis": "x",
         "y": [
          1133066
         ],
         "yaxis": "y"
        },
        {
         "hovertemplate": "<b>%{hovertext}</b><br><br>country=Tanzania<br>lifeExp=%{x}<br>pop=%{marker.size}<extra></extra>",
         "hovertext": [
          "Tanzania"
         ],
         "legendgroup": "Tanzania",
         "marker": {
          "color": "#FF6692",
          "size": [
           38139640
          ],
          "sizemode": "area",
          "sizeref": 37508.65666666667,
          "symbol": "circle"
         },
         "mode": "markers",
         "name": "Tanzania",
         "orientation": "v",
         "showlegend": true,
         "type": "scatter",
         "x": [
          52.517
         ],
         "xaxis": "x",
         "y": [
          38139640
         ],
         "yaxis": "y"
        },
        {
         "hovertemplate": "<b>%{hovertext}</b><br><br>country=Togo<br>lifeExp=%{x}<br>pop=%{marker.size}<extra></extra>",
         "hovertext": [
          "Togo"
         ],
         "legendgroup": "Togo",
         "marker": {
          "color": "#B6E880",
          "size": [
           5701579
          ],
          "sizemode": "area",
          "sizeref": 37508.65666666667,
          "symbol": "circle"
         },
         "mode": "markers",
         "name": "Togo",
         "orientation": "v",
         "showlegend": true,
         "type": "scatter",
         "x": [
          58.42
         ],
         "xaxis": "x",
         "y": [
          5701579
         ],
         "yaxis": "y"
        },
        {
         "hovertemplate": "<b>%{hovertext}</b><br><br>country=Tunisia<br>lifeExp=%{x}<br>pop=%{marker.size}<extra></extra>",
         "hovertext": [
          "Tunisia"
         ],
         "legendgroup": "Tunisia",
         "marker": {
          "color": "#FF97FF",
          "size": [
           10276158
          ],
          "sizemode": "area",
          "sizeref": 37508.65666666667,
          "symbol": "circle"
         },
         "mode": "markers",
         "name": "Tunisia",
         "orientation": "v",
         "showlegend": true,
         "type": "scatter",
         "x": [
          73.923
         ],
         "xaxis": "x",
         "y": [
          10276158
         ],
         "yaxis": "y"
        },
        {
         "hovertemplate": "<b>%{hovertext}</b><br><br>country=Uganda<br>lifeExp=%{x}<br>pop=%{marker.size}<extra></extra>",
         "hovertext": [
          "Uganda"
         ],
         "legendgroup": "Uganda",
         "marker": {
          "color": "#FECB52",
          "size": [
           29170398
          ],
          "sizemode": "area",
          "sizeref": 37508.65666666667,
          "symbol": "circle"
         },
         "mode": "markers",
         "name": "Uganda",
         "orientation": "v",
         "showlegend": true,
         "type": "scatter",
         "x": [
          51.542
         ],
         "xaxis": "x",
         "y": [
          29170398
         ],
         "yaxis": "y"
        },
        {
         "hovertemplate": "<b>%{hovertext}</b><br><br>country=Zambia<br>lifeExp=%{x}<br>pop=%{marker.size}<extra></extra>",
         "hovertext": [
          "Zambia"
         ],
         "legendgroup": "Zambia",
         "marker": {
          "color": "#636efa",
          "size": [
           11746035
          ],
          "sizemode": "area",
          "sizeref": 37508.65666666667,
          "symbol": "circle"
         },
         "mode": "markers",
         "name": "Zambia",
         "orientation": "v",
         "showlegend": true,
         "type": "scatter",
         "x": [
          42.38399999999999
         ],
         "xaxis": "x",
         "y": [
          11746035
         ],
         "yaxis": "y"
        },
        {
         "hovertemplate": "<b>%{hovertext}</b><br><br>country=Zimbabwe<br>lifeExp=%{x}<br>pop=%{marker.size}<extra></extra>",
         "hovertext": [
          "Zimbabwe"
         ],
         "legendgroup": "Zimbabwe",
         "marker": {
          "color": "#EF553B",
          "size": [
           12311143
          ],
          "sizemode": "area",
          "sizeref": 37508.65666666667,
          "symbol": "circle"
         },
         "mode": "markers",
         "name": "Zimbabwe",
         "orientation": "v",
         "showlegend": true,
         "type": "scatter",
         "x": [
          43.487
         ],
         "xaxis": "x",
         "y": [
          12311143
         ],
         "yaxis": "y"
        }
       ],
       "layout": {
        "legend": {
         "itemsizing": "constant",
         "title": {
          "text": "country"
         },
         "tracegroupgap": 0
        },
        "margin": {
         "t": 60
        },
        "template": {
         "data": {
          "bar": [
           {
            "error_x": {
             "color": "#2a3f5f"
            },
            "error_y": {
             "color": "#2a3f5f"
            },
            "marker": {
             "line": {
              "color": "#E5ECF6",
              "width": 0.5
             },
             "pattern": {
              "fillmode": "overlay",
              "size": 10,
              "solidity": 0.2
             }
            },
            "type": "bar"
           }
          ],
          "barpolar": [
           {
            "marker": {
             "line": {
              "color": "#E5ECF6",
              "width": 0.5
             },
             "pattern": {
              "fillmode": "overlay",
              "size": 10,
              "solidity": 0.2
             }
            },
            "type": "barpolar"
           }
          ],
          "carpet": [
           {
            "aaxis": {
             "endlinecolor": "#2a3f5f",
             "gridcolor": "white",
             "linecolor": "white",
             "minorgridcolor": "white",
             "startlinecolor": "#2a3f5f"
            },
            "baxis": {
             "endlinecolor": "#2a3f5f",
             "gridcolor": "white",
             "linecolor": "white",
             "minorgridcolor": "white",
             "startlinecolor": "#2a3f5f"
            },
            "type": "carpet"
           }
          ],
          "choropleth": [
           {
            "colorbar": {
             "outlinewidth": 0,
             "ticks": ""
            },
            "type": "choropleth"
           }
          ],
          "contour": [
           {
            "colorbar": {
             "outlinewidth": 0,
             "ticks": ""
            },
            "colorscale": [
             [
              0,
              "#0d0887"
             ],
             [
              0.1111111111111111,
              "#46039f"
             ],
             [
              0.2222222222222222,
              "#7201a8"
             ],
             [
              0.3333333333333333,
              "#9c179e"
             ],
             [
              0.4444444444444444,
              "#bd3786"
             ],
             [
              0.5555555555555556,
              "#d8576b"
             ],
             [
              0.6666666666666666,
              "#ed7953"
             ],
             [
              0.7777777777777778,
              "#fb9f3a"
             ],
             [
              0.8888888888888888,
              "#fdca26"
             ],
             [
              1,
              "#f0f921"
             ]
            ],
            "type": "contour"
           }
          ],
          "contourcarpet": [
           {
            "colorbar": {
             "outlinewidth": 0,
             "ticks": ""
            },
            "type": "contourcarpet"
           }
          ],
          "heatmap": [
           {
            "colorbar": {
             "outlinewidth": 0,
             "ticks": ""
            },
            "colorscale": [
             [
              0,
              "#0d0887"
             ],
             [
              0.1111111111111111,
              "#46039f"
             ],
             [
              0.2222222222222222,
              "#7201a8"
             ],
             [
              0.3333333333333333,
              "#9c179e"
             ],
             [
              0.4444444444444444,
              "#bd3786"
             ],
             [
              0.5555555555555556,
              "#d8576b"
             ],
             [
              0.6666666666666666,
              "#ed7953"
             ],
             [
              0.7777777777777778,
              "#fb9f3a"
             ],
             [
              0.8888888888888888,
              "#fdca26"
             ],
             [
              1,
              "#f0f921"
             ]
            ],
            "type": "heatmap"
           }
          ],
          "heatmapgl": [
           {
            "colorbar": {
             "outlinewidth": 0,
             "ticks": ""
            },
            "colorscale": [
             [
              0,
              "#0d0887"
             ],
             [
              0.1111111111111111,
              "#46039f"
             ],
             [
              0.2222222222222222,
              "#7201a8"
             ],
             [
              0.3333333333333333,
              "#9c179e"
             ],
             [
              0.4444444444444444,
              "#bd3786"
             ],
             [
              0.5555555555555556,
              "#d8576b"
             ],
             [
              0.6666666666666666,
              "#ed7953"
             ],
             [
              0.7777777777777778,
              "#fb9f3a"
             ],
             [
              0.8888888888888888,
              "#fdca26"
             ],
             [
              1,
              "#f0f921"
             ]
            ],
            "type": "heatmapgl"
           }
          ],
          "histogram": [
           {
            "marker": {
             "pattern": {
              "fillmode": "overlay",
              "size": 10,
              "solidity": 0.2
             }
            },
            "type": "histogram"
           }
          ],
          "histogram2d": [
           {
            "colorbar": {
             "outlinewidth": 0,
             "ticks": ""
            },
            "colorscale": [
             [
              0,
              "#0d0887"
             ],
             [
              0.1111111111111111,
              "#46039f"
             ],
             [
              0.2222222222222222,
              "#7201a8"
             ],
             [
              0.3333333333333333,
              "#9c179e"
             ],
             [
              0.4444444444444444,
              "#bd3786"
             ],
             [
              0.5555555555555556,
              "#d8576b"
             ],
             [
              0.6666666666666666,
              "#ed7953"
             ],
             [
              0.7777777777777778,
              "#fb9f3a"
             ],
             [
              0.8888888888888888,
              "#fdca26"
             ],
             [
              1,
              "#f0f921"
             ]
            ],
            "type": "histogram2d"
           }
          ],
          "histogram2dcontour": [
           {
            "colorbar": {
             "outlinewidth": 0,
             "ticks": ""
            },
            "colorscale": [
             [
              0,
              "#0d0887"
             ],
             [
              0.1111111111111111,
              "#46039f"
             ],
             [
              0.2222222222222222,
              "#7201a8"
             ],
             [
              0.3333333333333333,
              "#9c179e"
             ],
             [
              0.4444444444444444,
              "#bd3786"
             ],
             [
              0.5555555555555556,
              "#d8576b"
             ],
             [
              0.6666666666666666,
              "#ed7953"
             ],
             [
              0.7777777777777778,
              "#fb9f3a"
             ],
             [
              0.8888888888888888,
              "#fdca26"
             ],
             [
              1,
              "#f0f921"
             ]
            ],
            "type": "histogram2dcontour"
           }
          ],
          "mesh3d": [
           {
            "colorbar": {
             "outlinewidth": 0,
             "ticks": ""
            },
            "type": "mesh3d"
           }
          ],
          "parcoords": [
           {
            "line": {
             "colorbar": {
              "outlinewidth": 0,
              "ticks": ""
             }
            },
            "type": "parcoords"
           }
          ],
          "pie": [
           {
            "automargin": true,
            "type": "pie"
           }
          ],
          "scatter": [
           {
            "marker": {
             "colorbar": {
              "outlinewidth": 0,
              "ticks": ""
             }
            },
            "type": "scatter"
           }
          ],
          "scatter3d": [
           {
            "line": {
             "colorbar": {
              "outlinewidth": 0,
              "ticks": ""
             }
            },
            "marker": {
             "colorbar": {
              "outlinewidth": 0,
              "ticks": ""
             }
            },
            "type": "scatter3d"
           }
          ],
          "scattercarpet": [
           {
            "marker": {
             "colorbar": {
              "outlinewidth": 0,
              "ticks": ""
             }
            },
            "type": "scattercarpet"
           }
          ],
          "scattergeo": [
           {
            "marker": {
             "colorbar": {
              "outlinewidth": 0,
              "ticks": ""
             }
            },
            "type": "scattergeo"
           }
          ],
          "scattergl": [
           {
            "marker": {
             "colorbar": {
              "outlinewidth": 0,
              "ticks": ""
             }
            },
            "type": "scattergl"
           }
          ],
          "scattermapbox": [
           {
            "marker": {
             "colorbar": {
              "outlinewidth": 0,
              "ticks": ""
             }
            },
            "type": "scattermapbox"
           }
          ],
          "scatterpolar": [
           {
            "marker": {
             "colorbar": {
              "outlinewidth": 0,
              "ticks": ""
             }
            },
            "type": "scatterpolar"
           }
          ],
          "scatterpolargl": [
           {
            "marker": {
             "colorbar": {
              "outlinewidth": 0,
              "ticks": ""
             }
            },
            "type": "scatterpolargl"
           }
          ],
          "scatterternary": [
           {
            "marker": {
             "colorbar": {
              "outlinewidth": 0,
              "ticks": ""
             }
            },
            "type": "scatterternary"
           }
          ],
          "surface": [
           {
            "colorbar": {
             "outlinewidth": 0,
             "ticks": ""
            },
            "colorscale": [
             [
              0,
              "#0d0887"
             ],
             [
              0.1111111111111111,
              "#46039f"
             ],
             [
              0.2222222222222222,
              "#7201a8"
             ],
             [
              0.3333333333333333,
              "#9c179e"
             ],
             [
              0.4444444444444444,
              "#bd3786"
             ],
             [
              0.5555555555555556,
              "#d8576b"
             ],
             [
              0.6666666666666666,
              "#ed7953"
             ],
             [
              0.7777777777777778,
              "#fb9f3a"
             ],
             [
              0.8888888888888888,
              "#fdca26"
             ],
             [
              1,
              "#f0f921"
             ]
            ],
            "type": "surface"
           }
          ],
          "table": [
           {
            "cells": {
             "fill": {
              "color": "#EBF0F8"
             },
             "line": {
              "color": "white"
             }
            },
            "header": {
             "fill": {
              "color": "#C8D4E3"
             },
             "line": {
              "color": "white"
             }
            },
            "type": "table"
           }
          ]
         },
         "layout": {
          "annotationdefaults": {
           "arrowcolor": "#2a3f5f",
           "arrowhead": 0,
           "arrowwidth": 1
          },
          "autotypenumbers": "strict",
          "coloraxis": {
           "colorbar": {
            "outlinewidth": 0,
            "ticks": ""
           }
          },
          "colorscale": {
           "diverging": [
            [
             0,
             "#8e0152"
            ],
            [
             0.1,
             "#c51b7d"
            ],
            [
             0.2,
             "#de77ae"
            ],
            [
             0.3,
             "#f1b6da"
            ],
            [
             0.4,
             "#fde0ef"
            ],
            [
             0.5,
             "#f7f7f7"
            ],
            [
             0.6,
             "#e6f5d0"
            ],
            [
             0.7,
             "#b8e186"
            ],
            [
             0.8,
             "#7fbc41"
            ],
            [
             0.9,
             "#4d9221"
            ],
            [
             1,
             "#276419"
            ]
           ],
           "sequential": [
            [
             0,
             "#0d0887"
            ],
            [
             0.1111111111111111,
             "#46039f"
            ],
            [
             0.2222222222222222,
             "#7201a8"
            ],
            [
             0.3333333333333333,
             "#9c179e"
            ],
            [
             0.4444444444444444,
             "#bd3786"
            ],
            [
             0.5555555555555556,
             "#d8576b"
            ],
            [
             0.6666666666666666,
             "#ed7953"
            ],
            [
             0.7777777777777778,
             "#fb9f3a"
            ],
            [
             0.8888888888888888,
             "#fdca26"
            ],
            [
             1,
             "#f0f921"
            ]
           ],
           "sequentialminus": [
            [
             0,
             "#0d0887"
            ],
            [
             0.1111111111111111,
             "#46039f"
            ],
            [
             0.2222222222222222,
             "#7201a8"
            ],
            [
             0.3333333333333333,
             "#9c179e"
            ],
            [
             0.4444444444444444,
             "#bd3786"
            ],
            [
             0.5555555555555556,
             "#d8576b"
            ],
            [
             0.6666666666666666,
             "#ed7953"
            ],
            [
             0.7777777777777778,
             "#fb9f3a"
            ],
            [
             0.8888888888888888,
             "#fdca26"
            ],
            [
             1,
             "#f0f921"
            ]
           ]
          },
          "colorway": [
           "#636efa",
           "#EF553B",
           "#00cc96",
           "#ab63fa",
           "#FFA15A",
           "#19d3f3",
           "#FF6692",
           "#B6E880",
           "#FF97FF",
           "#FECB52"
          ],
          "font": {
           "color": "#2a3f5f"
          },
          "geo": {
           "bgcolor": "white",
           "lakecolor": "white",
           "landcolor": "#E5ECF6",
           "showlakes": true,
           "showland": true,
           "subunitcolor": "white"
          },
          "hoverlabel": {
           "align": "left"
          },
          "hovermode": "closest",
          "mapbox": {
           "style": "light"
          },
          "paper_bgcolor": "white",
          "plot_bgcolor": "#E5ECF6",
          "polar": {
           "angularaxis": {
            "gridcolor": "white",
            "linecolor": "white",
            "ticks": ""
           },
           "bgcolor": "#E5ECF6",
           "radialaxis": {
            "gridcolor": "white",
            "linecolor": "white",
            "ticks": ""
           }
          },
          "scene": {
           "xaxis": {
            "backgroundcolor": "#E5ECF6",
            "gridcolor": "white",
            "gridwidth": 2,
            "linecolor": "white",
            "showbackground": true,
            "ticks": "",
            "zerolinecolor": "white"
           },
           "yaxis": {
            "backgroundcolor": "#E5ECF6",
            "gridcolor": "white",
            "gridwidth": 2,
            "linecolor": "white",
            "showbackground": true,
            "ticks": "",
            "zerolinecolor": "white"
           },
           "zaxis": {
            "backgroundcolor": "#E5ECF6",
            "gridcolor": "white",
            "gridwidth": 2,
            "linecolor": "white",
            "showbackground": true,
            "ticks": "",
            "zerolinecolor": "white"
           }
          },
          "shapedefaults": {
           "line": {
            "color": "#2a3f5f"
           }
          },
          "ternary": {
           "aaxis": {
            "gridcolor": "white",
            "linecolor": "white",
            "ticks": ""
           },
           "baxis": {
            "gridcolor": "white",
            "linecolor": "white",
            "ticks": ""
           },
           "bgcolor": "#E5ECF6",
           "caxis": {
            "gridcolor": "white",
            "linecolor": "white",
            "ticks": ""
           }
          },
          "title": {
           "x": 0.05
          },
          "xaxis": {
           "automargin": true,
           "gridcolor": "white",
           "linecolor": "white",
           "ticks": "",
           "title": {
            "standoff": 15
           },
           "zerolinecolor": "white",
           "zerolinewidth": 2
          },
          "yaxis": {
           "automargin": true,
           "gridcolor": "white",
           "linecolor": "white",
           "ticks": "",
           "title": {
            "standoff": 15
           },
           "zerolinecolor": "white",
           "zerolinewidth": 2
          }
         }
        },
        "xaxis": {
         "anchor": "y",
         "domain": [
          0,
          1
         ],
         "title": {
          "text": "lifeExp"
         },
         "type": "log"
        },
        "yaxis": {
         "anchor": "x",
         "domain": [
          0,
          1
         ],
         "title": {
          "text": "pop"
         }
        }
       }
      },
      "text/html": [
       "<div>                            <div id=\"e27907fa-7c73-425a-9727-3518f95876c9\" class=\"plotly-graph-div\" style=\"height:525px; width:100%;\"></div>            <script type=\"text/javascript\">                require([\"plotly\"], function(Plotly) {                    window.PLOTLYENV=window.PLOTLYENV || {};                                    if (document.getElementById(\"e27907fa-7c73-425a-9727-3518f95876c9\")) {                    Plotly.newPlot(                        \"e27907fa-7c73-425a-9727-3518f95876c9\",                        [{\"hovertemplate\":\"<b>%{hovertext}</b><br><br>country=Algeria<br>lifeExp=%{x}<br>pop=%{marker.size}<extra></extra>\",\"hovertext\":[\"Algeria\"],\"legendgroup\":\"Algeria\",\"marker\":{\"color\":\"#636efa\",\"size\":[33333216],\"sizemode\":\"area\",\"sizeref\":37508.65666666667,\"symbol\":\"circle\"},\"mode\":\"markers\",\"name\":\"Algeria\",\"orientation\":\"v\",\"showlegend\":true,\"x\":[72.301],\"xaxis\":\"x\",\"y\":[33333216],\"yaxis\":\"y\",\"type\":\"scatter\"},{\"hovertemplate\":\"<b>%{hovertext}</b><br><br>country=Angola<br>lifeExp=%{x}<br>pop=%{marker.size}<extra></extra>\",\"hovertext\":[\"Angola\"],\"legendgroup\":\"Angola\",\"marker\":{\"color\":\"#EF553B\",\"size\":[12420476],\"sizemode\":\"area\",\"sizeref\":37508.65666666667,\"symbol\":\"circle\"},\"mode\":\"markers\",\"name\":\"Angola\",\"orientation\":\"v\",\"showlegend\":true,\"x\":[42.731],\"xaxis\":\"x\",\"y\":[12420476],\"yaxis\":\"y\",\"type\":\"scatter\"},{\"hovertemplate\":\"<b>%{hovertext}</b><br><br>country=Benin<br>lifeExp=%{x}<br>pop=%{marker.size}<extra></extra>\",\"hovertext\":[\"Benin\"],\"legendgroup\":\"Benin\",\"marker\":{\"color\":\"#00cc96\",\"size\":[8078314],\"sizemode\":\"area\",\"sizeref\":37508.65666666667,\"symbol\":\"circle\"},\"mode\":\"markers\",\"name\":\"Benin\",\"orientation\":\"v\",\"showlegend\":true,\"x\":[56.728],\"xaxis\":\"x\",\"y\":[8078314],\"yaxis\":\"y\",\"type\":\"scatter\"},{\"hovertemplate\":\"<b>%{hovertext}</b><br><br>country=Botswana<br>lifeExp=%{x}<br>pop=%{marker.size}<extra></extra>\",\"hovertext\":[\"Botswana\"],\"legendgroup\":\"Botswana\",\"marker\":{\"color\":\"#ab63fa\",\"size\":[1639131],\"sizemode\":\"area\",\"sizeref\":37508.65666666667,\"symbol\":\"circle\"},\"mode\":\"markers\",\"name\":\"Botswana\",\"orientation\":\"v\",\"showlegend\":true,\"x\":[50.728],\"xaxis\":\"x\",\"y\":[1639131],\"yaxis\":\"y\",\"type\":\"scatter\"},{\"hovertemplate\":\"<b>%{hovertext}</b><br><br>country=Burkina Faso<br>lifeExp=%{x}<br>pop=%{marker.size}<extra></extra>\",\"hovertext\":[\"Burkina Faso\"],\"legendgroup\":\"Burkina Faso\",\"marker\":{\"color\":\"#FFA15A\",\"size\":[14326203],\"sizemode\":\"area\",\"sizeref\":37508.65666666667,\"symbol\":\"circle\"},\"mode\":\"markers\",\"name\":\"Burkina Faso\",\"orientation\":\"v\",\"showlegend\":true,\"x\":[52.295],\"xaxis\":\"x\",\"y\":[14326203],\"yaxis\":\"y\",\"type\":\"scatter\"},{\"hovertemplate\":\"<b>%{hovertext}</b><br><br>country=Burundi<br>lifeExp=%{x}<br>pop=%{marker.size}<extra></extra>\",\"hovertext\":[\"Burundi\"],\"legendgroup\":\"Burundi\",\"marker\":{\"color\":\"#19d3f3\",\"size\":[8390505],\"sizemode\":\"area\",\"sizeref\":37508.65666666667,\"symbol\":\"circle\"},\"mode\":\"markers\",\"name\":\"Burundi\",\"orientation\":\"v\",\"showlegend\":true,\"x\":[49.58],\"xaxis\":\"x\",\"y\":[8390505],\"yaxis\":\"y\",\"type\":\"scatter\"},{\"hovertemplate\":\"<b>%{hovertext}</b><br><br>country=Cameroon<br>lifeExp=%{x}<br>pop=%{marker.size}<extra></extra>\",\"hovertext\":[\"Cameroon\"],\"legendgroup\":\"Cameroon\",\"marker\":{\"color\":\"#FF6692\",\"size\":[17696293],\"sizemode\":\"area\",\"sizeref\":37508.65666666667,\"symbol\":\"circle\"},\"mode\":\"markers\",\"name\":\"Cameroon\",\"orientation\":\"v\",\"showlegend\":true,\"x\":[50.43],\"xaxis\":\"x\",\"y\":[17696293],\"yaxis\":\"y\",\"type\":\"scatter\"},{\"hovertemplate\":\"<b>%{hovertext}</b><br><br>country=Central African Republic<br>lifeExp=%{x}<br>pop=%{marker.size}<extra></extra>\",\"hovertext\":[\"Central African Republic\"],\"legendgroup\":\"Central African Republic\",\"marker\":{\"color\":\"#B6E880\",\"size\":[4369038],\"sizemode\":\"area\",\"sizeref\":37508.65666666667,\"symbol\":\"circle\"},\"mode\":\"markers\",\"name\":\"Central African Republic\",\"orientation\":\"v\",\"showlegend\":true,\"x\":[44.74100000000001],\"xaxis\":\"x\",\"y\":[4369038],\"yaxis\":\"y\",\"type\":\"scatter\"},{\"hovertemplate\":\"<b>%{hovertext}</b><br><br>country=Chad<br>lifeExp=%{x}<br>pop=%{marker.size}<extra></extra>\",\"hovertext\":[\"Chad\"],\"legendgroup\":\"Chad\",\"marker\":{\"color\":\"#FF97FF\",\"size\":[10238807],\"sizemode\":\"area\",\"sizeref\":37508.65666666667,\"symbol\":\"circle\"},\"mode\":\"markers\",\"name\":\"Chad\",\"orientation\":\"v\",\"showlegend\":true,\"x\":[50.651],\"xaxis\":\"x\",\"y\":[10238807],\"yaxis\":\"y\",\"type\":\"scatter\"},{\"hovertemplate\":\"<b>%{hovertext}</b><br><br>country=Comoros<br>lifeExp=%{x}<br>pop=%{marker.size}<extra></extra>\",\"hovertext\":[\"Comoros\"],\"legendgroup\":\"Comoros\",\"marker\":{\"color\":\"#FECB52\",\"size\":[710960],\"sizemode\":\"area\",\"sizeref\":37508.65666666667,\"symbol\":\"circle\"},\"mode\":\"markers\",\"name\":\"Comoros\",\"orientation\":\"v\",\"showlegend\":true,\"x\":[65.152],\"xaxis\":\"x\",\"y\":[710960],\"yaxis\":\"y\",\"type\":\"scatter\"},{\"hovertemplate\":\"<b>%{hovertext}</b><br><br>country=Congo, Dem. Rep.<br>lifeExp=%{x}<br>pop=%{marker.size}<extra></extra>\",\"hovertext\":[\"Congo, Dem. Rep.\"],\"legendgroup\":\"Congo, Dem. Rep.\",\"marker\":{\"color\":\"#636efa\",\"size\":[64606759],\"sizemode\":\"area\",\"sizeref\":37508.65666666667,\"symbol\":\"circle\"},\"mode\":\"markers\",\"name\":\"Congo, Dem. Rep.\",\"orientation\":\"v\",\"showlegend\":true,\"x\":[46.462],\"xaxis\":\"x\",\"y\":[64606759],\"yaxis\":\"y\",\"type\":\"scatter\"},{\"hovertemplate\":\"<b>%{hovertext}</b><br><br>country=Congo, Rep.<br>lifeExp=%{x}<br>pop=%{marker.size}<extra></extra>\",\"hovertext\":[\"Congo, Rep.\"],\"legendgroup\":\"Congo, Rep.\",\"marker\":{\"color\":\"#EF553B\",\"size\":[3800610],\"sizemode\":\"area\",\"sizeref\":37508.65666666667,\"symbol\":\"circle\"},\"mode\":\"markers\",\"name\":\"Congo, Rep.\",\"orientation\":\"v\",\"showlegend\":true,\"x\":[55.322],\"xaxis\":\"x\",\"y\":[3800610],\"yaxis\":\"y\",\"type\":\"scatter\"},{\"hovertemplate\":\"<b>%{hovertext}</b><br><br>country=Cote d'Ivoire<br>lifeExp=%{x}<br>pop=%{marker.size}<extra></extra>\",\"hovertext\":[\"Cote d'Ivoire\"],\"legendgroup\":\"Cote d'Ivoire\",\"marker\":{\"color\":\"#00cc96\",\"size\":[18013409],\"sizemode\":\"area\",\"sizeref\":37508.65666666667,\"symbol\":\"circle\"},\"mode\":\"markers\",\"name\":\"Cote d'Ivoire\",\"orientation\":\"v\",\"showlegend\":true,\"x\":[48.328],\"xaxis\":\"x\",\"y\":[18013409],\"yaxis\":\"y\",\"type\":\"scatter\"},{\"hovertemplate\":\"<b>%{hovertext}</b><br><br>country=Djibouti<br>lifeExp=%{x}<br>pop=%{marker.size}<extra></extra>\",\"hovertext\":[\"Djibouti\"],\"legendgroup\":\"Djibouti\",\"marker\":{\"color\":\"#ab63fa\",\"size\":[496374],\"sizemode\":\"area\",\"sizeref\":37508.65666666667,\"symbol\":\"circle\"},\"mode\":\"markers\",\"name\":\"Djibouti\",\"orientation\":\"v\",\"showlegend\":true,\"x\":[54.791],\"xaxis\":\"x\",\"y\":[496374],\"yaxis\":\"y\",\"type\":\"scatter\"},{\"hovertemplate\":\"<b>%{hovertext}</b><br><br>country=Egypt<br>lifeExp=%{x}<br>pop=%{marker.size}<extra></extra>\",\"hovertext\":[\"Egypt\"],\"legendgroup\":\"Egypt\",\"marker\":{\"color\":\"#FFA15A\",\"size\":[80264543],\"sizemode\":\"area\",\"sizeref\":37508.65666666667,\"symbol\":\"circle\"},\"mode\":\"markers\",\"name\":\"Egypt\",\"orientation\":\"v\",\"showlegend\":true,\"x\":[71.33800000000002],\"xaxis\":\"x\",\"y\":[80264543],\"yaxis\":\"y\",\"type\":\"scatter\"},{\"hovertemplate\":\"<b>%{hovertext}</b><br><br>country=Equatorial Guinea<br>lifeExp=%{x}<br>pop=%{marker.size}<extra></extra>\",\"hovertext\":[\"Equatorial Guinea\"],\"legendgroup\":\"Equatorial Guinea\",\"marker\":{\"color\":\"#19d3f3\",\"size\":[551201],\"sizemode\":\"area\",\"sizeref\":37508.65666666667,\"symbol\":\"circle\"},\"mode\":\"markers\",\"name\":\"Equatorial Guinea\",\"orientation\":\"v\",\"showlegend\":true,\"x\":[51.57899999999999],\"xaxis\":\"x\",\"y\":[551201],\"yaxis\":\"y\",\"type\":\"scatter\"},{\"hovertemplate\":\"<b>%{hovertext}</b><br><br>country=Eritrea<br>lifeExp=%{x}<br>pop=%{marker.size}<extra></extra>\",\"hovertext\":[\"Eritrea\"],\"legendgroup\":\"Eritrea\",\"marker\":{\"color\":\"#FF6692\",\"size\":[4906585],\"sizemode\":\"area\",\"sizeref\":37508.65666666667,\"symbol\":\"circle\"},\"mode\":\"markers\",\"name\":\"Eritrea\",\"orientation\":\"v\",\"showlegend\":true,\"x\":[58.04],\"xaxis\":\"x\",\"y\":[4906585],\"yaxis\":\"y\",\"type\":\"scatter\"},{\"hovertemplate\":\"<b>%{hovertext}</b><br><br>country=Ethiopia<br>lifeExp=%{x}<br>pop=%{marker.size}<extra></extra>\",\"hovertext\":[\"Ethiopia\"],\"legendgroup\":\"Ethiopia\",\"marker\":{\"color\":\"#B6E880\",\"size\":[76511887],\"sizemode\":\"area\",\"sizeref\":37508.65666666667,\"symbol\":\"circle\"},\"mode\":\"markers\",\"name\":\"Ethiopia\",\"orientation\":\"v\",\"showlegend\":true,\"x\":[52.947],\"xaxis\":\"x\",\"y\":[76511887],\"yaxis\":\"y\",\"type\":\"scatter\"},{\"hovertemplate\":\"<b>%{hovertext}</b><br><br>country=Gabon<br>lifeExp=%{x}<br>pop=%{marker.size}<extra></extra>\",\"hovertext\":[\"Gabon\"],\"legendgroup\":\"Gabon\",\"marker\":{\"color\":\"#FF97FF\",\"size\":[1454867],\"sizemode\":\"area\",\"sizeref\":37508.65666666667,\"symbol\":\"circle\"},\"mode\":\"markers\",\"name\":\"Gabon\",\"orientation\":\"v\",\"showlegend\":true,\"x\":[56.735],\"xaxis\":\"x\",\"y\":[1454867],\"yaxis\":\"y\",\"type\":\"scatter\"},{\"hovertemplate\":\"<b>%{hovertext}</b><br><br>country=Gambia<br>lifeExp=%{x}<br>pop=%{marker.size}<extra></extra>\",\"hovertext\":[\"Gambia\"],\"legendgroup\":\"Gambia\",\"marker\":{\"color\":\"#FECB52\",\"size\":[1688359],\"sizemode\":\"area\",\"sizeref\":37508.65666666667,\"symbol\":\"circle\"},\"mode\":\"markers\",\"name\":\"Gambia\",\"orientation\":\"v\",\"showlegend\":true,\"x\":[59.448],\"xaxis\":\"x\",\"y\":[1688359],\"yaxis\":\"y\",\"type\":\"scatter\"},{\"hovertemplate\":\"<b>%{hovertext}</b><br><br>country=Ghana<br>lifeExp=%{x}<br>pop=%{marker.size}<extra></extra>\",\"hovertext\":[\"Ghana\"],\"legendgroup\":\"Ghana\",\"marker\":{\"color\":\"#636efa\",\"size\":[22873338],\"sizemode\":\"area\",\"sizeref\":37508.65666666667,\"symbol\":\"circle\"},\"mode\":\"markers\",\"name\":\"Ghana\",\"orientation\":\"v\",\"showlegend\":true,\"x\":[60.022],\"xaxis\":\"x\",\"y\":[22873338],\"yaxis\":\"y\",\"type\":\"scatter\"},{\"hovertemplate\":\"<b>%{hovertext}</b><br><br>country=Guinea<br>lifeExp=%{x}<br>pop=%{marker.size}<extra></extra>\",\"hovertext\":[\"Guinea\"],\"legendgroup\":\"Guinea\",\"marker\":{\"color\":\"#EF553B\",\"size\":[9947814],\"sizemode\":\"area\",\"sizeref\":37508.65666666667,\"symbol\":\"circle\"},\"mode\":\"markers\",\"name\":\"Guinea\",\"orientation\":\"v\",\"showlegend\":true,\"x\":[56.007],\"xaxis\":\"x\",\"y\":[9947814],\"yaxis\":\"y\",\"type\":\"scatter\"},{\"hovertemplate\":\"<b>%{hovertext}</b><br><br>country=Guinea-Bissau<br>lifeExp=%{x}<br>pop=%{marker.size}<extra></extra>\",\"hovertext\":[\"Guinea-Bissau\"],\"legendgroup\":\"Guinea-Bissau\",\"marker\":{\"color\":\"#00cc96\",\"size\":[1472041],\"sizemode\":\"area\",\"sizeref\":37508.65666666667,\"symbol\":\"circle\"},\"mode\":\"markers\",\"name\":\"Guinea-Bissau\",\"orientation\":\"v\",\"showlegend\":true,\"x\":[46.38800000000001],\"xaxis\":\"x\",\"y\":[1472041],\"yaxis\":\"y\",\"type\":\"scatter\"},{\"hovertemplate\":\"<b>%{hovertext}</b><br><br>country=Kenya<br>lifeExp=%{x}<br>pop=%{marker.size}<extra></extra>\",\"hovertext\":[\"Kenya\"],\"legendgroup\":\"Kenya\",\"marker\":{\"color\":\"#ab63fa\",\"size\":[35610177],\"sizemode\":\"area\",\"sizeref\":37508.65666666667,\"symbol\":\"circle\"},\"mode\":\"markers\",\"name\":\"Kenya\",\"orientation\":\"v\",\"showlegend\":true,\"x\":[54.11],\"xaxis\":\"x\",\"y\":[35610177],\"yaxis\":\"y\",\"type\":\"scatter\"},{\"hovertemplate\":\"<b>%{hovertext}</b><br><br>country=Lesotho<br>lifeExp=%{x}<br>pop=%{marker.size}<extra></extra>\",\"hovertext\":[\"Lesotho\"],\"legendgroup\":\"Lesotho\",\"marker\":{\"color\":\"#FFA15A\",\"size\":[2012649],\"sizemode\":\"area\",\"sizeref\":37508.65666666667,\"symbol\":\"circle\"},\"mode\":\"markers\",\"name\":\"Lesotho\",\"orientation\":\"v\",\"showlegend\":true,\"x\":[42.592],\"xaxis\":\"x\",\"y\":[2012649],\"yaxis\":\"y\",\"type\":\"scatter\"},{\"hovertemplate\":\"<b>%{hovertext}</b><br><br>country=Liberia<br>lifeExp=%{x}<br>pop=%{marker.size}<extra></extra>\",\"hovertext\":[\"Liberia\"],\"legendgroup\":\"Liberia\",\"marker\":{\"color\":\"#19d3f3\",\"size\":[3193942],\"sizemode\":\"area\",\"sizeref\":37508.65666666667,\"symbol\":\"circle\"},\"mode\":\"markers\",\"name\":\"Liberia\",\"orientation\":\"v\",\"showlegend\":true,\"x\":[45.678],\"xaxis\":\"x\",\"y\":[3193942],\"yaxis\":\"y\",\"type\":\"scatter\"},{\"hovertemplate\":\"<b>%{hovertext}</b><br><br>country=Libya<br>lifeExp=%{x}<br>pop=%{marker.size}<extra></extra>\",\"hovertext\":[\"Libya\"],\"legendgroup\":\"Libya\",\"marker\":{\"color\":\"#FF6692\",\"size\":[6036914],\"sizemode\":\"area\",\"sizeref\":37508.65666666667,\"symbol\":\"circle\"},\"mode\":\"markers\",\"name\":\"Libya\",\"orientation\":\"v\",\"showlegend\":true,\"x\":[73.952],\"xaxis\":\"x\",\"y\":[6036914],\"yaxis\":\"y\",\"type\":\"scatter\"},{\"hovertemplate\":\"<b>%{hovertext}</b><br><br>country=Madagascar<br>lifeExp=%{x}<br>pop=%{marker.size}<extra></extra>\",\"hovertext\":[\"Madagascar\"],\"legendgroup\":\"Madagascar\",\"marker\":{\"color\":\"#B6E880\",\"size\":[19167654],\"sizemode\":\"area\",\"sizeref\":37508.65666666667,\"symbol\":\"circle\"},\"mode\":\"markers\",\"name\":\"Madagascar\",\"orientation\":\"v\",\"showlegend\":true,\"x\":[59.44300000000001],\"xaxis\":\"x\",\"y\":[19167654],\"yaxis\":\"y\",\"type\":\"scatter\"},{\"hovertemplate\":\"<b>%{hovertext}</b><br><br>country=Malawi<br>lifeExp=%{x}<br>pop=%{marker.size}<extra></extra>\",\"hovertext\":[\"Malawi\"],\"legendgroup\":\"Malawi\",\"marker\":{\"color\":\"#FF97FF\",\"size\":[13327079],\"sizemode\":\"area\",\"sizeref\":37508.65666666667,\"symbol\":\"circle\"},\"mode\":\"markers\",\"name\":\"Malawi\",\"orientation\":\"v\",\"showlegend\":true,\"x\":[48.303],\"xaxis\":\"x\",\"y\":[13327079],\"yaxis\":\"y\",\"type\":\"scatter\"},{\"hovertemplate\":\"<b>%{hovertext}</b><br><br>country=Mali<br>lifeExp=%{x}<br>pop=%{marker.size}<extra></extra>\",\"hovertext\":[\"Mali\"],\"legendgroup\":\"Mali\",\"marker\":{\"color\":\"#FECB52\",\"size\":[12031795],\"sizemode\":\"area\",\"sizeref\":37508.65666666667,\"symbol\":\"circle\"},\"mode\":\"markers\",\"name\":\"Mali\",\"orientation\":\"v\",\"showlegend\":true,\"x\":[54.467],\"xaxis\":\"x\",\"y\":[12031795],\"yaxis\":\"y\",\"type\":\"scatter\"},{\"hovertemplate\":\"<b>%{hovertext}</b><br><br>country=Mauritania<br>lifeExp=%{x}<br>pop=%{marker.size}<extra></extra>\",\"hovertext\":[\"Mauritania\"],\"legendgroup\":\"Mauritania\",\"marker\":{\"color\":\"#636efa\",\"size\":[3270065],\"sizemode\":\"area\",\"sizeref\":37508.65666666667,\"symbol\":\"circle\"},\"mode\":\"markers\",\"name\":\"Mauritania\",\"orientation\":\"v\",\"showlegend\":true,\"x\":[64.164],\"xaxis\":\"x\",\"y\":[3270065],\"yaxis\":\"y\",\"type\":\"scatter\"},{\"hovertemplate\":\"<b>%{hovertext}</b><br><br>country=Mauritius<br>lifeExp=%{x}<br>pop=%{marker.size}<extra></extra>\",\"hovertext\":[\"Mauritius\"],\"legendgroup\":\"Mauritius\",\"marker\":{\"color\":\"#EF553B\",\"size\":[1250882],\"sizemode\":\"area\",\"sizeref\":37508.65666666667,\"symbol\":\"circle\"},\"mode\":\"markers\",\"name\":\"Mauritius\",\"orientation\":\"v\",\"showlegend\":true,\"x\":[72.801],\"xaxis\":\"x\",\"y\":[1250882],\"yaxis\":\"y\",\"type\":\"scatter\"},{\"hovertemplate\":\"<b>%{hovertext}</b><br><br>country=Morocco<br>lifeExp=%{x}<br>pop=%{marker.size}<extra></extra>\",\"hovertext\":[\"Morocco\"],\"legendgroup\":\"Morocco\",\"marker\":{\"color\":\"#00cc96\",\"size\":[33757175],\"sizemode\":\"area\",\"sizeref\":37508.65666666667,\"symbol\":\"circle\"},\"mode\":\"markers\",\"name\":\"Morocco\",\"orientation\":\"v\",\"showlegend\":true,\"x\":[71.164],\"xaxis\":\"x\",\"y\":[33757175],\"yaxis\":\"y\",\"type\":\"scatter\"},{\"hovertemplate\":\"<b>%{hovertext}</b><br><br>country=Mozambique<br>lifeExp=%{x}<br>pop=%{marker.size}<extra></extra>\",\"hovertext\":[\"Mozambique\"],\"legendgroup\":\"Mozambique\",\"marker\":{\"color\":\"#ab63fa\",\"size\":[19951656],\"sizemode\":\"area\",\"sizeref\":37508.65666666667,\"symbol\":\"circle\"},\"mode\":\"markers\",\"name\":\"Mozambique\",\"orientation\":\"v\",\"showlegend\":true,\"x\":[42.082],\"xaxis\":\"x\",\"y\":[19951656],\"yaxis\":\"y\",\"type\":\"scatter\"},{\"hovertemplate\":\"<b>%{hovertext}</b><br><br>country=Namibia<br>lifeExp=%{x}<br>pop=%{marker.size}<extra></extra>\",\"hovertext\":[\"Namibia\"],\"legendgroup\":\"Namibia\",\"marker\":{\"color\":\"#FFA15A\",\"size\":[2055080],\"sizemode\":\"area\",\"sizeref\":37508.65666666667,\"symbol\":\"circle\"},\"mode\":\"markers\",\"name\":\"Namibia\",\"orientation\":\"v\",\"showlegend\":true,\"x\":[52.90600000000001],\"xaxis\":\"x\",\"y\":[2055080],\"yaxis\":\"y\",\"type\":\"scatter\"},{\"hovertemplate\":\"<b>%{hovertext}</b><br><br>country=Niger<br>lifeExp=%{x}<br>pop=%{marker.size}<extra></extra>\",\"hovertext\":[\"Niger\"],\"legendgroup\":\"Niger\",\"marker\":{\"color\":\"#19d3f3\",\"size\":[12894865],\"sizemode\":\"area\",\"sizeref\":37508.65666666667,\"symbol\":\"circle\"},\"mode\":\"markers\",\"name\":\"Niger\",\"orientation\":\"v\",\"showlegend\":true,\"x\":[56.867],\"xaxis\":\"x\",\"y\":[12894865],\"yaxis\":\"y\",\"type\":\"scatter\"},{\"hovertemplate\":\"<b>%{hovertext}</b><br><br>country=Nigeria<br>lifeExp=%{x}<br>pop=%{marker.size}<extra></extra>\",\"hovertext\":[\"Nigeria\"],\"legendgroup\":\"Nigeria\",\"marker\":{\"color\":\"#FF6692\",\"size\":[135031164],\"sizemode\":\"area\",\"sizeref\":37508.65666666667,\"symbol\":\"circle\"},\"mode\":\"markers\",\"name\":\"Nigeria\",\"orientation\":\"v\",\"showlegend\":true,\"x\":[46.859],\"xaxis\":\"x\",\"y\":[135031164],\"yaxis\":\"y\",\"type\":\"scatter\"},{\"hovertemplate\":\"<b>%{hovertext}</b><br><br>country=Reunion<br>lifeExp=%{x}<br>pop=%{marker.size}<extra></extra>\",\"hovertext\":[\"Reunion\"],\"legendgroup\":\"Reunion\",\"marker\":{\"color\":\"#B6E880\",\"size\":[798094],\"sizemode\":\"area\",\"sizeref\":37508.65666666667,\"symbol\":\"circle\"},\"mode\":\"markers\",\"name\":\"Reunion\",\"orientation\":\"v\",\"showlegend\":true,\"x\":[76.442],\"xaxis\":\"x\",\"y\":[798094],\"yaxis\":\"y\",\"type\":\"scatter\"},{\"hovertemplate\":\"<b>%{hovertext}</b><br><br>country=Rwanda<br>lifeExp=%{x}<br>pop=%{marker.size}<extra></extra>\",\"hovertext\":[\"Rwanda\"],\"legendgroup\":\"Rwanda\",\"marker\":{\"color\":\"#FF97FF\",\"size\":[8860588],\"sizemode\":\"area\",\"sizeref\":37508.65666666667,\"symbol\":\"circle\"},\"mode\":\"markers\",\"name\":\"Rwanda\",\"orientation\":\"v\",\"showlegend\":true,\"x\":[46.242],\"xaxis\":\"x\",\"y\":[8860588],\"yaxis\":\"y\",\"type\":\"scatter\"},{\"hovertemplate\":\"<b>%{hovertext}</b><br><br>country=Sao Tome and Principe<br>lifeExp=%{x}<br>pop=%{marker.size}<extra></extra>\",\"hovertext\":[\"Sao Tome and Principe\"],\"legendgroup\":\"Sao Tome and Principe\",\"marker\":{\"color\":\"#FECB52\",\"size\":[199579],\"sizemode\":\"area\",\"sizeref\":37508.65666666667,\"symbol\":\"circle\"},\"mode\":\"markers\",\"name\":\"Sao Tome and Principe\",\"orientation\":\"v\",\"showlegend\":true,\"x\":[65.528],\"xaxis\":\"x\",\"y\":[199579],\"yaxis\":\"y\",\"type\":\"scatter\"},{\"hovertemplate\":\"<b>%{hovertext}</b><br><br>country=Senegal<br>lifeExp=%{x}<br>pop=%{marker.size}<extra></extra>\",\"hovertext\":[\"Senegal\"],\"legendgroup\":\"Senegal\",\"marker\":{\"color\":\"#636efa\",\"size\":[12267493],\"sizemode\":\"area\",\"sizeref\":37508.65666666667,\"symbol\":\"circle\"},\"mode\":\"markers\",\"name\":\"Senegal\",\"orientation\":\"v\",\"showlegend\":true,\"x\":[63.062],\"xaxis\":\"x\",\"y\":[12267493],\"yaxis\":\"y\",\"type\":\"scatter\"},{\"hovertemplate\":\"<b>%{hovertext}</b><br><br>country=Sierra Leone<br>lifeExp=%{x}<br>pop=%{marker.size}<extra></extra>\",\"hovertext\":[\"Sierra Leone\"],\"legendgroup\":\"Sierra Leone\",\"marker\":{\"color\":\"#EF553B\",\"size\":[6144562],\"sizemode\":\"area\",\"sizeref\":37508.65666666667,\"symbol\":\"circle\"},\"mode\":\"markers\",\"name\":\"Sierra Leone\",\"orientation\":\"v\",\"showlegend\":true,\"x\":[42.56800000000001],\"xaxis\":\"x\",\"y\":[6144562],\"yaxis\":\"y\",\"type\":\"scatter\"},{\"hovertemplate\":\"<b>%{hovertext}</b><br><br>country=Somalia<br>lifeExp=%{x}<br>pop=%{marker.size}<extra></extra>\",\"hovertext\":[\"Somalia\"],\"legendgroup\":\"Somalia\",\"marker\":{\"color\":\"#00cc96\",\"size\":[9118773],\"sizemode\":\"area\",\"sizeref\":37508.65666666667,\"symbol\":\"circle\"},\"mode\":\"markers\",\"name\":\"Somalia\",\"orientation\":\"v\",\"showlegend\":true,\"x\":[48.159],\"xaxis\":\"x\",\"y\":[9118773],\"yaxis\":\"y\",\"type\":\"scatter\"},{\"hovertemplate\":\"<b>%{hovertext}</b><br><br>country=South Africa<br>lifeExp=%{x}<br>pop=%{marker.size}<extra></extra>\",\"hovertext\":[\"South Africa\"],\"legendgroup\":\"South Africa\",\"marker\":{\"color\":\"#ab63fa\",\"size\":[43997828],\"sizemode\":\"area\",\"sizeref\":37508.65666666667,\"symbol\":\"circle\"},\"mode\":\"markers\",\"name\":\"South Africa\",\"orientation\":\"v\",\"showlegend\":true,\"x\":[49.339],\"xaxis\":\"x\",\"y\":[43997828],\"yaxis\":\"y\",\"type\":\"scatter\"},{\"hovertemplate\":\"<b>%{hovertext}</b><br><br>country=Sudan<br>lifeExp=%{x}<br>pop=%{marker.size}<extra></extra>\",\"hovertext\":[\"Sudan\"],\"legendgroup\":\"Sudan\",\"marker\":{\"color\":\"#FFA15A\",\"size\":[42292929],\"sizemode\":\"area\",\"sizeref\":37508.65666666667,\"symbol\":\"circle\"},\"mode\":\"markers\",\"name\":\"Sudan\",\"orientation\":\"v\",\"showlegend\":true,\"x\":[58.556],\"xaxis\":\"x\",\"y\":[42292929],\"yaxis\":\"y\",\"type\":\"scatter\"},{\"hovertemplate\":\"<b>%{hovertext}</b><br><br>country=Swaziland<br>lifeExp=%{x}<br>pop=%{marker.size}<extra></extra>\",\"hovertext\":[\"Swaziland\"],\"legendgroup\":\"Swaziland\",\"marker\":{\"color\":\"#19d3f3\",\"size\":[1133066],\"sizemode\":\"area\",\"sizeref\":37508.65666666667,\"symbol\":\"circle\"},\"mode\":\"markers\",\"name\":\"Swaziland\",\"orientation\":\"v\",\"showlegend\":true,\"x\":[39.613],\"xaxis\":\"x\",\"y\":[1133066],\"yaxis\":\"y\",\"type\":\"scatter\"},{\"hovertemplate\":\"<b>%{hovertext}</b><br><br>country=Tanzania<br>lifeExp=%{x}<br>pop=%{marker.size}<extra></extra>\",\"hovertext\":[\"Tanzania\"],\"legendgroup\":\"Tanzania\",\"marker\":{\"color\":\"#FF6692\",\"size\":[38139640],\"sizemode\":\"area\",\"sizeref\":37508.65666666667,\"symbol\":\"circle\"},\"mode\":\"markers\",\"name\":\"Tanzania\",\"orientation\":\"v\",\"showlegend\":true,\"x\":[52.517],\"xaxis\":\"x\",\"y\":[38139640],\"yaxis\":\"y\",\"type\":\"scatter\"},{\"hovertemplate\":\"<b>%{hovertext}</b><br><br>country=Togo<br>lifeExp=%{x}<br>pop=%{marker.size}<extra></extra>\",\"hovertext\":[\"Togo\"],\"legendgroup\":\"Togo\",\"marker\":{\"color\":\"#B6E880\",\"size\":[5701579],\"sizemode\":\"area\",\"sizeref\":37508.65666666667,\"symbol\":\"circle\"},\"mode\":\"markers\",\"name\":\"Togo\",\"orientation\":\"v\",\"showlegend\":true,\"x\":[58.42],\"xaxis\":\"x\",\"y\":[5701579],\"yaxis\":\"y\",\"type\":\"scatter\"},{\"hovertemplate\":\"<b>%{hovertext}</b><br><br>country=Tunisia<br>lifeExp=%{x}<br>pop=%{marker.size}<extra></extra>\",\"hovertext\":[\"Tunisia\"],\"legendgroup\":\"Tunisia\",\"marker\":{\"color\":\"#FF97FF\",\"size\":[10276158],\"sizemode\":\"area\",\"sizeref\":37508.65666666667,\"symbol\":\"circle\"},\"mode\":\"markers\",\"name\":\"Tunisia\",\"orientation\":\"v\",\"showlegend\":true,\"x\":[73.923],\"xaxis\":\"x\",\"y\":[10276158],\"yaxis\":\"y\",\"type\":\"scatter\"},{\"hovertemplate\":\"<b>%{hovertext}</b><br><br>country=Uganda<br>lifeExp=%{x}<br>pop=%{marker.size}<extra></extra>\",\"hovertext\":[\"Uganda\"],\"legendgroup\":\"Uganda\",\"marker\":{\"color\":\"#FECB52\",\"size\":[29170398],\"sizemode\":\"area\",\"sizeref\":37508.65666666667,\"symbol\":\"circle\"},\"mode\":\"markers\",\"name\":\"Uganda\",\"orientation\":\"v\",\"showlegend\":true,\"x\":[51.542],\"xaxis\":\"x\",\"y\":[29170398],\"yaxis\":\"y\",\"type\":\"scatter\"},{\"hovertemplate\":\"<b>%{hovertext}</b><br><br>country=Zambia<br>lifeExp=%{x}<br>pop=%{marker.size}<extra></extra>\",\"hovertext\":[\"Zambia\"],\"legendgroup\":\"Zambia\",\"marker\":{\"color\":\"#636efa\",\"size\":[11746035],\"sizemode\":\"area\",\"sizeref\":37508.65666666667,\"symbol\":\"circle\"},\"mode\":\"markers\",\"name\":\"Zambia\",\"orientation\":\"v\",\"showlegend\":true,\"x\":[42.38399999999999],\"xaxis\":\"x\",\"y\":[11746035],\"yaxis\":\"y\",\"type\":\"scatter\"},{\"hovertemplate\":\"<b>%{hovertext}</b><br><br>country=Zimbabwe<br>lifeExp=%{x}<br>pop=%{marker.size}<extra></extra>\",\"hovertext\":[\"Zimbabwe\"],\"legendgroup\":\"Zimbabwe\",\"marker\":{\"color\":\"#EF553B\",\"size\":[12311143],\"sizemode\":\"area\",\"sizeref\":37508.65666666667,\"symbol\":\"circle\"},\"mode\":\"markers\",\"name\":\"Zimbabwe\",\"orientation\":\"v\",\"showlegend\":true,\"x\":[43.487],\"xaxis\":\"x\",\"y\":[12311143],\"yaxis\":\"y\",\"type\":\"scatter\"}],                        {\"template\":{\"data\":{\"bar\":[{\"error_x\":{\"color\":\"#2a3f5f\"},\"error_y\":{\"color\":\"#2a3f5f\"},\"marker\":{\"line\":{\"color\":\"#E5ECF6\",\"width\":0.5},\"pattern\":{\"fillmode\":\"overlay\",\"size\":10,\"solidity\":0.2}},\"type\":\"bar\"}],\"barpolar\":[{\"marker\":{\"line\":{\"color\":\"#E5ECF6\",\"width\":0.5},\"pattern\":{\"fillmode\":\"overlay\",\"size\":10,\"solidity\":0.2}},\"type\":\"barpolar\"}],\"carpet\":[{\"aaxis\":{\"endlinecolor\":\"#2a3f5f\",\"gridcolor\":\"white\",\"linecolor\":\"white\",\"minorgridcolor\":\"white\",\"startlinecolor\":\"#2a3f5f\"},\"baxis\":{\"endlinecolor\":\"#2a3f5f\",\"gridcolor\":\"white\",\"linecolor\":\"white\",\"minorgridcolor\":\"white\",\"startlinecolor\":\"#2a3f5f\"},\"type\":\"carpet\"}],\"choropleth\":[{\"colorbar\":{\"outlinewidth\":0,\"ticks\":\"\"},\"type\":\"choropleth\"}],\"contour\":[{\"colorbar\":{\"outlinewidth\":0,\"ticks\":\"\"},\"colorscale\":[[0.0,\"#0d0887\"],[0.1111111111111111,\"#46039f\"],[0.2222222222222222,\"#7201a8\"],[0.3333333333333333,\"#9c179e\"],[0.4444444444444444,\"#bd3786\"],[0.5555555555555556,\"#d8576b\"],[0.6666666666666666,\"#ed7953\"],[0.7777777777777778,\"#fb9f3a\"],[0.8888888888888888,\"#fdca26\"],[1.0,\"#f0f921\"]],\"type\":\"contour\"}],\"contourcarpet\":[{\"colorbar\":{\"outlinewidth\":0,\"ticks\":\"\"},\"type\":\"contourcarpet\"}],\"heatmap\":[{\"colorbar\":{\"outlinewidth\":0,\"ticks\":\"\"},\"colorscale\":[[0.0,\"#0d0887\"],[0.1111111111111111,\"#46039f\"],[0.2222222222222222,\"#7201a8\"],[0.3333333333333333,\"#9c179e\"],[0.4444444444444444,\"#bd3786\"],[0.5555555555555556,\"#d8576b\"],[0.6666666666666666,\"#ed7953\"],[0.7777777777777778,\"#fb9f3a\"],[0.8888888888888888,\"#fdca26\"],[1.0,\"#f0f921\"]],\"type\":\"heatmap\"}],\"heatmapgl\":[{\"colorbar\":{\"outlinewidth\":0,\"ticks\":\"\"},\"colorscale\":[[0.0,\"#0d0887\"],[0.1111111111111111,\"#46039f\"],[0.2222222222222222,\"#7201a8\"],[0.3333333333333333,\"#9c179e\"],[0.4444444444444444,\"#bd3786\"],[0.5555555555555556,\"#d8576b\"],[0.6666666666666666,\"#ed7953\"],[0.7777777777777778,\"#fb9f3a\"],[0.8888888888888888,\"#fdca26\"],[1.0,\"#f0f921\"]],\"type\":\"heatmapgl\"}],\"histogram\":[{\"marker\":{\"pattern\":{\"fillmode\":\"overlay\",\"size\":10,\"solidity\":0.2}},\"type\":\"histogram\"}],\"histogram2d\":[{\"colorbar\":{\"outlinewidth\":0,\"ticks\":\"\"},\"colorscale\":[[0.0,\"#0d0887\"],[0.1111111111111111,\"#46039f\"],[0.2222222222222222,\"#7201a8\"],[0.3333333333333333,\"#9c179e\"],[0.4444444444444444,\"#bd3786\"],[0.5555555555555556,\"#d8576b\"],[0.6666666666666666,\"#ed7953\"],[0.7777777777777778,\"#fb9f3a\"],[0.8888888888888888,\"#fdca26\"],[1.0,\"#f0f921\"]],\"type\":\"histogram2d\"}],\"histogram2dcontour\":[{\"colorbar\":{\"outlinewidth\":0,\"ticks\":\"\"},\"colorscale\":[[0.0,\"#0d0887\"],[0.1111111111111111,\"#46039f\"],[0.2222222222222222,\"#7201a8\"],[0.3333333333333333,\"#9c179e\"],[0.4444444444444444,\"#bd3786\"],[0.5555555555555556,\"#d8576b\"],[0.6666666666666666,\"#ed7953\"],[0.7777777777777778,\"#fb9f3a\"],[0.8888888888888888,\"#fdca26\"],[1.0,\"#f0f921\"]],\"type\":\"histogram2dcontour\"}],\"mesh3d\":[{\"colorbar\":{\"outlinewidth\":0,\"ticks\":\"\"},\"type\":\"mesh3d\"}],\"parcoords\":[{\"line\":{\"colorbar\":{\"outlinewidth\":0,\"ticks\":\"\"}},\"type\":\"parcoords\"}],\"pie\":[{\"automargin\":true,\"type\":\"pie\"}],\"scatter\":[{\"marker\":{\"colorbar\":{\"outlinewidth\":0,\"ticks\":\"\"}},\"type\":\"scatter\"}],\"scatter3d\":[{\"line\":{\"colorbar\":{\"outlinewidth\":0,\"ticks\":\"\"}},\"marker\":{\"colorbar\":{\"outlinewidth\":0,\"ticks\":\"\"}},\"type\":\"scatter3d\"}],\"scattercarpet\":[{\"marker\":{\"colorbar\":{\"outlinewidth\":0,\"ticks\":\"\"}},\"type\":\"scattercarpet\"}],\"scattergeo\":[{\"marker\":{\"colorbar\":{\"outlinewidth\":0,\"ticks\":\"\"}},\"type\":\"scattergeo\"}],\"scattergl\":[{\"marker\":{\"colorbar\":{\"outlinewidth\":0,\"ticks\":\"\"}},\"type\":\"scattergl\"}],\"scattermapbox\":[{\"marker\":{\"colorbar\":{\"outlinewidth\":0,\"ticks\":\"\"}},\"type\":\"scattermapbox\"}],\"scatterpolar\":[{\"marker\":{\"colorbar\":{\"outlinewidth\":0,\"ticks\":\"\"}},\"type\":\"scatterpolar\"}],\"scatterpolargl\":[{\"marker\":{\"colorbar\":{\"outlinewidth\":0,\"ticks\":\"\"}},\"type\":\"scatterpolargl\"}],\"scatterternary\":[{\"marker\":{\"colorbar\":{\"outlinewidth\":0,\"ticks\":\"\"}},\"type\":\"scatterternary\"}],\"surface\":[{\"colorbar\":{\"outlinewidth\":0,\"ticks\":\"\"},\"colorscale\":[[0.0,\"#0d0887\"],[0.1111111111111111,\"#46039f\"],[0.2222222222222222,\"#7201a8\"],[0.3333333333333333,\"#9c179e\"],[0.4444444444444444,\"#bd3786\"],[0.5555555555555556,\"#d8576b\"],[0.6666666666666666,\"#ed7953\"],[0.7777777777777778,\"#fb9f3a\"],[0.8888888888888888,\"#fdca26\"],[1.0,\"#f0f921\"]],\"type\":\"surface\"}],\"table\":[{\"cells\":{\"fill\":{\"color\":\"#EBF0F8\"},\"line\":{\"color\":\"white\"}},\"header\":{\"fill\":{\"color\":\"#C8D4E3\"},\"line\":{\"color\":\"white\"}},\"type\":\"table\"}]},\"layout\":{\"annotationdefaults\":{\"arrowcolor\":\"#2a3f5f\",\"arrowhead\":0,\"arrowwidth\":1},\"autotypenumbers\":\"strict\",\"coloraxis\":{\"colorbar\":{\"outlinewidth\":0,\"ticks\":\"\"}},\"colorscale\":{\"diverging\":[[0,\"#8e0152\"],[0.1,\"#c51b7d\"],[0.2,\"#de77ae\"],[0.3,\"#f1b6da\"],[0.4,\"#fde0ef\"],[0.5,\"#f7f7f7\"],[0.6,\"#e6f5d0\"],[0.7,\"#b8e186\"],[0.8,\"#7fbc41\"],[0.9,\"#4d9221\"],[1,\"#276419\"]],\"sequential\":[[0.0,\"#0d0887\"],[0.1111111111111111,\"#46039f\"],[0.2222222222222222,\"#7201a8\"],[0.3333333333333333,\"#9c179e\"],[0.4444444444444444,\"#bd3786\"],[0.5555555555555556,\"#d8576b\"],[0.6666666666666666,\"#ed7953\"],[0.7777777777777778,\"#fb9f3a\"],[0.8888888888888888,\"#fdca26\"],[1.0,\"#f0f921\"]],\"sequentialminus\":[[0.0,\"#0d0887\"],[0.1111111111111111,\"#46039f\"],[0.2222222222222222,\"#7201a8\"],[0.3333333333333333,\"#9c179e\"],[0.4444444444444444,\"#bd3786\"],[0.5555555555555556,\"#d8576b\"],[0.6666666666666666,\"#ed7953\"],[0.7777777777777778,\"#fb9f3a\"],[0.8888888888888888,\"#fdca26\"],[1.0,\"#f0f921\"]]},\"colorway\":[\"#636efa\",\"#EF553B\",\"#00cc96\",\"#ab63fa\",\"#FFA15A\",\"#19d3f3\",\"#FF6692\",\"#B6E880\",\"#FF97FF\",\"#FECB52\"],\"font\":{\"color\":\"#2a3f5f\"},\"geo\":{\"bgcolor\":\"white\",\"lakecolor\":\"white\",\"landcolor\":\"#E5ECF6\",\"showlakes\":true,\"showland\":true,\"subunitcolor\":\"white\"},\"hoverlabel\":{\"align\":\"left\"},\"hovermode\":\"closest\",\"mapbox\":{\"style\":\"light\"},\"paper_bgcolor\":\"white\",\"plot_bgcolor\":\"#E5ECF6\",\"polar\":{\"angularaxis\":{\"gridcolor\":\"white\",\"linecolor\":\"white\",\"ticks\":\"\"},\"bgcolor\":\"#E5ECF6\",\"radialaxis\":{\"gridcolor\":\"white\",\"linecolor\":\"white\",\"ticks\":\"\"}},\"scene\":{\"xaxis\":{\"backgroundcolor\":\"#E5ECF6\",\"gridcolor\":\"white\",\"gridwidth\":2,\"linecolor\":\"white\",\"showbackground\":true,\"ticks\":\"\",\"zerolinecolor\":\"white\"},\"yaxis\":{\"backgroundcolor\":\"#E5ECF6\",\"gridcolor\":\"white\",\"gridwidth\":2,\"linecolor\":\"white\",\"showbackground\":true,\"ticks\":\"\",\"zerolinecolor\":\"white\"},\"zaxis\":{\"backgroundcolor\":\"#E5ECF6\",\"gridcolor\":\"white\",\"gridwidth\":2,\"linecolor\":\"white\",\"showbackground\":true,\"ticks\":\"\",\"zerolinecolor\":\"white\"}},\"shapedefaults\":{\"line\":{\"color\":\"#2a3f5f\"}},\"ternary\":{\"aaxis\":{\"gridcolor\":\"white\",\"linecolor\":\"white\",\"ticks\":\"\"},\"baxis\":{\"gridcolor\":\"white\",\"linecolor\":\"white\",\"ticks\":\"\"},\"bgcolor\":\"#E5ECF6\",\"caxis\":{\"gridcolor\":\"white\",\"linecolor\":\"white\",\"ticks\":\"\"}},\"title\":{\"x\":0.05},\"xaxis\":{\"automargin\":true,\"gridcolor\":\"white\",\"linecolor\":\"white\",\"ticks\":\"\",\"title\":{\"standoff\":15},\"zerolinecolor\":\"white\",\"zerolinewidth\":2},\"yaxis\":{\"automargin\":true,\"gridcolor\":\"white\",\"linecolor\":\"white\",\"ticks\":\"\",\"title\":{\"standoff\":15},\"zerolinecolor\":\"white\",\"zerolinewidth\":2}}},\"xaxis\":{\"anchor\":\"y\",\"domain\":[0.0,1.0],\"title\":{\"text\":\"lifeExp\"},\"type\":\"log\"},\"yaxis\":{\"anchor\":\"x\",\"domain\":[0.0,1.0],\"title\":{\"text\":\"pop\"}},\"legend\":{\"title\":{\"text\":\"country\"},\"tracegroupgap\":0,\"itemsizing\":\"constant\"},\"margin\":{\"t\":60}},                        {\"responsive\": true}                    ).then(function(){\n",
       "                            \n",
       "var gd = document.getElementById('e27907fa-7c73-425a-9727-3518f95876c9');\n",
       "var x = new MutationObserver(function (mutations, observer) {{\n",
       "        var display = window.getComputedStyle(gd).display;\n",
       "        if (!display || display === 'none') {{\n",
       "            console.log([gd, 'removed!']);\n",
       "            Plotly.purge(gd);\n",
       "            observer.disconnect();\n",
       "        }}\n",
       "}});\n",
       "\n",
       "// Listen for the removal of the full notebook cells\n",
       "var notebookContainer = gd.closest('#notebook-container');\n",
       "if (notebookContainer) {{\n",
       "    x.observe(notebookContainer, {childList: true});\n",
       "}}\n",
       "\n",
       "// Listen for the clearing of the current output cell\n",
       "var outputEl = gd.closest('.output');\n",
       "if (outputEl) {{\n",
       "    x.observe(outputEl, {childList: true});\n",
       "}}\n",
       "\n",
       "                        })                };                });            </script>        </div>"
      ]
     },
     "metadata": {},
     "output_type": "display_data"
    }
   ],
   "source": [
    "fig = px.scatter(Assign6f.query(\"year==2007\"), x=\"lifeExp\", y=\"pop\",\n",
    "\t         size=\"pop\", color=\"country\",\n",
    "                 hover_name=\"country\", log_x=True, size_max=60)\n",
    "fig.show()"
   ]
  },
  {
   "cell_type": "code",
   "execution_count": null,
   "id": "524258ff",
   "metadata": {},
   "outputs": [],
   "source": []
  }
 ],
 "metadata": {
  "kernelspec": {
   "display_name": "Python 3 (ipykernel)",
   "language": "python",
   "name": "python3"
  },
  "language_info": {
   "codemirror_mode": {
    "name": "ipython",
    "version": 3
   },
   "file_extension": ".py",
   "mimetype": "text/x-python",
   "name": "python",
   "nbconvert_exporter": "python",
   "pygments_lexer": "ipython3",
   "version": "3.9.12"
  }
 },
 "nbformat": 4,
 "nbformat_minor": 5
}
