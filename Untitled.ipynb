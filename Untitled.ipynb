{
 "cells": [
  {
   "cell_type": "markdown",
   "id": "7d7a48f8",
   "metadata": {},
   "source": [
    "# ADS Data Visualization Assignment 6."
   ]
  },
  {
   "cell_type": "markdown",
   "id": "6f7e5467",
   "metadata": {},
   "source": [
    "# Using Plotly express as px, source the data using the command px.data.gapminder() and save it into a dataframe. Based on the data, map the following information with the appropriate geographical plot. Map out:"
   ]
  }
 ],
 "metadata": {
  "kernelspec": {
   "display_name": "Python 3 (ipykernel)",
   "language": "python",
   "name": "python3"
  },
  "language_info": {
   "codemirror_mode": {
    "name": "ipython",
    "version": 3
   },
   "file_extension": ".py",
   "mimetype": "text/x-python",
   "name": "python",
   "nbconvert_exporter": "python",
   "pygments_lexer": "ipython3",
   "version": "3.9.12"
  }
 },
 "nbformat": 4,
 "nbformat_minor": 5
}
